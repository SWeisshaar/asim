{
 "cells": [
  {
   "cell_type": "code",
   "execution_count": 1,
   "id": "932c6c44",
   "metadata": {},
   "outputs": [
    {
     "name": "stdout",
     "output_type": "stream",
     "text": [
      "Obtaining file:///E:/Git/asim\n",
      "Requirement already satisfied: numpy in c:\\users\\steffen\\anaconda3\\lib\\site-packages (from geneticalgo==0.0.1.dev1) (1.20.2+mkl)\n",
      "Installing collected packages: geneticalgo\n",
      "  Attempting uninstall: geneticalgo\n",
      "    Found existing installation: geneticalgo 0.0.1.dev1\n",
      "    Uninstalling geneticalgo-0.0.1.dev1:\n",
      "      Successfully uninstalled geneticalgo-0.0.1.dev1\n",
      "  Running setup.py develop for geneticalgo\n",
      "Successfully installed geneticalgo-0.0.1.dev1\n"
     ]
    }
   ],
   "source": [
    "!pip install -e .."
   ]
  },
  {
   "cell_type": "code",
   "execution_count": 2,
   "id": "ae682c8c",
   "metadata": {},
   "outputs": [
    {
     "name": "stderr",
     "output_type": "stream",
     "text": [
      "C:\\Users\\Steffen\\anaconda3\\lib\\site-packages\\ta\\trend.py:769: RuntimeWarning: invalid value encountered in double_scalars\n",
      "  dip[idx] = 100 * (self._dip[idx] / value)\n",
      "C:\\Users\\Steffen\\anaconda3\\lib\\site-packages\\ta\\trend.py:774: RuntimeWarning: invalid value encountered in double_scalars\n",
      "  din[idx] = 100 * (self._din[idx] / value)\n"
     ]
    },
    {
     "name": "stdout",
     "output_type": "stream",
     "text": [
      "The number of indicators in the genome is 22\n"
     ]
    }
   ],
   "source": [
    "import geneticalgo as ga\n",
    "import pandas as pd\n",
    "import numpy as np\n",
    "from matplotlib import pyplot as plt"
   ]
  },
  {
   "cell_type": "code",
   "execution_count": 3,
   "id": "70f7ec52",
   "metadata": {},
   "outputs": [],
   "source": [
    "# define the total iterations\n",
    "n_iter = 100\n",
    "# bits\n",
    "n_bits = 22\n",
    "# define the population size, needs to be even\n",
    "n_pop = 20\n",
    "# crossover rate\n",
    "r_cross = 0.9\n",
    "# mutation rate\n",
    "r_mut = 1.0 / float(n_bits)"
   ]
  },
  {
   "cell_type": "code",
   "execution_count": 4,
   "id": "11c871d3",
   "metadata": {},
   "outputs": [
    {
     "name": "stdout",
     "output_type": "stream",
     "text": [
      ">Generation 0\n",
      "Genome: [0, 0, 0, 0, 1, 0, 0, 1, 0, 1, 1, 0, 1, 0, 0, 0, 0, 1, 1, 1, 1, 1] with final porfolio value: 152.35592536330353\n",
      "Genome: [0, 0, 1, 0, 0, 1, 1, 1, 0, 0, 1, 0, 0, 0, 0, 1, 0, 0, 1, 1, 1, 1] with final porfolio value: 157.97242659056587\n",
      "Genome: [0, 1, 0, 0, 0, 0, 1, 0, 0, 1, 1, 1, 0, 1, 1, 1, 0, 1, 1, 1, 1, 0] with final porfolio value: 150.7869790507084\n",
      ">0, new best f([0, 0, 0, 0, 1, 0, 0, 1, 0, 1, 1, 0, 1, 0, 0, 0, 0, 1, 1, 1, 1, 1]) = 152.356\n",
      ">0, new best f([0, 0, 1, 0, 0, 1, 1, 1, 0, 0, 1, 0, 0, 0, 0, 1, 0, 0, 1, 1, 1, 1]) = 157.972\n",
      ">Generation 1\n",
      ">Generation 2\n",
      "Genome: [1, 0, 0, 0, 1, 0, 0, 0, 0, 1, 1, 0, 0, 0, 1, 1, 0, 0, 0, 0, 1, 1] with final porfolio value: 156.54551689939868\n",
      "Genome: [0, 1, 0, 1, 0, 0, 0, 1, 0, 1, 0, 0, 0, 1, 1, 1, 1, 1, 1, 1, 1, 0] with final porfolio value: 154.73106818946758\n",
      ">Generation 3\n",
      "Genome: [1, 1, 1, 0, 0, 0, 0, 1, 0, 0, 0, 0, 0, 1, 0, 0, 1, 1, 1, 1, 1, 0] with final porfolio value: 150.90057505117775\n",
      ">Generation 4\n",
      ">Generation 5\n",
      ">Generation 6\n",
      ">Generation 7\n",
      ">Generation 8\n",
      ">Generation 9\n",
      "Genome: [0, 0, 0, 1, 1, 0, 0, 1, 1, 1, 0, 1, 1, 1, 1, 1, 1, 1, 1, 1, 0, 0] with final porfolio value: 153.88903404997836\n",
      ">Generation 10\n",
      "Genome: [0, 0, 1, 0, 1, 0, 0, 1, 0, 1, 0, 0, 0, 1, 1, 1, 1, 1, 1, 1, 0, 0] with final porfolio value: 151.20663061650197\n",
      ">Generation 11\n",
      ">Generation 12\n",
      ">Generation 13\n",
      ">Generation 14\n",
      "Genome: [1, 0, 0, 1, 0, 0, 1, 1, 0, 0, 0, 0, 0, 1, 1, 1, 1, 1, 1, 1, 0, 0] with final porfolio value: 151.20663061650197\n",
      ">Generation 15\n",
      "Genome: [1, 0, 0, 0, 0, 0, 1, 1, 1, 1, 0, 0, 1, 1, 1, 1, 1, 0, 1, 1, 0, 0] with final porfolio value: 154.07941950540015\n",
      "Genome: [1, 0, 0, 0, 0, 1, 0, 1, 0, 0, 0, 1, 0, 1, 1, 1, 1, 1, 1, 1, 1, 0] with final porfolio value: 156.03381296619844\n",
      ">Generation 16\n",
      ">Generation 17\n",
      "Genome: [1, 0, 0, 1, 0, 0, 0, 1, 0, 1, 0, 0, 1, 0, 1, 1, 1, 1, 1, 1, 0, 1] with final porfolio value: 151.28751649807305\n",
      ">Generation 18\n",
      ">Generation 19\n",
      ">Generation 20\n",
      ">Generation 21\n",
      ">Generation 22\n",
      ">Generation 23\n",
      ">Generation 24\n",
      ">Generation 25\n",
      ">Generation 26\n",
      ">Generation 27\n",
      ">Generation 28\n",
      ">Generation 29\n",
      "Genome: [1, 1, 0, 1, 0, 0, 1, 0, 0, 1, 0, 0, 0, 0, 1, 0, 0, 1, 1, 1, 1, 0] with final porfolio value: 152.05992509363296\n",
      "Genome: [0, 0, 1, 1, 0, 0, 0, 1, 0, 1, 0, 0, 0, 1, 0, 0, 1, 1, 1, 1, 1, 0] with final porfolio value: 150.90057505117775\n",
      ">Generation 30\n",
      "Genome: [0, 0, 0, 0, 1, 0, 0, 1, 0, 1, 0, 0, 1, 0, 1, 0, 1, 1, 1, 1, 1, 0] with final porfolio value: 150.0506543264948\n",
      "Genome: [0, 0, 0, 0, 1, 0, 0, 1, 0, 1, 1, 1, 0, 1, 0, 1, 1, 1, 1, 1, 1, 0] with final porfolio value: 150.90057505117775\n",
      ">Generation 31\n",
      "Genome: [0, 0, 0, 0, 1, 1, 0, 1, 0, 0, 1, 0, 1, 1, 1, 0, 1, 0, 1, 1, 0, 0] with final porfolio value: 163.67901404527427\n",
      ">31, new best f([0, 0, 0, 0, 1, 1, 0, 1, 0, 0, 1, 0, 1, 1, 1, 0, 1, 0, 1, 1, 0, 0]) = 163.679\n",
      ">Generation 32\n",
      "Genome: [0, 0, 0, 0, 0, 0, 0, 1, 0, 0, 1, 0, 0, 1, 1, 0, 1, 0, 0, 0, 1, 0] with final porfolio value: 165.4443038733849\n",
      ">32, new best f([0, 0, 0, 0, 0, 0, 0, 1, 0, 0, 1, 0, 0, 1, 1, 0, 1, 0, 0, 0, 1, 0]) = 165.444\n",
      ">Generation 33\n",
      ">Generation 34\n",
      "Genome: [0, 0, 0, 0, 0, 1, 1, 0, 0, 0, 0, 1, 0, 0, 1, 1, 0, 1, 1, 1, 1, 0] with final porfolio value: 150.7869790507084\n",
      "Genome: [0, 0, 0, 0, 0, 0, 0, 1, 0, 1, 1, 0, 0, 0, 1, 1, 1, 1, 1, 1, 0, 0] with final porfolio value: 154.44747442012485\n",
      "Genome: [1, 0, 0, 0, 0, 1, 0, 1, 0, 0, 0, 1, 0, 0, 1, 1, 0, 1, 1, 1, 1, 0] with final porfolio value: 159.03812510062536\n",
      ">Generation 35\n",
      "Genome: [0, 0, 1, 0, 0, 0, 0, 1, 0, 0, 0, 1, 1, 1, 1, 0, 1, 0, 1, 1, 1, 0] with final porfolio value: 151.90574082640626\n",
      ">Generation 36\n",
      ">Generation 37\n",
      ">Generation 38\n",
      ">Generation 39\n",
      ">Generation 40\n",
      "Genome: [0, 0, 0, 0, 0, 0, 0, 0, 1, 1, 1, 0, 0, 0, 1, 0, 1, 1, 0, 0, 1, 0] with final porfolio value: 165.66932218951555\n",
      ">40, new best f([0, 0, 0, 0, 0, 0, 0, 0, 1, 1, 1, 0, 0, 0, 1, 0, 1, 1, 0, 0, 1, 0]) = 165.669\n",
      ">Generation 41\n",
      ">Generation 42\n",
      ">Generation 43\n",
      ">Generation 44\n",
      ">Generation 45\n",
      "Genome: [0, 0, 1, 0, 0, 1, 0, 1, 0, 1, 1, 0, 0, 0, 1, 0, 1, 0, 0, 1, 1, 1] with final porfolio value: 151.30274477673086\n",
      "Genome: [0, 1, 1, 0, 0, 1, 0, 1, 0, 0, 0, 1, 0, 0, 1, 1, 1, 0, 0, 1, 1, 1] with final porfolio value: 151.30274477673086\n",
      ">Generation 46\n",
      "Genome: [0, 0, 0, 0, 0, 1, 0, 1, 0, 1, 1, 0, 0, 1, 0, 1, 1, 1, 1, 1, 1, 0] with final porfolio value: 150.90057505117775\n",
      ">Generation 47\n",
      "Genome: [0, 0, 1, 1, 1, 1, 0, 0, 0, 0, 1, 0, 0, 0, 1, 0, 1, 1, 0, 0, 0, 0] with final porfolio value: 150.5621122482741\n",
      ">Generation 48\n",
      ">Generation 49\n",
      "Genome: [0, 0, 1, 0, 0, 1, 0, 1, 0, 1, 0, 0, 0, 1, 0, 1, 1, 1, 1, 0, 1, 0] with final porfolio value: 150.90057505117775\n",
      ">Generation 50\n",
      ">Generation 51\n",
      "Genome: [0, 0, 0, 1, 0, 1, 0, 1, 0, 0, 1, 0, 0, 1, 0, 1, 1, 1, 1, 0, 1, 0] with final porfolio value: 150.90057505117775\n",
      "Genome: [0, 0, 1, 0, 0, 1, 0, 1, 0, 0, 0, 0, 0, 1, 0, 1, 1, 1, 1, 0, 1, 0] with final porfolio value: 150.90057505117775\n",
      ">Generation 52\n",
      "Genome: [0, 0, 1, 0, 0, 1, 0, 1, 0, 0, 1, 0, 0, 1, 0, 1, 1, 1, 1, 0, 1, 0] with final porfolio value: 150.90057505117775\n",
      ">Generation 53\n",
      ">Generation 54\n",
      "Genome: [0, 0, 1, 0, 1, 1, 0, 0, 0, 0, 1, 1, 0, 1, 0, 1, 0, 1, 1, 0, 1, 0] with final porfolio value: 155.5843626665986\n",
      "Genome: [0, 0, 1, 1, 1, 1, 0, 0, 0, 0, 1, 0, 0, 1, 0, 1, 1, 0, 1, 0, 1, 0] with final porfolio value: 155.94374214784867\n",
      ">Generation 55\n",
      ">Generation 56\n",
      "Genome: [0, 0, 1, 0, 0, 1, 0, 1, 0, 0, 1, 0, 0, 1, 0, 1, 1, 1, 1, 0, 1, 0] with final porfolio value: 150.90057505117775\n",
      "Genome: [0, 0, 1, 0, 1, 1, 0, 1, 0, 0, 0, 0, 0, 1, 0, 1, 1, 1, 1, 0, 1, 0] with final porfolio value: 150.90057505117775\n",
      ">Generation 57\n",
      "Genome: [0, 0, 0, 0, 1, 1, 0, 1, 1, 0, 1, 0, 0, 1, 0, 1, 1, 1, 1, 1, 1, 0] with final porfolio value: 150.90057505117775\n",
      ">Generation 58\n",
      ">Generation 59\n",
      "Genome: [0, 0, 1, 0, 0, 1, 0, 1, 0, 0, 0, 1, 0, 1, 0, 1, 1, 1, 1, 0, 1, 0] with final porfolio value: 150.90057505117775\n",
      "Genome: [0, 0, 1, 1, 1, 0, 0, 0, 0, 0, 1, 1, 0, 1, 0, 1, 1, 1, 0, 0, 1, 0] with final porfolio value: 155.94374214784867\n",
      "Genome: [0, 0, 1, 0, 1, 1, 0, 1, 0, 0, 1, 0, 0, 1, 0, 1, 1, 1, 1, 1, 1, 0] with final porfolio value: 150.90057505117775\n",
      ">Generation 60\n",
      "Genome: [0, 0, 1, 0, 1, 1, 1, 1, 0, 0, 0, 0, 0, 1, 0, 1, 1, 1, 1, 1, 1, 0] with final porfolio value: 150.90057505117775\n",
      ">Generation 61\n",
      ">Generation 62\n",
      "Genome: [0, 0, 1, 0, 1, 1, 0, 1, 1, 0, 0, 0, 0, 1, 0, 1, 1, 1, 1, 1, 1, 0] with final porfolio value: 150.90057505117775\n",
      ">Generation 63\n",
      "Genome: [0, 0, 1, 0, 0, 1, 0, 1, 0, 0, 1, 0, 0, 1, 0, 1, 1, 1, 1, 0, 1, 0] with final porfolio value: 150.90057505117775\n",
      "Genome: [0, 0, 1, 0, 0, 1, 0, 1, 1, 0, 0, 0, 0, 1, 0, 1, 1, 1, 1, 0, 1, 0] with final porfolio value: 150.90057505117775\n",
      ">Generation 64\n",
      "Genome: [0, 0, 0, 0, 0, 0, 0, 1, 0, 0, 1, 1, 0, 1, 0, 1, 1, 1, 1, 0, 1, 0] with final porfolio value: 150.90057505117775\n",
      "Genome: [0, 0, 0, 0, 1, 1, 1, 1, 0, 0, 0, 0, 0, 1, 0, 1, 1, 0, 1, 0, 0, 0] with final porfolio value: 151.92259463754814\n",
      ">Generation 65\n",
      "Genome: [0, 0, 1, 0, 0, 1, 0, 1, 0, 0, 1, 0, 0, 1, 0, 1, 1, 1, 1, 1, 1, 1] with final porfolio value: 150.90057505117775\n",
      "Genome: [0, 0, 1, 0, 0, 1, 0, 1, 0, 0, 0, 1, 0, 1, 0, 1, 1, 1, 1, 0, 1, 0] with final porfolio value: 150.90057505117775\n",
      ">Generation 66\n",
      "Genome: [0, 0, 0, 0, 1, 0, 0, 0, 1, 0, 0, 0, 0, 1, 0, 1, 1, 1, 1, 1, 1, 1] with final porfolio value: 162.96436503213954\n",
      "Genome: [0, 0, 0, 0, 0, 1, 0, 1, 0, 0, 1, 0, 0, 1, 0, 1, 1, 0, 1, 0, 1, 0] with final porfolio value: 160.64275773894903\n",
      ">Generation 67\n",
      "Genome: [0, 1, 1, 0, 0, 1, 0, 0, 1, 0, 1, 0, 1, 1, 0, 0, 0, 1, 1, 0, 1, 0] with final porfolio value: 152.05992509363296\n",
      "Genome: [0, 0, 0, 0, 1, 0, 0, 0, 1, 0, 0, 0, 0, 1, 0, 1, 1, 1, 1, 1, 1, 0] with final porfolio value: 162.96436503213954\n",
      "Genome: [0, 0, 1, 0, 0, 0, 0, 1, 0, 0, 1, 0, 0, 1, 0, 1, 1, 0, 1, 1, 1, 0] with final porfolio value: 150.90057505117775\n",
      ">Generation 68\n",
      "Genome: [0, 0, 1, 0, 0, 1, 0, 1, 0, 0, 1, 0, 0, 1, 0, 1, 1, 0, 1, 1, 1, 0] with final porfolio value: 156.86607642614908\n",
      "Genome: [1, 0, 1, 1, 0, 0, 0, 1, 0, 0, 0, 0, 0, 1, 0, 1, 1, 1, 1, 1, 1, 0] with final porfolio value: 150.90057505117775\n",
      ">Generation 69\n",
      "Genome: [0, 0, 0, 0, 0, 0, 0, 1, 0, 1, 1, 0, 0, 1, 0, 1, 1, 0, 1, 0, 1, 0] with final porfolio value: 157.75340186082573\n",
      ">Generation 70\n",
      ">Generation 71\n",
      "Genome: [0, 0, 0, 1, 0, 0, 0, 1, 0, 0, 0, 0, 1, 1, 0, 1, 1, 0, 1, 0, 1, 1] with final porfolio value: 151.0457432352154\n"
     ]
    },
    {
     "name": "stdout",
     "output_type": "stream",
     "text": [
      "Genome: [0, 0, 1, 1, 0, 0, 0, 1, 0, 0, 0, 0, 1, 1, 0, 1, 1, 0, 1, 0, 1, 1] with final porfolio value: 151.0457432352154\n",
      ">Generation 72\n",
      ">Generation 73\n",
      "Genome: [0, 0, 1, 0, 0, 1, 0, 1, 0, 0, 1, 0, 0, 1, 0, 1, 1, 0, 1, 1, 1, 0] with final porfolio value: 156.86607642614908\n",
      "Genome: [0, 0, 1, 1, 1, 0, 0, 1, 0, 0, 1, 0, 0, 1, 0, 1, 1, 0, 0, 0, 1, 0] with final porfolio value: 155.94374214784867\n",
      "Genome: [1, 0, 1, 1, 1, 0, 0, 1, 0, 0, 1, 0, 0, 1, 0, 1, 0, 1, 0, 0, 1, 0] with final porfolio value: 155.94374214784867\n",
      ">Generation 74\n",
      "Genome: [0, 0, 1, 1, 1, 0, 0, 1, 0, 0, 1, 0, 0, 1, 0, 1, 0, 0, 1, 0, 1, 0] with final porfolio value: 155.94374214784867\n",
      ">Generation 75\n",
      ">Generation 76\n",
      ">Generation 77\n",
      ">Generation 78\n",
      ">Generation 79\n",
      "Genome: [0, 0, 1, 1, 1, 0, 0, 0, 0, 0, 1, 0, 0, 0, 0, 0, 0, 0, 1, 1, 0, 1] with final porfolio value: 150.5621122482741\n",
      "Genome: [0, 1, 1, 1, 1, 0, 0, 1, 0, 0, 1, 0, 0, 0, 1, 1, 0, 1, 0, 0, 1, 0] with final porfolio value: 150.4603857051078\n",
      ">Generation 80\n",
      "Genome: [0, 0, 1, 1, 1, 0, 0, 1, 0, 0, 1, 1, 0, 0, 0, 1, 1, 1, 0, 0, 1, 0] with final porfolio value: 155.94374214784867\n",
      "Genome: [0, 0, 1, 0, 0, 1, 0, 1, 0, 0, 1, 0, 0, 0, 0, 1, 1, 1, 1, 1, 1, 0] with final porfolio value: 161.4056930049464\n",
      "Genome: [0, 0, 1, 0, 1, 1, 0, 1, 0, 0, 1, 0, 0, 0, 0, 1, 0, 1, 0, 0, 1, 0] with final porfolio value: 160.60649874608913\n",
      "Genome: [0, 0, 1, 1, 1, 0, 1, 0, 0, 0, 1, 0, 0, 0, 1, 1, 0, 1, 1, 1, 1, 1] with final porfolio value: 152.05992509363296\n",
      ">Generation 81\n",
      ">Generation 82\n",
      "Genome: [0, 0, 1, 0, 1, 1, 0, 1, 0, 0, 0, 0, 0, 1, 0, 1, 1, 1, 1, 1, 1, 1] with final porfolio value: 150.90057505117775\n",
      ">Generation 83\n",
      "Genome: [0, 0, 1, 0, 1, 0, 0, 1, 0, 1, 0, 0, 0, 1, 0, 1, 1, 1, 1, 1, 1, 1] with final porfolio value: 150.90057505117775\n",
      "Genome: [0, 0, 1, 0, 0, 1, 0, 1, 0, 0, 1, 0, 1, 0, 1, 1, 1, 1, 1, 1, 0, 0] with final porfolio value: 152.5902612748039\n",
      "Genome: [0, 0, 1, 0, 1, 1, 0, 1, 0, 0, 1, 0, 0, 1, 0, 1, 1, 1, 1, 1, 1, 0] with final porfolio value: 150.90057505117775\n",
      ">Generation 84\n",
      "Genome: [0, 0, 0, 0, 1, 1, 0, 1, 0, 0, 1, 0, 0, 1, 0, 1, 1, 1, 1, 1, 1, 1] with final porfolio value: 150.90057505117775\n",
      "Genome: [0, 0, 1, 1, 1, 0, 0, 1, 0, 0, 0, 0, 0, 1, 1, 1, 1, 1, 1, 1, 1, 0] with final porfolio value: 154.73106818946758\n",
      ">Generation 85\n",
      "Genome: [0, 0, 1, 0, 1, 0, 0, 1, 0, 0, 1, 0, 0, 1, 0, 1, 1, 1, 1, 1, 1, 1] with final porfolio value: 150.90057505117775\n",
      "Genome: [0, 0, 0, 0, 1, 0, 0, 1, 0, 0, 1, 0, 0, 1, 0, 1, 1, 1, 1, 0, 1, 1] with final porfolio value: 150.90057505117775\n",
      ">Generation 86\n",
      "Genome: [0, 0, 0, 0, 1, 0, 0, 1, 0, 1, 1, 0, 0, 1, 0, 1, 1, 1, 1, 1, 1, 1] with final porfolio value: 150.90057505117775\n",
      ">Generation 87\n",
      "Genome: [0, 0, 1, 0, 0, 0, 0, 1, 0, 0, 1, 0, 0, 1, 0, 1, 1, 1, 1, 1, 1, 1] with final porfolio value: 150.90057505117775\n",
      "Genome: [0, 0, 1, 0, 1, 1, 0, 0, 0, 0, 1, 0, 0, 1, 0, 0, 0, 1, 1, 1, 1, 0] with final porfolio value: 152.9019592331222\n",
      ">Generation 88\n",
      ">Generation 89\n",
      "Genome: [0, 0, 1, 0, 1, 0, 1, 0, 0, 0, 0, 0, 0, 1, 0, 1, 0, 0, 1, 1, 0, 1] with final porfolio value: 151.1072884993518\n",
      ">Generation 90\n",
      ">Generation 91\n",
      ">Generation 92\n",
      "Genome: [0, 0, 1, 0, 1, 1, 0, 1, 0, 0, 0, 0, 0, 1, 0, 1, 1, 1, 1, 1, 1, 0] with final porfolio value: 150.90057505117775\n",
      ">Generation 93\n",
      "Genome: [0, 0, 1, 1, 1, 0, 0, 1, 0, 0, 0, 0, 0, 1, 0, 1, 1, 1, 1, 1, 1, 1] with final porfolio value: 150.90057505117775\n",
      ">Generation 94\n",
      "Genome: [0, 0, 1, 1, 1, 0, 0, 1, 0, 0, 0, 0, 0, 1, 0, 1, 1, 1, 1, 1, 1, 0] with final porfolio value: 150.90057505117775\n",
      "Genome: [0, 0, 1, 0, 0, 0, 0, 1, 0, 0, 1, 0, 0, 1, 0, 1, 1, 1, 1, 1, 1, 1] with final porfolio value: 150.90057505117775\n",
      ">Generation 95\n",
      "Genome: [0, 0, 0, 1, 1, 0, 1, 1, 0, 0, 0, 0, 0, 1, 0, 1, 1, 1, 1, 1, 1, 1] with final porfolio value: 150.90057505117775\n",
      ">Generation 96\n",
      ">Generation 97\n",
      ">Generation 98\n",
      "Genome: [0, 0, 1, 0, 1, 0, 1, 0, 0, 0, 0, 0, 0, 1, 0, 1, 0, 1, 1, 0, 1, 1] with final porfolio value: 155.5843626665986\n",
      ">Generation 99\n",
      "Genome: [0, 0, 1, 0, 1, 0, 0, 1, 0, 0, 1, 0, 0, 0, 0, 0, 1, 0, 0, 1, 1, 0] with final porfolio value: 153.26133871437227\n",
      "Done!\n",
      "f([0, 0, 0, 0, 0, 0, 0, 0, 1, 1, 1, 0, 0, 0, 1, 0, 1, 1, 0, 0, 1, 0]) = 165.669322\n"
     ]
    }
   ],
   "source": [
    "# perform the genetic algorithm search\n",
    "best, score, encoding, progress = ga.genetic.genetic_algorithm(ga.genetic.fitness, n_bits, n_iter, n_pop, r_cross, r_mut)\n",
    "print('Done!')\n",
    "print('f(%s) = %f' % (best, score))"
   ]
  },
  {
   "cell_type": "code",
   "execution_count": 5,
   "id": "4b779a1f",
   "metadata": {},
   "outputs": [
    {
     "data": {
      "text/plain": [
       "['price_lbb_cross_20_2',\n",
       " 'price_lbb_cross_50_2.1',\n",
       " 'price_lbb_cross_10_1.9',\n",
       " 'price_sma_40_cross',\n",
       " 'price_sma_100_cross',\n",
       " 'price_ema_20_50_cross',\n",
       " 'adx']"
      ]
     },
     "execution_count": 5,
     "metadata": {},
     "output_type": "execute_result"
    }
   ],
   "source": [
    "ga.trading.resolve_genome(best, encoding)"
   ]
  },
  {
   "cell_type": "code",
   "execution_count": 6,
   "id": "2a3465e7",
   "metadata": {},
   "outputs": [
    {
     "data": {
      "text/html": [
       "<div>\n",
       "<style scoped>\n",
       "    .dataframe tbody tr th:only-of-type {\n",
       "        vertical-align: middle;\n",
       "    }\n",
       "\n",
       "    .dataframe tbody tr th {\n",
       "        vertical-align: top;\n",
       "    }\n",
       "\n",
       "    .dataframe thead th {\n",
       "        text-align: right;\n",
       "    }\n",
       "</style>\n",
       "<table border=\"1\" class=\"dataframe\">\n",
       "  <thead>\n",
       "    <tr style=\"text-align: right;\">\n",
       "      <th></th>\n",
       "      <th>Generation</th>\n",
       "      <th>Genome</th>\n",
       "      <th>In Sample Fitness</th>\n",
       "    </tr>\n",
       "  </thead>\n",
       "  <tbody>\n",
       "    <tr>\n",
       "      <th>0</th>\n",
       "      <td>0</td>\n",
       "      <td>0000100101101000011111</td>\n",
       "      <td>152.355925</td>\n",
       "    </tr>\n",
       "    <tr>\n",
       "      <th>1</th>\n",
       "      <td>0</td>\n",
       "      <td>0010011100100001001111</td>\n",
       "      <td>157.972427</td>\n",
       "    </tr>\n",
       "    <tr>\n",
       "      <th>2</th>\n",
       "      <td>31</td>\n",
       "      <td>0000110100101110101100</td>\n",
       "      <td>163.679014</td>\n",
       "    </tr>\n",
       "    <tr>\n",
       "      <th>3</th>\n",
       "      <td>32</td>\n",
       "      <td>0000000100100110100010</td>\n",
       "      <td>165.444304</td>\n",
       "    </tr>\n",
       "    <tr>\n",
       "      <th>4</th>\n",
       "      <td>40</td>\n",
       "      <td>0000000011100010110010</td>\n",
       "      <td>165.669322</td>\n",
       "    </tr>\n",
       "  </tbody>\n",
       "</table>\n",
       "</div>"
      ],
      "text/plain": [
       "   Generation                  Genome  In Sample Fitness\n",
       "0           0  0000100101101000011111         152.355925\n",
       "1           0  0010011100100001001111         157.972427\n",
       "2          31  0000110100101110101100         163.679014\n",
       "3          32  0000000100100110100010         165.444304\n",
       "4          40  0000000011100010110010         165.669322"
      ]
     },
     "execution_count": 6,
     "metadata": {},
     "output_type": "execute_result"
    }
   ],
   "source": [
    "df_ga = pd.DataFrame(progress, columns=[\"Generation\", \"Genome\", \"In Sample Fitness\"])\n",
    "df_ga"
   ]
  },
  {
   "cell_type": "code",
   "execution_count": 7,
   "id": "a8b0ee1e",
   "metadata": {},
   "outputs": [
    {
     "data": {
      "image/png": "[encoded data removed]",
      "text/plain": [
       "<Figure size 432x288 with 1 Axes>"
      ]
     },
     "metadata": {
      "needs_background": "light"
     },
     "output_type": "display_data"
    }
   ],
   "source": [
    "plt.plot(df_ga.index, df_ga[\"In Sample Fitness\"])\n",
    "plt.show()"
   ]
  },
  {
   "cell_type": "code",
   "execution_count": 8,
   "id": "5595b768",
   "metadata": {},
   "outputs": [
    {
     "name": "stderr",
     "output_type": "stream",
     "text": [
      "C:\\Users\\Steffen\\anaconda3\\lib\\site-packages\\ta\\trend.py:769: RuntimeWarning: invalid value encountered in double_scalars\n",
      "  dip[idx] = 100 * (self._dip[idx] / value)\n",
      "C:\\Users\\Steffen\\anaconda3\\lib\\site-packages\\ta\\trend.py:774: RuntimeWarning: invalid value encountered in double_scalars\n",
      "  din[idx] = 100 * (self._din[idx] / value)\n"
     ]
    },
    {
     "name": "stdout",
     "output_type": "stream",
     "text": [
      "The number of indicators in the genome is 22\n"
     ]
    }
   ],
   "source": [
    "df_sp=pd.read_csv(\"../data/2021-12-06_Top25 SP500 daily.csv\")\n",
    "# Path for running code via notebook\n",
    "# df_sp=pd.read_csv(\"../data/2021-12-06_Top25 SP500 daily.csv\")\n",
    "df_sp[\"datadate\"] = pd.to_datetime(df_sp[\"datadate\"].astype(str), format='%Y%m%d')\n",
    "df_sp = df_sp[[\"datadate\", \"conm\", \"tic\", \"prcod\", \"prccd\", \"prchd\", \"prcld\", \"cshtrd\"]].rename(columns={\"prcod\": \"Open\", \"prccd\": \"Close\", \"prchd\": \"High\", \"prcld\": \"Low\", \"cshtrd\": \"Volume\"})\n",
    "df_stock = df_sp[df_sp[\"tic\"]==\"ALK\"] # Alternative AXP, AIG\n",
    "df_stock = df_stock.drop(columns=[\"conm\", \"tic\"])\n",
    "df_stock = df_stock.sort_values(by=\"datadate\")\n",
    "df_stock.reset_index(inplace=True, drop=True)\n",
    "\n",
    "df_stock, encoding = ga.trading.signal_table(df_stock)"
   ]
  },
  {
   "cell_type": "code",
   "execution_count": 9,
   "id": "b9f7e02a",
   "metadata": {},
   "outputs": [
    {
     "name": "stdout",
     "output_type": "stream",
     "text": [
      "Genome: [0, 0, 0, 0, 1, 0, 0, 1, 0, 1, 1, 0, 1, 0, 0, 0, 0, 1, 1, 1, 1, 1] with final porfolio value: 158.78596922845858\n",
      "Genome: [0, 0, 1, 0, 0, 1, 1, 1, 0, 0, 1, 0, 0, 0, 0, 1, 0, 0, 1, 1, 1, 1] with final porfolio value: 161.39986095148583\n",
      "Genome: [0, 0, 0, 0, 0, 0, 0, 0, 1, 1, 1, 0, 0, 0, 1, 0, 1, 1, 0, 0, 1, 0] with final porfolio value: 164.51461898381467\n"
     ]
    },
    {
     "data": {
      "text/html": [
       "<div>\n",
       "<style scoped>\n",
       "    .dataframe tbody tr th:only-of-type {\n",
       "        vertical-align: middle;\n",
       "    }\n",
       "\n",
       "    .dataframe tbody tr th {\n",
       "        vertical-align: top;\n",
       "    }\n",
       "\n",
       "    .dataframe thead th {\n",
       "        text-align: right;\n",
       "    }\n",
       "</style>\n",
       "<table border=\"1\" class=\"dataframe\">\n",
       "  <thead>\n",
       "    <tr style=\"text-align: right;\">\n",
       "      <th></th>\n",
       "      <th>Generation</th>\n",
       "      <th>Genome</th>\n",
       "      <th>In Sample Fitness</th>\n",
       "      <th>Out Sample Fitness</th>\n",
       "    </tr>\n",
       "  </thead>\n",
       "  <tbody>\n",
       "    <tr>\n",
       "      <th>0</th>\n",
       "      <td>0</td>\n",
       "      <td>0000100101101000011111</td>\n",
       "      <td>152.355925</td>\n",
       "      <td>158.785969</td>\n",
       "    </tr>\n",
       "    <tr>\n",
       "      <th>1</th>\n",
       "      <td>0</td>\n",
       "      <td>0010011100100001001111</td>\n",
       "      <td>157.972427</td>\n",
       "      <td>161.399861</td>\n",
       "    </tr>\n",
       "    <tr>\n",
       "      <th>2</th>\n",
       "      <td>31</td>\n",
       "      <td>0000110100101110101100</td>\n",
       "      <td>163.679014</td>\n",
       "      <td>85.886948</td>\n",
       "    </tr>\n",
       "    <tr>\n",
       "      <th>3</th>\n",
       "      <td>32</td>\n",
       "      <td>0000000100100110100010</td>\n",
       "      <td>165.444304</td>\n",
       "      <td>88.988461</td>\n",
       "    </tr>\n",
       "    <tr>\n",
       "      <th>4</th>\n",
       "      <td>40</td>\n",
       "      <td>0000000011100010110010</td>\n",
       "      <td>165.669322</td>\n",
       "      <td>164.514619</td>\n",
       "    </tr>\n",
       "  </tbody>\n",
       "</table>\n",
       "</div>"
      ],
      "text/plain": [
       "   Generation                  Genome  In Sample Fitness  Out Sample Fitness\n",
       "0           0  0000100101101000011111         152.355925          158.785969\n",
       "1           0  0010011100100001001111         157.972427          161.399861\n",
       "2          31  0000110100101110101100         163.679014           85.886948\n",
       "3          32  0000000100100110100010         165.444304           88.988461\n",
       "4          40  0000000011100010110010         165.669322          164.514619"
      ]
     },
     "execution_count": 9,
     "metadata": {},
     "output_type": "execute_result"
    }
   ],
   "source": [
    "df_ga[\"Out Sample Fitness\"] = df_ga[\"Genome\"].apply(lambda x: ga.trading.stock_return([int(i) for i in x], df_stock, encoding)[0])\n",
    "df_ga"
   ]
  },
  {
   "cell_type": "code",
   "execution_count": 10,
   "id": "24d2c2ee",
   "metadata": {},
   "outputs": [
    {
     "data": {
      "text/plain": [
       "{0: 'bb_5_bbli',\n",
       " 1: 'bb_10_bbli',\n",
       " 2: 'bb_20_bbli',\n",
       " 3: 'bb_30_bbli',\n",
       " 4: 'bb_90_bbli',\n",
       " 5: 'price_hbb_cross_20_2',\n",
       " 6: 'price_hbb_cross_50_2.1',\n",
       " 7: 'price_hbb_cross_10_1.9',\n",
       " 8: 'price_lbb_cross_20_2',\n",
       " 9: 'price_lbb_cross_50_2.1',\n",
       " 10: 'price_lbb_cross_10_1.9',\n",
       " 11: 'sma_cross',\n",
       " 12: 'price_sma_14_cross',\n",
       " 13: 'price_sma_20_cross',\n",
       " 14: 'price_sma_40_cross',\n",
       " 15: 'price_sma_60_cross',\n",
       " 16: 'price_sma_100_cross',\n",
       " 17: 'price_ema_20_50_cross',\n",
       " 18: 'price_ema_20_cross',\n",
       " 19: 'price_ema_50_cross',\n",
       " 20: 'adx',\n",
       " 21: 'macd'}"
      ]
     },
     "execution_count": 10,
     "metadata": {},
     "output_type": "execute_result"
    }
   ],
   "source": [
    "encoding"
   ]
  }
 ],
 "metadata": {
  "kernelspec": {
   "display_name": "Python 3",
   "language": "python",
   "name": "python3"
  },
  "language_info": {
   "codemirror_mode": {
    "name": "ipython",
    "version": 3
   },
   "file_extension": ".py",
   "mimetype": "text/x-python",
   "name": "python",
   "nbconvert_exporter": "python",
   "pygments_lexer": "ipython3",
   "version": "3.8.10"
  }
 },
 "nbformat": 4,
 "nbformat_minor": 5
}
