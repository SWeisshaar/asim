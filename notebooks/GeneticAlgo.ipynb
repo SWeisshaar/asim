{
 "cells": [
  {
   "cell_type": "code",
   "execution_count": 1,
   "id": "932c6c44",
   "metadata": {},
   "outputs": [
    {
     "name": "stdout",
     "output_type": "stream",
     "text": [
      "Obtaining file:///E:/Git/asim\n",
      "Requirement already satisfied: numpy in c:\\users\\steffen\\anaconda3\\lib\\site-packages (from geneticalgo==0.0.1.dev1) (1.20.2+mkl)\n",
      "Installing collected packages: geneticalgo\n",
      "  Attempting uninstall: geneticalgo\n",
      "    Found existing installation: geneticalgo 0.0.1.dev1\n",
      "    Uninstalling geneticalgo-0.0.1.dev1:\n",
      "      Successfully uninstalled geneticalgo-0.0.1.dev1\n",
      "  Running setup.py develop for geneticalgo\n",
      "Successfully installed geneticalgo-0.0.1.dev1\n"
     ]
    }
   ],
   "source": [
    "!pip install -e .."
   ]
  },
  {
   "cell_type": "code",
   "execution_count": 2,
   "id": "ae682c8c",
   "metadata": {},
   "outputs": [
    {
     "name": "stderr",
     "output_type": "stream",
     "text": [
      "C:\\Users\\Steffen\\anaconda3\\lib\\site-packages\\ta\\trend.py:769: RuntimeWarning: invalid value encountered in double_scalars\n",
      "  dip[idx] = 100 * (self._dip[idx] / value)\n",
      "C:\\Users\\Steffen\\anaconda3\\lib\\site-packages\\ta\\trend.py:774: RuntimeWarning: invalid value encountered in double_scalars\n",
      "  din[idx] = 100 * (self._din[idx] / value)\n"
     ]
    },
    {
     "name": "stdout",
     "output_type": "stream",
     "text": [
      "The number of indicators in the genome is 22\n"
     ]
    }
   ],
   "source": [
    "import geneticalgo as ga"
   ]
  },
  {
   "cell_type": "code",
   "execution_count": 3,
   "id": "70f7ec52",
   "metadata": {},
   "outputs": [],
   "source": [
    "# define the total iterations\n",
    "n_iter = 25\n",
    "# bits\n",
    "n_bits = 22\n",
    "# define the population size\n",
    "n_pop = 10\n",
    "# crossover rate\n",
    "r_cross = 0.9\n",
    "# mutation rate\n",
    "r_mut = 1.0 / float(n_bits)"
   ]
  },
  {
   "cell_type": "code",
   "execution_count": 4,
   "id": "11c871d3",
   "metadata": {},
   "outputs": [
    {
     "name": "stdout",
     "output_type": "stream",
     "text": [
      "Genome: [0, 0, 0, 1, 0, 0, 0, 1, 1, 0, 0, 0, 0, 1, 1, 0, 1, 0, 0, 0, 0, 1] with final porfolio value: 132.61113207222127\n",
      ">0\n",
      "Genome: [0, 0, 0, 1, 0, 0, 0, 1, 1, 0, 0, 0, 0, 1, 1, 0, 1, 0, 0, 0, 0, 1] with final porfolio value: 132.61113207222127\n",
      "Genome: [0, 0, 0, 1, 0, 0, 0, 1, 0, 1, 0, 0, 1, 0, 1, 1, 0, 0, 0, 0, 0, 1] with final porfolio value: 140.40826686496175\n",
      "Genome: [0, 1, 0, 0, 0, 0, 1, 1, 0, 1, 1, 0, 0, 1, 1, 1, 1, 0, 1, 1, 0, 0] with final porfolio value: 139.8761970198977\n",
      "Genome: [1, 1, 0, 1, 1, 1, 1, 0, 1, 1, 1, 0, 1, 0, 1, 1, 0, 0, 0, 1, 0, 1] with final porfolio value: 150\n",
      "Genome: [0, 0, 1, 1, 1, 0, 1, 1, 1, 1, 0, 0, 1, 0, 1, 1, 0, 0, 1, 1, 0, 0] with final porfolio value: 143.10335229740846\n",
      "Genome: [0, 0, 0, 0, 1, 1, 0, 0, 1, 1, 1, 0, 1, 0, 1, 0, 0, 1, 1, 0, 0, 0] with final porfolio value: 150\n",
      "Genome: [0, 0, 1, 0, 0, 1, 0, 0, 1, 0, 0, 0, 1, 1, 1, 0, 0, 0, 0, 0, 0, 1] with final porfolio value: 163.9497487437186\n",
      "Genome: [1, 1, 0, 1, 1, 0, 1, 0, 1, 1, 0, 0, 0, 0, 0, 1, 1, 0, 0, 0, 0, 0] with final porfolio value: 150\n",
      "Genome: [0, 0, 0, 0, 0, 1, 1, 1, 0, 0, 0, 0, 0, 1, 0, 0, 1, 0, 0, 1, 1, 1] with final porfolio value: 169.22356688361728\n",
      "Genome: [1, 0, 1, 0, 1, 1, 0, 0, 1, 0, 1, 0, 1, 1, 0, 0, 0, 1, 0, 0, 1, 0] with final porfolio value: 150\n",
      ">0, new best f([0, 0, 0, 1, 0, 0, 0, 1, 0, 1, 0, 0, 1, 0, 1, 1, 0, 0, 0, 0, 0, 1]) = 140.408\n",
      ">0, new best f([1, 1, 0, 1, 1, 1, 1, 0, 1, 1, 1, 0, 1, 0, 1, 1, 0, 0, 0, 1, 0, 1]) = 150.000\n",
      ">0, new best f([0, 0, 1, 0, 0, 1, 0, 0, 1, 0, 0, 0, 1, 1, 1, 0, 0, 0, 0, 0, 0, 1]) = 163.950\n",
      ">0, new best f([0, 0, 0, 0, 0, 1, 1, 1, 0, 0, 0, 0, 0, 1, 0, 0, 1, 0, 0, 1, 1, 1]) = 169.224\n",
      ">1\n",
      "Genome: [1, 1, 0, 1, 1, 1, 1, 0, 1, 1, 1, 0, 1, 0, 1, 1, 0, 0, 0, 0, 0, 1] with final porfolio value: 150\n",
      "Genome: [0, 0, 0, 1, 0, 0, 0, 1, 1, 1, 0, 0, 1, 0, 1, 1, 0, 0, 0, 1, 0, 1] with final porfolio value: 143.10335229740846\n",
      "Genome: [1, 0, 0, 1, 0, 0, 0, 1, 0, 0, 0, 0, 1, 0, 1, 0, 0, 1, 1, 0, 0, 0] with final porfolio value: 154.85246017235704\n",
      "Genome: [1, 0, 0, 0, 1, 1, 0, 0, 1, 1, 1, 0, 1, 0, 1, 1, 0, 0, 0, 0, 0, 1] with final porfolio value: 150\n",
      "Genome: [0, 0, 0, 1, 1, 1, 1, 0, 1, 0, 1, 0, 1, 0, 1, 1, 0, 0, 0, 1, 0, 1] with final porfolio value: 150\n",
      "Genome: [1, 1, 0, 1, 0, 0, 0, 1, 0, 1, 0, 0, 1, 0, 1, 0, 0, 0, 0, 0, 0, 1] with final porfolio value: 150\n",
      "Genome: [0, 0, 1, 1, 1, 0, 0, 1, 1, 0, 0, 0, 0, 1, 1, 0, 1, 0, 0, 0, 0, 1] with final porfolio value: 150\n",
      "Genome: [0, 0, 0, 1, 0, 0, 1, 1, 1, 1, 0, 0, 1, 0, 1, 1, 0, 0, 1, 1, 0, 0] with final porfolio value: 148.9106790716234\n",
      "Genome: [0, 0, 0, 1, 0, 0, 0, 1, 1, 0, 0, 0, 0, 1, 1, 0, 1, 0, 0, 0, 0, 1] with final porfolio value: 132.61113207222127\n",
      "Genome: [0, 0, 0, 0, 0, 0, 1, 1, 0, 1, 0, 0, 0, 0, 1, 1, 1, 0, 1, 1, 0, 0] with final porfolio value: 155.55539868695988\n",
      ">2\n",
      "Genome: [0, 1, 0, 1, 0, 0, 0, 1, 1, 1, 0, 0, 0, 1, 1, 0, 0, 1, 0, 1, 1, 0] with final porfolio value: 136.74568412167278\n",
      "Genome: [1, 1, 1, 1, 1, 0, 0, 1, 1, 1, 0, 0, 0, 1, 1, 0, 1, 0, 0, 0, 0, 1] with final porfolio value: 150\n",
      "Genome: [0, 0, 0, 1, 0, 0, 1, 1, 1, 1, 0, 0, 1, 0, 1, 1, 0, 0, 0, 1, 0, 0] with final porfolio value: 143.10335229740846\n",
      "Genome: [0, 0, 0, 1, 0, 0, 0, 1, 1, 0, 0, 0, 0, 1, 1, 0, 1, 0, 0, 0, 0, 1] with final porfolio value: 132.61113207222127\n",
      "Genome: [0, 0, 0, 1, 0, 0, 0, 1, 1, 0, 0, 0, 0, 1, 1, 0, 1, 0, 0, 0, 0, 1] with final porfolio value: 132.61113207222127\n",
      "Genome: [0, 0, 1, 1, 1, 0, 0, 1, 1, 0, 0, 0, 0, 1, 1, 0, 1, 0, 0, 0, 0, 1] with final porfolio value: 150\n",
      "Genome: [0, 0, 0, 1, 1, 0, 1, 1, 1, 0, 0, 1, 0, 1, 1, 0, 1, 0, 0, 0, 0, 1] with final porfolio value: 150\n",
      "Genome: [0, 0, 0, 1, 0, 1, 0, 1, 1, 0, 0, 0, 0, 1, 1, 0, 1, 0, 0, 0, 0, 1] with final porfolio value: 133.91387684895213\n",
      "Genome: [0, 0, 0, 1, 0, 0, 1, 1, 1, 1, 0, 0, 1, 0, 1, 1, 0, 0, 0, 1, 0, 1] with final porfolio value: 143.10335229740846\n",
      "Genome: [0, 0, 0, 0, 1, 1, 1, 0, 1, 0, 1, 0, 1, 0, 1, 1, 0, 0, 1, 1, 0, 0] with final porfolio value: 154.87517590294397\n",
      ">3\n",
      "Genome: [0, 1, 0, 1, 0, 0, 0, 1, 1, 1, 0, 0, 0, 1, 1, 0, 1, 0, 0, 0, 0, 1] with final porfolio value: 150\n",
      "Genome: [0, 0, 0, 1, 0, 0, 0, 1, 1, 0, 0, 0, 0, 1, 1, 0, 0, 1, 0, 0, 1, 0] with final porfolio value: 136.74568412167278\n",
      "Genome: [0, 1, 1, 1, 1, 0, 0, 1, 1, 0, 0, 0, 0, 1, 1, 0, 1, 0, 0, 0, 0, 1] with final porfolio value: 150\n",
      "Genome: [0, 0, 0, 0, 0, 0, 0, 1, 1, 0, 0, 1, 0, 1, 1, 0, 1, 0, 0, 0, 0, 0] with final porfolio value: 156.58709753675313\n",
      "Genome: [0, 0, 0, 1, 0, 0, 1, 1, 1, 1, 0, 0, 0, 1, 1, 0, 1, 0, 0, 0, 0, 1] with final porfolio value: 150\n",
      "Genome: [0, 0, 0, 1, 0, 0, 0, 1, 1, 0, 0, 0, 1, 1, 1, 1, 0, 0, 0, 0, 0, 0] with final porfolio value: 144.03065710257255\n",
      "Genome: [0, 0, 0, 1, 0, 0, 0, 1, 1, 0, 0, 0, 0, 1, 1, 0, 1, 0, 0, 0, 0, 1] with final porfolio value: 132.61113207222127\n",
      "Genome: [0, 0, 0, 1, 0, 0, 0, 1, 1, 0, 0, 0, 0, 0, 0, 0, 1, 0, 0, 0, 0, 1] with final porfolio value: 150\n",
      "Genome: [0, 0, 0, 1, 0, 0, 0, 0, 1, 0, 0, 0, 0, 1, 1, 1, 1, 0, 0, 0, 0, 1] with final porfolio value: 145.14044410857278\n",
      "Genome: [0, 0, 0, 1, 0, 0, 0, 1, 1, 0, 0, 0, 0, 1, 1, 0, 1, 0, 0, 0, 0, 1] with final porfolio value: 132.61113207222127\n",
      ">4\n",
      "Genome: [0, 0, 0, 1, 0, 0, 0, 1, 1, 0, 0, 0, 0, 1, 1, 0, 1, 0, 0, 0, 0, 1] with final porfolio value: 132.61113207222127\n",
      "Genome: [0, 0, 0, 1, 0, 0, 0, 1, 1, 0, 0, 0, 1, 1, 0, 1, 0, 1, 0, 0, 0, 0] with final porfolio value: 155.99395782133848\n",
      "Genome: [0, 1, 1, 1, 1, 0, 0, 1, 1, 0, 0, 0, 0, 1, 1, 0, 1, 0, 0, 0, 0, 1] with final porfolio value: 150\n",
      "Genome: [0, 1, 1, 1, 1, 0, 0, 1, 1, 0, 0, 0, 0, 1, 1, 0, 1, 0, 0, 1, 0, 1] with final porfolio value: 150\n",
      "Genome: [0, 0, 0, 1, 0, 0, 1, 1, 1, 0, 0, 0, 0, 1, 1, 0, 1, 0, 0, 0, 0, 1] with final porfolio value: 132.61113207222127\n",
      "Genome: [0, 0, 0, 1, 0, 0, 0, 1, 1, 0, 0, 0, 0, 0, 1, 0, 1, 0, 0, 0, 1, 1] with final porfolio value: 150\n",
      "Genome: [0, 0, 0, 1, 0, 0, 0, 1, 1, 0, 0, 0, 0, 1, 1, 0, 0, 0, 0, 0, 0, 1] with final porfolio value: 142.02453478512484\n",
      "Genome: [0, 0, 0, 1, 0, 0, 0, 1, 1, 0, 0, 0, 0, 1, 1, 0, 1, 0, 0, 0, 0, 1] with final porfolio value: 132.61113207222127\n",
      "Genome: [0, 1, 1, 1, 1, 0, 0, 1, 1, 0, 0, 0, 0, 0, 0, 0, 1, 0, 0, 0, 0, 0] with final porfolio value: 131.33768841798212\n",
      "Genome: [1, 0, 0, 1, 0, 0, 0, 1, 1, 0, 1, 0, 0, 1, 1, 0, 1, 0, 0, 0, 0, 1] with final porfolio value: 150\n",
      ">5\n",
      "Genome: [0, 1, 1, 1, 1, 0, 0, 1, 1, 1, 0, 0, 0, 1, 1, 0, 1, 0, 0, 0, 0, 1] with final porfolio value: 150\n",
      "Genome: [0, 0, 0, 1, 0, 0, 0, 1, 1, 0, 0, 0, 0, 1, 1, 0, 1, 1, 0, 0, 0, 1] with final porfolio value: 139.7863918882184\n",
      "Genome: [0, 1, 1, 1, 1, 0, 0, 1, 1, 0, 0, 0, 0, 0, 0, 0, 1, 0, 0, 0, 0, 0] with final porfolio value: 131.33768841798212\n",
      "Genome: [0, 1, 1, 1, 1, 0, 0, 1, 1, 0, 0, 0, 0, 0, 0, 0, 1, 0, 0, 1, 0, 0] with final porfolio value: 131.33768841798212\n",
      "Genome: [0, 0, 0, 1, 0, 0, 0, 1, 1, 0, 0, 0, 0, 0, 1, 0, 1, 0, 0, 0, 1, 1] with final porfolio value: 150\n",
      "Genome: [0, 0, 0, 1, 0, 0, 0, 1, 1, 0, 0, 0, 0, 1, 1, 0, 1, 0, 0, 0, 0, 1] with final porfolio value: 132.61113207222127\n",
      "Genome: [0, 1, 1, 1, 0, 0, 0, 1, 1, 0, 0, 0, 0, 1, 1, 0, 1, 0, 0, 0, 0, 1] with final porfolio value: 150\n",
      "Genome: [0, 0, 0, 1, 1, 0, 0, 1, 1, 0, 0, 0, 0, 0, 0, 0, 1, 0, 0, 0, 0, 0] with final porfolio value: 147.90224983963842\n",
      "Genome: [0, 0, 0, 1, 0, 0, 1, 1, 1, 0, 0, 0, 0, 1, 1, 0, 1, 0, 0, 0, 0, 1] with final porfolio value: 132.61113207222127\n",
      "Genome: [0, 0, 0, 1, 0, 0, 0, 1, 1, 1, 0, 0, 0, 1, 1, 0, 1, 0, 0, 0, 0, 1] with final porfolio value: 132.61113207222127\n",
      ">6\n",
      "Genome: [0, 1, 1, 1, 1, 0, 0, 1, 1, 0, 0, 0, 0, 0, 0, 0, 1, 0, 0, 0, 0, 0] with final porfolio value: 131.33768841798212\n",
      "Genome: [0, 1, 1, 1, 1, 0, 0, 1, 1, 0, 0, 0, 0, 0, 0, 0, 1, 0, 0, 0, 0, 0] with final porfolio value: 131.33768841798212\n",
      "Genome: [0, 0, 0, 1, 0, 0, 1, 1, 1, 0, 0, 0, 0, 0, 0, 0, 1, 0, 0, 1, 0, 0] with final porfolio value: 162.89815268047252\n",
      "Genome: [0, 1, 1, 0, 1, 0, 0, 1, 0, 0, 0, 0, 0, 1, 1, 0, 1, 0, 0, 0, 0, 1] with final porfolio value: 132.61113207222127\n",
      "Genome: [0, 1, 1, 1, 1, 0, 0, 1, 1, 0, 0, 0, 0, 0, 0, 0, 1, 0, 0, 0, 0, 1] with final porfolio value: 131.33768841798212\n",
      "Genome: [0, 0, 0, 1, 0, 0, 1, 1, 0, 0, 0, 0, 0, 1, 1, 0, 1, 0, 0, 1, 0, 0] with final porfolio value: 141.08913666494925\n",
      "Genome: [0, 0, 0, 1, 0, 0, 1, 1, 1, 0, 0, 0, 0, 1, 1, 0, 1, 0, 0, 0, 0, 1] with final porfolio value: 132.61113207222127\n"
     ]
    },
    {
     "name": "stdout",
     "output_type": "stream",
     "text": [
      "Genome: [0, 0, 0, 1, 0, 0, 0, 1, 1, 1, 0, 0, 0, 1, 1, 0, 1, 0, 0, 0, 0, 1] with final porfolio value: 132.61113207222127\n",
      "Genome: [0, 0, 0, 1, 0, 0, 0, 1, 1, 1, 1, 0, 0, 1, 1, 0, 1, 0, 0, 0, 0, 1] with final porfolio value: 150\n",
      "Genome: [0, 0, 0, 1, 0, 0, 1, 1, 1, 0, 0, 0, 0, 1, 1, 0, 1, 0, 0, 0, 0, 1] with final porfolio value: 132.61113207222127\n",
      ">7\n",
      "Genome: [0, 1, 1, 1, 1, 0, 0, 1, 1, 0, 0, 0, 0, 0, 0, 0, 1, 0, 0, 0, 0, 1] with final porfolio value: 131.33768841798212\n",
      "Genome: [0, 1, 1, 1, 1, 0, 0, 1, 1, 0, 0, 0, 0, 0, 0, 1, 1, 0, 0, 0, 0, 1] with final porfolio value: 150\n",
      "Genome: [0, 1, 1, 0, 1, 0, 0, 1, 0, 0, 0, 1, 0, 1, 1, 0, 1, 0, 0, 0, 0, 1] with final porfolio value: 150\n",
      "Genome: [0, 1, 1, 0, 1, 0, 0, 1, 0, 0, 0, 0, 0, 1, 1, 0, 1, 0, 0, 0, 0, 1] with final porfolio value: 132.61113207222127\n",
      "Genome: [0, 1, 1, 1, 1, 0, 0, 1, 1, 0, 0, 0, 0, 1, 1, 0, 1, 0, 1, 1, 0, 1] with final porfolio value: 134.99688874877913\n",
      "Genome: [0, 1, 0, 1, 0, 0, 1, 1, 0, 1, 0, 0, 0, 0, 0, 0, 1, 0, 0, 0, 0, 1] with final porfolio value: 150\n",
      "Genome: [1, 0, 0, 1, 0, 1, 0, 1, 0, 0, 0, 0, 0, 1, 1, 0, 1, 0, 0, 0, 0, 0] with final porfolio value: 133.91387684895213\n",
      "Genome: [0, 1, 1, 1, 1, 0, 0, 1, 1, 0, 0, 0, 0, 0, 0, 0, 1, 0, 0, 0, 0, 1] with final porfolio value: 131.33768841798212\n",
      "Genome: [0, 1, 1, 0, 1, 0, 0, 1, 1, 0, 1, 0, 0, 0, 0, 0, 1, 0, 0, 1, 0, 0] with final porfolio value: 150\n",
      "Genome: [0, 1, 1, 1, 1, 0, 0, 1, 1, 0, 0, 0, 0, 0, 0, 1, 1, 0, 0, 0, 0, 0] with final porfolio value: 131.33768841798212\n",
      ">8\n",
      "Genome: [0, 1, 1, 1, 1, 0, 0, 1, 1, 0, 0, 0, 0, 0, 0, 1, 1, 0, 0, 0, 1, 0] with final porfolio value: 146.3135037804481\n",
      "Genome: [0, 1, 1, 0, 1, 0, 0, 1, 0, 0, 0, 0, 0, 1, 1, 0, 1, 0, 0, 0, 0, 1] with final porfolio value: 132.61113207222127\n",
      "Genome: [0, 1, 1, 0, 1, 0, 0, 1, 0, 0, 0, 0, 0, 1, 1, 0, 1, 0, 0, 0, 0, 1] with final porfolio value: 132.61113207222127\n",
      "Genome: [0, 1, 1, 1, 1, 0, 0, 0, 1, 0, 0, 0, 0, 0, 0, 0, 1, 0, 0, 0, 0, 1] with final porfolio value: 131.33768841798212\n",
      "Genome: [0, 1, 1, 0, 1, 0, 0, 1, 1, 0, 0, 0, 0, 1, 1, 0, 1, 0, 1, 1, 0, 1] with final porfolio value: 134.99688874877913\n",
      "Genome: [0, 1, 1, 0, 1, 0, 0, 1, 1, 0, 0, 0, 0, 0, 0, 0, 1, 0, 0, 0, 0, 1] with final porfolio value: 150\n",
      "Genome: [1, 1, 1, 1, 1, 1, 0, 1, 1, 0, 0, 0, 0, 0, 0, 1, 1, 0, 0, 0, 0, 1] with final porfolio value: 150\n",
      "Genome: [0, 1, 1, 1, 1, 0, 1, 1, 1, 0, 1, 0, 0, 0, 0, 0, 1, 0, 0, 0, 1, 0] with final porfolio value: 150.4603857051078\n",
      "Genome: [0, 1, 1, 0, 1, 0, 1, 1, 1, 0, 0, 0, 0, 0, 1, 0, 1, 0, 0, 0, 0, 1] with final porfolio value: 150\n",
      "Genome: [0, 1, 1, 1, 1, 0, 1, 0, 1, 0, 0, 0, 0, 1, 1, 0, 1, 0, 1, 1, 0, 1] with final porfolio value: 150\n",
      ">9\n",
      "Genome: [0, 1, 1, 1, 1, 0, 0, 1, 1, 0, 0, 0, 0, 0, 0, 1, 1, 0, 0, 1, 0, 1] with final porfolio value: 150\n",
      "Genome: [0, 1, 1, 1, 1, 0, 0, 0, 1, 0, 0, 0, 0, 0, 1, 0, 1, 0, 0, 0, 1, 0] with final porfolio value: 107.0718378078036\n",
      "Genome: [0, 1, 1, 0, 1, 0, 0, 0, 1, 0, 0, 0, 1, 0, 1, 0, 1, 0, 0, 0, 1, 1] with final porfolio value: 150\n",
      "Genome: [0, 1, 1, 1, 1, 0, 1, 0, 1, 0, 0, 0, 0, 0, 0, 0, 1, 1, 0, 0, 0, 1] with final porfolio value: 150\n",
      "Genome: [0, 0, 1, 0, 1, 0, 0, 1, 0, 0, 0, 0, 0, 1, 1, 0, 1, 0, 0, 0, 0, 1] with final porfolio value: 132.61113207222127\n",
      "Genome: [0, 1, 1, 1, 1, 0, 0, 0, 1, 0, 0, 0, 0, 0, 0, 0, 1, 0, 0, 0, 0, 1] with final porfolio value: 131.33768841798212\n",
      "Genome: [0, 1, 1, 0, 1, 0, 0, 1, 1, 0, 0, 0, 0, 1, 1, 0, 1, 0, 1, 1, 0, 1] with final porfolio value: 134.99688874877913\n",
      "Genome: [1, 1, 1, 0, 1, 0, 0, 1, 1, 0, 0, 0, 0, 1, 1, 1, 1, 0, 1, 1, 0, 1] with final porfolio value: 133.11944415947013\n",
      "Genome: [0, 1, 1, 1, 1, 0, 0, 1, 1, 0, 0, 0, 0, 0, 0, 1, 1, 0, 0, 0, 1, 0] with final porfolio value: 146.3135037804481\n",
      "Genome: [0, 1, 1, 1, 1, 0, 0, 1, 1, 0, 0, 0, 0, 0, 0, 1, 1, 0, 0, 0, 1, 0] with final porfolio value: 146.3135037804481\n",
      ">10\n",
      "Genome: [1, 1, 1, 0, 1, 0, 0, 1, 1, 0, 0, 0, 0, 0, 1, 0, 1, 0, 0, 0, 1, 0] with final porfolio value: 150\n",
      "Genome: [0, 1, 1, 1, 1, 0, 0, 0, 1, 0, 0, 0, 0, 1, 1, 1, 1, 1, 1, 1, 1, 1] with final porfolio value: 141.0607746267158\n",
      "Genome: [0, 1, 1, 1, 1, 0, 0, 0, 1, 0, 0, 0, 0, 0, 0, 0, 1, 0, 0, 0, 0, 1] with final porfolio value: 131.33768841798212\n",
      "Genome: [0, 1, 1, 1, 1, 0, 0, 0, 1, 0, 0, 0, 0, 0, 0, 0, 1, 0, 1, 0, 0, 1] with final porfolio value: 131.33768841798212\n",
      "Genome: [0, 1, 1, 1, 1, 0, 0, 0, 1, 0, 0, 0, 1, 0, 1, 0, 1, 0, 0, 0, 1, 1] with final porfolio value: 146.3135037804481\n",
      "Genome: [0, 1, 1, 0, 1, 0, 0, 1, 1, 0, 0, 0, 0, 1, 1, 0, 1, 0, 1, 1, 0, 1] with final porfolio value: 134.99688874877913\n",
      "Genome: [0, 1, 1, 1, 1, 0, 0, 1, 1, 0, 0, 0, 0, 0, 0, 1, 1, 0, 0, 1, 0, 1] with final porfolio value: 150\n",
      "Genome: [1, 1, 1, 0, 1, 0, 0, 1, 1, 0, 0, 0, 0, 1, 1, 1, 1, 0, 1, 0, 1, 0] with final porfolio value: 133.11944415947013\n",
      "Genome: [0, 1, 1, 0, 1, 0, 0, 1, 1, 0, 0, 0, 0, 1, 1, 1, 1, 0, 1, 1, 0, 1] with final porfolio value: 139.8761970198977\n",
      "Genome: [1, 1, 1, 0, 1, 1, 0, 1, 1, 0, 0, 0, 0, 1, 1, 0, 1, 0, 1, 1, 0, 1] with final porfolio value: 150\n",
      ">11\n",
      "Genome: [0, 1, 1, 1, 1, 1, 0, 0, 1, 0, 0, 1, 0, 0, 0, 0, 1, 0, 0, 0, 0, 1] with final porfolio value: 150\n",
      "Genome: [0, 1, 1, 1, 1, 0, 0, 0, 1, 0, 0, 0, 0, 0, 0, 0, 1, 0, 1, 0, 0, 1] with final porfolio value: 131.33768841798212\n",
      "Genome: [0, 1, 1, 1, 1, 0, 0, 0, 1, 0, 0, 0, 0, 1, 0, 1, 1, 0, 1, 1, 0, 1] with final porfolio value: 150\n",
      "Genome: [0, 1, 1, 0, 1, 0, 0, 1, 1, 0, 0, 0, 0, 1, 1, 1, 1, 1, 1, 1, 1, 1] with final porfolio value: 139.25371868005425\n",
      "Genome: [0, 1, 1, 1, 1, 0, 0, 0, 0, 0, 0, 0, 0, 0, 1, 0, 1, 0, 0, 0, 1, 1] with final porfolio value: 101.69541861632001\n",
      "Genome: [0, 1, 1, 0, 1, 0, 0, 1, 1, 0, 1, 0, 0, 1, 1, 0, 1, 0, 1, 1, 0, 1] with final porfolio value: 134.99688874877913\n",
      "Genome: [0, 1, 1, 0, 1, 0, 0, 0, 1, 0, 0, 0, 0, 0, 0, 0, 1, 0, 1, 0, 1, 0] with final porfolio value: 146.3135037804481\n",
      "Genome: [1, 1, 1, 0, 1, 0, 0, 1, 1, 0, 0, 0, 0, 1, 1, 1, 1, 0, 1, 0, 0, 1] with final porfolio value: 133.11944415947013\n",
      "Genome: [0, 1, 1, 1, 1, 0, 0, 0, 1, 0, 0, 0, 0, 0, 0, 0, 1, 0, 1, 0, 0, 1] with final porfolio value: 131.33768841798212\n",
      "Genome: [0, 0, 1, 1, 1, 0, 0, 0, 1, 0, 0, 0, 0, 0, 1, 0, 1, 0, 0, 0, 0, 1] with final porfolio value: 150\n",
      ">12\n",
      "Genome: [0, 0, 1, 0, 1, 0, 0, 1, 1, 0, 0, 0, 0, 0, 1, 0, 0, 0, 0, 0, 1, 1] with final porfolio value: 150\n",
      "Genome: [0, 1, 1, 1, 1, 1, 0, 0, 0, 0, 1, 0, 0, 1, 1, 1, 0, 0, 1, 1, 1, 1] with final porfolio value: 150\n",
      "Genome: [0, 1, 1, 1, 0, 0, 0, 0, 1, 0, 0, 0, 1, 0, 0, 1, 0, 0, 1, 0, 0, 1] with final porfolio value: 147.30491456755328\n",
      "Genome: [0, 1, 1, 1, 1, 0, 0, 0, 1, 0, 0, 0, 0, 0, 0, 0, 1, 0, 1, 0, 0, 1] with final porfolio value: 131.33768841798212\n",
      "Genome: [0, 1, 1, 1, 1, 0, 0, 0, 0, 0, 0, 0, 0, 0, 1, 1, 1, 0, 1, 0, 0, 0] with final porfolio value: 122.91468008304463\n",
      "Genome: [0, 1, 1, 1, 1, 0, 0, 0, 1, 0, 0, 0, 0, 0, 0, 0, 1, 0, 0, 0, 1, 1] with final porfolio value: 107.0718378078036\n",
      "Genome: [0, 1, 1, 0, 1, 0, 0, 0, 1, 0, 0, 1, 0, 0, 0, 0, 1, 0, 1, 0, 1, 0] with final porfolio value: 146.3135037804481\n",
      "Genome: [1, 1, 1, 0, 1, 0, 0, 1, 1, 0, 0, 0, 0, 1, 1, 1, 1, 0, 1, 0, 0, 1] with final porfolio value: 133.11944415947013\n",
      "Genome: [0, 1, 0, 1, 1, 0, 0, 0, 1, 0, 0, 0, 0, 0, 0, 0, 0, 0, 1, 0, 0, 1] with final porfolio value: 128.21492430650233\n",
      "Genome: [1, 1, 1, 0, 1, 0, 0, 1, 1, 0, 0, 0, 0, 1, 1, 1, 1, 0, 1, 0, 0, 1] with final porfolio value: 133.11944415947013\n",
      ">13\n",
      "Genome: [0, 1, 1, 1, 0, 0, 0, 0, 0, 0, 0, 0, 0, 0, 0, 0, 1, 0, 1, 0, 0, 0] with final porfolio value: 119.96759019694883\n",
      "Genome: [0, 1, 1, 1, 1, 0, 0, 0, 0, 0, 0, 0, 0, 0, 1, 1, 0, 0, 0, 0, 1, 1] with final porfolio value: 101.69541861632001\n",
      "Genome: [0, 1, 1, 1, 1, 1, 0, 0, 0, 0, 0, 0, 1, 0, 0, 0, 1, 0, 0, 0, 1, 1] with final porfolio value: 146.3135037804481\n",
      "Genome: [0, 1, 1, 1, 1, 0, 1, 0, 1, 0, 0, 0, 0, 0, 1, 1, 1, 0, 1, 0, 0, 0] with final porfolio value: 150\n",
      "Genome: [1, 1, 1, 1, 1, 0, 0, 0, 1, 0, 0, 0, 0, 0, 0, 0, 0, 0, 1, 0, 1, 1] with final porfolio value: 146.3135037804481\n",
      "Genome: [0, 1, 0, 1, 1, 0, 0, 1, 1, 0, 0, 0, 0, 1, 1, 1, 1, 0, 1, 0, 0, 1] with final porfolio value: 133.11944415947013\n",
      "Genome: [0, 1, 1, 1, 1, 0, 0, 0, 1, 0, 0, 0, 0, 0, 0, 0, 1, 0, 0, 0, 1, 1] with final porfolio value: 107.0718378078036\n",
      "Genome: [0, 1, 1, 1, 1, 0, 0, 0, 1, 0, 0, 0, 0, 0, 0, 0, 1, 0, 0, 0, 1, 1] with final porfolio value: 107.0718378078036\n"
     ]
    },
    {
     "name": "stdout",
     "output_type": "stream",
     "text": [
      "Genome: [0, 1, 1, 1, 1, 0, 0, 0, 1, 0, 0, 0, 0, 0, 0, 0, 1, 0, 0, 0, 1, 1] with final porfolio value: 107.0718378078036\n",
      "Genome: [0, 1, 1, 1, 1, 0, 0, 0, 1, 0, 0, 0, 0, 0, 0, 0, 1, 0, 0, 0, 1, 1] with final porfolio value: 107.0718378078036\n",
      ">14\n",
      "Genome: [0, 1, 0, 1, 1, 0, 0, 1, 1, 0, 0, 0, 0, 1, 1, 1, 1, 0, 0, 0, 1, 1] with final porfolio value: 150\n",
      "Genome: [0, 1, 1, 1, 1, 0, 1, 0, 1, 0, 0, 0, 0, 1, 0, 0, 1, 0, 1, 0, 0, 1] with final porfolio value: 150\n",
      "Genome: [0, 1, 1, 0, 1, 0, 0, 0, 0, 0, 0, 0, 0, 0, 0, 0, 1, 0, 1, 0, 0, 0] with final porfolio value: 131.33768841798212\n",
      "Genome: [0, 1, 1, 1, 0, 0, 0, 1, 1, 0, 0, 0, 0, 0, 0, 0, 1, 0, 0, 0, 1, 1] with final porfolio value: 143.14566595169262\n",
      "Genome: [0, 0, 1, 1, 1, 0, 0, 0, 1, 1, 0, 0, 1, 0, 0, 0, 1, 0, 0, 0, 1, 1] with final porfolio value: 150\n",
      "Genome: [0, 1, 1, 1, 1, 0, 0, 0, 0, 0, 0, 0, 1, 0, 1, 1, 0, 0, 0, 0, 1, 1] with final porfolio value: 146.3135037804481\n",
      "Genome: [0, 1, 1, 1, 1, 0, 0, 0, 0, 0, 1, 0, 0, 0, 1, 0, 1, 0, 0, 0, 1, 1] with final porfolio value: 150.4603857051078\n",
      "Genome: [0, 1, 1, 1, 1, 0, 0, 1, 1, 0, 1, 0, 0, 0, 0, 1, 0, 0, 0, 0, 1, 1] with final porfolio value: 150.4603857051078\n",
      "Genome: [0, 1, 1, 1, 1, 0, 1, 0, 0, 0, 0, 0, 0, 0, 0, 0, 1, 0, 1, 0, 0, 0] with final porfolio value: 131.33768841798212\n",
      "Genome: [0, 1, 1, 1, 1, 1, 0, 0, 1, 0, 0, 0, 0, 0, 0, 0, 1, 0, 0, 0, 1, 0] with final porfolio value: 107.0718378078036\n",
      ">15\n",
      "Genome: [0, 1, 0, 1, 1, 0, 0, 1, 1, 0, 0, 0, 0, 0, 0, 0, 1, 0, 0, 0, 1, 1] with final porfolio value: 135.25593350503613\n",
      "Genome: [0, 1, 1, 1, 0, 0, 0, 1, 1, 0, 0, 0, 0, 1, 1, 1, 1, 0, 0, 0, 0, 1] with final porfolio value: 133.11944415947013\n",
      "Genome: [1, 1, 1, 1, 1, 1, 0, 0, 1, 0, 0, 1, 0, 0, 0, 0, 1, 0, 0, 0, 1, 0] with final porfolio value: 146.3135037804481\n",
      "Genome: [0, 1, 1, 1, 1, 1, 0, 0, 1, 1, 0, 0, 0, 0, 0, 0, 1, 0, 0, 0, 1, 0] with final porfolio value: 146.3135037804481\n",
      "Genome: [0, 1, 1, 1, 1, 0, 0, 0, 0, 0, 0, 0, 1, 0, 1, 1, 1, 0, 1, 1, 0, 0] with final porfolio value: 148.88530365169777\n",
      "Genome: [0, 1, 1, 1, 1, 0, 1, 0, 1, 0, 0, 0, 0, 0, 0, 1, 0, 0, 0, 0, 1, 1] with final porfolio value: 146.3135037804481\n",
      "Genome: [0, 1, 1, 1, 1, 0, 0, 0, 0, 0, 0, 0, 1, 0, 1, 0, 1, 0, 0, 0, 1, 1] with final porfolio value: 146.3135037804481\n",
      "Genome: [0, 0, 1, 1, 1, 0, 0, 0, 1, 1, 0, 0, 0, 0, 0, 0, 1, 0, 1, 0, 0, 0] with final porfolio value: 150\n",
      "Genome: [1, 1, 0, 0, 1, 1, 0, 0, 1, 0, 0, 0, 0, 0, 0, 1, 1, 0, 0, 0, 1, 0] with final porfolio value: 150\n",
      "Genome: [0, 1, 1, 0, 1, 0, 0, 0, 0, 0, 0, 0, 0, 0, 0, 0, 1, 0, 1, 0, 0, 0] with final porfolio value: 131.33768841798212\n",
      ">16\n",
      "Genome: [0, 1, 1, 1, 1, 0, 0, 0, 1, 0, 0, 0, 1, 0, 1, 1, 1, 0, 1, 0, 0, 0] with final porfolio value: 149.18962609026377\n",
      "Genome: [0, 1, 1, 0, 0, 0, 0, 0, 0, 0, 0, 0, 0, 0, 0, 0, 1, 0, 1, 1, 1, 0] with final porfolio value: 143.6929003351352\n",
      "Genome: [0, 1, 1, 0, 1, 0, 0, 1, 0, 0, 0, 0, 0, 0, 0, 0, 1, 0, 1, 0, 0, 0] with final porfolio value: 118.33170233580103\n",
      "Genome: [0, 1, 1, 0, 1, 0, 0, 0, 0, 0, 0, 0, 0, 0, 0, 0, 1, 0, 1, 0, 0, 0] with final porfolio value: 131.33768841798212\n",
      "Genome: [1, 1, 1, 0, 1, 1, 0, 0, 0, 0, 0, 0, 0, 0, 1, 0, 1, 0, 1, 0, 0, 0] with final porfolio value: 150\n",
      "Genome: [0, 1, 1, 1, 0, 0, 0, 1, 1, 0, 0, 0, 0, 1, 1, 1, 1, 0, 0, 0, 0, 1] with final porfolio value: 133.11944415947013\n",
      "Genome: [0, 1, 1, 1, 1, 0, 1, 0, 1, 0, 0, 0, 0, 0, 0, 1, 0, 0, 0, 0, 1, 1] with final porfolio value: 146.3135037804481\n",
      "Genome: [0, 1, 1, 1, 0, 0, 0, 1, 1, 0, 0, 0, 0, 1, 1, 1, 1, 0, 0, 0, 1, 1] with final porfolio value: 150\n",
      "Genome: [0, 1, 1, 1, 0, 0, 0, 1, 1, 1, 0, 0, 0, 1, 1, 1, 1, 0, 0, 0, 0, 1] with final porfolio value: 150\n",
      "Genome: [0, 1, 1, 1, 0, 0, 0, 1, 1, 0, 0, 0, 0, 1, 1, 1, 1, 0, 1, 0, 0, 1] with final porfolio value: 133.11944415947013\n",
      ">17\n",
      "Genome: [0, 1, 1, 0, 1, 0, 0, 0, 0, 0, 0, 0, 0, 0, 0, 0, 1, 1, 1, 1, 0, 0] with final porfolio value: 144.88303769873409\n",
      "Genome: [0, 1, 1, 0, 1, 0, 0, 0, 0, 0, 0, 0, 0, 0, 0, 0, 1, 0, 1, 0, 0, 0] with final porfolio value: 131.33768841798212\n",
      "Genome: [0, 1, 1, 1, 1, 0, 0, 0, 0, 0, 0, 0, 0, 0, 0, 0, 1, 0, 1, 0, 0, 0] with final porfolio value: 82.63104216390938\n",
      "Genome: [0, 1, 1, 0, 1, 1, 1, 0, 1, 0, 0, 0, 0, 0, 0, 1, 0, 0, 0, 0, 1, 1] with final porfolio value: 150\n",
      "Genome: [1, 1, 0, 1, 0, 0, 0, 1, 1, 0, 0, 0, 0, 1, 1, 1, 1, 0, 1, 0, 0, 1] with final porfolio value: 133.11944415947013\n",
      "Genome: [0, 1, 1, 0, 1, 1, 0, 0, 1, 0, 0, 0, 0, 0, 1, 0, 1, 0, 1, 0, 1, 0] with final porfolio value: 150\n",
      "Genome: [0, 1, 1, 1, 0, 0, 0, 1, 0, 0, 0, 0, 1, 1, 1, 1, 1, 0, 1, 0, 0, 1] with final porfolio value: 140.0665824753195\n",
      "Genome: [0, 1, 1, 1, 1, 0, 0, 1, 1, 0, 0, 0, 1, 0, 1, 1, 1, 0, 1, 0, 0, 0] with final porfolio value: 140.73207858467137\n",
      "Genome: [0, 1, 1, 1, 1, 0, 1, 0, 1, 0, 0, 0, 0, 0, 0, 0, 1, 0, 1, 1, 0, 0] with final porfolio value: 150\n",
      "Genome: [1, 1, 1, 0, 1, 0, 0, 1, 0, 0, 0, 0, 0, 0, 0, 1, 0, 0, 0, 0, 1, 1] with final porfolio value: 146.3135037804481\n",
      ">18\n",
      "Genome: [0, 1, 1, 1, 1, 1, 0, 0, 0, 1, 0, 0, 0, 0, 0, 0, 1, 0, 1, 0, 0, 0] with final porfolio value: 131.33768841798212\n",
      "Genome: [0, 1, 1, 0, 1, 1, 0, 0, 0, 0, 0, 0, 0, 0, 0, 0, 1, 0, 1, 0, 0, 0] with final porfolio value: 131.33768841798212\n",
      "Genome: [0, 1, 1, 1, 1, 0, 0, 1, 1, 0, 0, 0, 1, 0, 1, 1, 1, 0, 1, 0, 0, 0] with final porfolio value: 140.73207858467137\n",
      "Genome: [0, 1, 1, 1, 1, 0, 0, 1, 1, 0, 0, 0, 1, 0, 1, 1, 1, 0, 1, 0, 0, 0] with final porfolio value: 140.73207858467137\n",
      "Genome: [0, 1, 1, 1, 0, 0, 0, 1, 0, 0, 0, 0, 0, 1, 1, 0, 1, 1, 1, 0, 0, 0] with final porfolio value: 139.7863918882184\n",
      "Genome: [0, 1, 1, 1, 1, 0, 0, 0, 0, 0, 0, 0, 0, 0, 0, 1, 1, 0, 1, 0, 0, 1] with final porfolio value: 131.33768841798212\n",
      "Genome: [1, 1, 0, 1, 0, 0, 0, 0, 0, 0, 0, 0, 0, 0, 0, 0, 1, 0, 1, 0, 0, 0] with final porfolio value: 150\n",
      "Genome: [0, 1, 1, 0, 1, 0, 0, 1, 1, 0, 0, 0, 0, 1, 1, 0, 1, 0, 1, 0, 0, 1] with final porfolio value: 132.61113207222127\n",
      "Genome: [0, 1, 1, 1, 1, 0, 0, 0, 0, 0, 0, 0, 0, 0, 0, 0, 1, 0, 1, 0, 0, 0] with final porfolio value: 82.63104216390938\n",
      "Genome: [0, 1, 1, 0, 1, 0, 0, 1, 1, 0, 0, 0, 1, 0, 1, 1, 1, 0, 1, 0, 0, 0] with final porfolio value: 143.21064629512242\n",
      ">19\n",
      "Genome: [0, 1, 1, 1, 0, 0, 0, 1, 0, 0, 0, 0, 0, 1, 1, 0, 1, 1, 1, 0, 0, 0] with final porfolio value: 139.7863918882184\n",
      "Genome: [0, 1, 1, 1, 1, 0, 0, 0, 0, 1, 0, 0, 0, 0, 0, 1, 1, 0, 1, 0, 0, 1] with final porfolio value: 150\n",
      "Genome: [0, 1, 1, 0, 1, 1, 0, 1, 1, 0, 0, 0, 0, 0, 0, 0, 1, 0, 1, 1, 0, 0] with final porfolio value: 150\n",
      "Genome: [0, 1, 1, 1, 1, 1, 0, 0, 0, 1, 0, 0, 0, 0, 1, 0, 1, 0, 1, 0, 0, 1] with final porfolio value: 150\n",
      "Genome: [0, 1, 1, 1, 1, 0, 0, 0, 0, 1, 0, 0, 0, 0, 0, 0, 1, 0, 1, 0, 0, 0] with final porfolio value: 131.33768841798212\n",
      "Genome: [0, 1, 1, 1, 1, 0, 0, 0, 0, 0, 0, 0, 0, 0, 0, 1, 1, 0, 1, 0, 0, 0] with final porfolio value: 131.33768841798212\n",
      "Genome: [0, 1, 0, 1, 1, 1, 0, 1, 0, 0, 0, 0, 0, 1, 1, 0, 1, 1, 1, 0, 0, 0] with final porfolio value: 139.7863918882184\n",
      "Genome: [0, 1, 1, 1, 0, 0, 0, 0, 0, 0, 0, 0, 0, 0, 0, 0, 1, 0, 1, 0, 0, 0] with final porfolio value: 119.96759019694883\n",
      "Genome: [0, 1, 1, 1, 1, 1, 0, 0, 0, 1, 0, 0, 0, 0, 0, 0, 1, 0, 1, 0, 0, 0] with final porfolio value: 131.33768841798212\n",
      "Genome: [0, 1, 1, 1, 1, 0, 0, 0, 1, 0, 0, 0, 0, 0, 0, 0, 1, 0, 1, 0, 0, 0] with final porfolio value: 131.33768841798212\n",
      ">20\n",
      "Genome: [0, 1, 1, 1, 1, 0, 0, 0, 1, 0, 0, 0, 0, 0, 0, 0, 1, 0, 1, 0, 0, 0] with final porfolio value: 131.33768841798212\n",
      "Genome: [0, 1, 1, 1, 0, 0, 0, 0, 0, 0, 0, 0, 0, 0, 0, 0, 1, 0, 1, 0, 0, 0] with final porfolio value: 119.96759019694883\n",
      "Genome: [0, 1, 1, 1, 0, 0, 0, 0, 0, 1, 0, 0, 0, 0, 0, 0, 1, 0, 0, 0, 0, 1] with final porfolio value: 119.96759019694883\n",
      "Genome: [0, 1, 1, 1, 1, 0, 0, 0, 0, 0, 0, 0, 0, 0, 0, 0, 1, 0, 1, 0, 0, 0] with final porfolio value: 82.63104216390938\n",
      "Genome: [0, 1, 1, 1, 1, 0, 0, 0, 0, 0, 0, 0, 0, 0, 0, 1, 1, 0, 1, 0, 0, 0] with final porfolio value: 131.33768841798212\n",
      "Genome: [0, 1, 1, 1, 0, 0, 0, 0, 0, 0, 0, 0, 0, 0, 0, 0, 1, 0, 1, 0, 0, 1] with final porfolio value: 119.96759019694883\n",
      "Genome: [0, 1, 1, 1, 1, 0, 0, 0, 0, 0, 0, 0, 0, 1, 0, 0, 1, 0, 1, 0, 0, 0] with final porfolio value: 131.33768841798212\n",
      "Genome: [0, 1, 0, 1, 1, 0, 0, 0, 0, 0, 1, 0, 0, 0, 0, 1, 1, 0, 1, 0, 0, 0] with final porfolio value: 150\n"
     ]
    },
    {
     "name": "stdout",
     "output_type": "stream",
     "text": [
      "Genome: [0, 1, 1, 1, 0, 0, 0, 0, 0, 0, 0, 0, 0, 0, 1, 0, 1, 0, 1, 0, 0, 1] with final porfolio value: 150\n",
      "Genome: [0, 1, 1, 1, 1, 0, 0, 0, 0, 1, 0, 0, 0, 0, 1, 0, 1, 1, 1, 0, 0, 0] with final porfolio value: 150\n",
      ">21\n",
      "Genome: [0, 1, 1, 1, 1, 0, 0, 0, 0, 0, 0, 1, 0, 0, 0, 0, 1, 0, 1, 0, 0, 0] with final porfolio value: 131.33768841798212\n",
      "Genome: [0, 1, 1, 1, 0, 0, 0, 0, 0, 0, 0, 0, 0, 0, 0, 0, 1, 0, 1, 0, 0, 0] with final porfolio value: 119.96759019694883\n",
      "Genome: [0, 1, 1, 1, 1, 0, 1, 0, 0, 0, 0, 0, 1, 1, 0, 0, 1, 0, 1, 0, 0, 0] with final porfolio value: 150\n",
      "Genome: [0, 1, 1, 1, 0, 0, 0, 0, 0, 1, 0, 0, 0, 0, 0, 0, 1, 0, 0, 0, 0, 1] with final porfolio value: 119.96759019694883\n",
      "Genome: [0, 1, 1, 1, 0, 0, 0, 0, 1, 0, 0, 0, 0, 0, 0, 0, 1, 0, 1, 0, 0, 0] with final porfolio value: 119.96759019694883\n",
      "Genome: [0, 0, 1, 1, 1, 0, 0, 0, 1, 0, 0, 0, 0, 0, 1, 0, 1, 0, 1, 0, 0, 1] with final porfolio value: 150\n",
      "Genome: [0, 1, 1, 0, 0, 0, 0, 0, 1, 0, 0, 0, 0, 0, 0, 0, 1, 0, 1, 0, 0, 0] with final porfolio value: 150\n",
      "Genome: [0, 1, 1, 1, 1, 0, 0, 0, 1, 0, 0, 0, 0, 0, 0, 1, 1, 0, 1, 0, 0, 0] with final porfolio value: 131.33768841798212\n",
      "Genome: [0, 1, 1, 1, 0, 0, 0, 0, 0, 0, 0, 0, 0, 0, 0, 0, 1, 0, 1, 0, 0, 0] with final porfolio value: 119.96759019694883\n",
      "Genome: [0, 1, 1, 1, 1, 0, 0, 0, 0, 0, 0, 0, 0, 0, 0, 0, 1, 0, 1, 0, 0, 1] with final porfolio value: 131.33768841798212\n",
      ">22\n",
      "Genome: [0, 1, 1, 1, 0, 0, 0, 0, 0, 0, 1, 0, 0, 0, 0, 0, 1, 0, 0, 0, 0, 1] with final porfolio value: 106.60204035573904\n",
      "Genome: [0, 1, 1, 1, 0, 0, 0, 0, 0, 1, 0, 0, 0, 0, 0, 0, 1, 0, 1, 0, 0, 0] with final porfolio value: 119.96759019694883\n",
      "Genome: [0, 0, 1, 1, 1, 0, 0, 0, 0, 1, 0, 0, 0, 0, 0, 0, 1, 0, 0, 0, 0, 1] with final porfolio value: 100.88468815735013\n",
      "Genome: [0, 1, 1, 1, 0, 0, 1, 0, 0, 0, 0, 0, 0, 0, 0, 0, 0, 0, 1, 0, 0, 1] with final porfolio value: 119.96759019694883\n",
      "Genome: [0, 1, 1, 1, 0, 1, 0, 1, 0, 0, 0, 0, 0, 0, 0, 0, 1, 0, 1, 0, 0, 0] with final porfolio value: 150\n",
      "Genome: [0, 1, 1, 1, 0, 0, 0, 0, 0, 1, 0, 0, 0, 0, 0, 0, 1, 0, 0, 0, 0, 1] with final porfolio value: 119.96759019694883\n",
      "Genome: [0, 1, 1, 1, 0, 0, 0, 0, 1, 0, 0, 0, 0, 0, 0, 0, 1, 0, 0, 0, 0, 1] with final porfolio value: 119.96759019694883\n",
      "Genome: [0, 1, 1, 1, 0, 0, 0, 0, 0, 1, 0, 0, 0, 0, 0, 0, 1, 0, 1, 0, 0, 0] with final porfolio value: 119.96759019694883\n",
      "Genome: [0, 1, 1, 1, 0, 0, 0, 0, 1, 0, 0, 0, 0, 0, 0, 0, 1, 0, 1, 0, 0, 0] with final porfolio value: 119.96759019694883\n",
      "Genome: [0, 1, 1, 1, 0, 1, 0, 0, 0, 1, 0, 0, 0, 0, 0, 1, 1, 0, 0, 0, 0, 1] with final porfolio value: 150\n",
      ">23\n",
      "Genome: [0, 1, 1, 1, 0, 0, 1, 0, 0, 0, 0, 0, 0, 0, 0, 0, 0, 0, 0, 0, 1, 1] with final porfolio value: 86.3151882050155\n",
      "Genome: [0, 0, 1, 0, 1, 0, 0, 0, 0, 1, 0, 0, 0, 0, 0, 0, 0, 0, 1, 0, 0, 1] with final porfolio value: 150\n",
      "Genome: [0, 0, 1, 1, 1, 0, 0, 0, 0, 1, 0, 0, 0, 0, 0, 1, 1, 0, 0, 0, 0, 1] with final porfolio value: 150\n",
      "Genome: [0, 1, 1, 1, 0, 0, 0, 0, 0, 0, 1, 0, 0, 0, 0, 0, 1, 0, 0, 0, 0, 1] with final porfolio value: 106.60204035573904\n",
      "Genome: [1, 1, 1, 1, 0, 0, 0, 0, 0, 1, 0, 0, 0, 0, 0, 0, 1, 0, 1, 0, 0, 0] with final porfolio value: 150\n",
      "Genome: [0, 1, 1, 1, 1, 0, 0, 0, 0, 1, 0, 0, 0, 0, 0, 0, 1, 0, 1, 0, 0, 0] with final porfolio value: 131.33768841798212\n",
      "Genome: [0, 1, 1, 1, 0, 0, 1, 0, 0, 0, 0, 0, 0, 0, 0, 0, 1, 0, 1, 0, 0, 0] with final porfolio value: 119.96759019694883\n",
      "Genome: [0, 1, 1, 1, 0, 0, 0, 0, 0, 1, 0, 0, 0, 0, 0, 0, 0, 0, 1, 0, 0, 1] with final porfolio value: 119.96759019694883\n",
      "Genome: [0, 0, 1, 0, 1, 0, 0, 0, 0, 1, 0, 0, 0, 0, 0, 0, 1, 0, 0, 1, 0, 0] with final porfolio value: 150\n",
      "Genome: [0, 1, 1, 1, 0, 1, 0, 0, 0, 1, 0, 0, 0, 0, 0, 0, 1, 0, 0, 1, 0, 1] with final porfolio value: 150\n",
      ">24\n",
      "Genome: [0, 1, 1, 1, 0, 0, 0, 0, 0, 1, 0, 0, 0, 1, 0, 0, 1, 0, 1, 0, 0, 0] with final porfolio value: 150\n",
      "Genome: [0, 1, 1, 1, 0, 0, 1, 1, 0, 0, 0, 0, 0, 0, 0, 0, 0, 0, 0, 0, 1, 1] with final porfolio value: 143.14566595169262\n",
      "Genome: [0, 1, 1, 1, 0, 0, 1, 0, 0, 0, 0, 0, 0, 0, 0, 0, 1, 1, 0, 0, 0, 1] with final porfolio value: 150\n",
      "Genome: [0, 1, 1, 1, 0, 0, 0, 0, 0, 0, 1, 0, 0, 0, 1, 1, 1, 0, 1, 0, 0, 0] with final porfolio value: 141.57699166506254\n",
      "Genome: [0, 0, 1, 1, 1, 0, 0, 1, 0, 1, 0, 0, 0, 0, 0, 1, 1, 0, 0, 0, 0, 1] with final porfolio value: 150\n",
      "Genome: [0, 1, 1, 1, 1, 1, 0, 0, 0, 1, 0, 0, 0, 0, 0, 0, 1, 0, 1, 0, 0, 0] with final porfolio value: 131.33768841798212\n",
      "Genome: [0, 1, 1, 1, 0, 0, 1, 0, 0, 0, 0, 0, 0, 0, 0, 0, 1, 0, 1, 0, 0, 0] with final porfolio value: 119.96759019694883\n",
      "Genome: [0, 1, 1, 1, 1, 0, 0, 0, 0, 1, 0, 0, 0, 0, 0, 0, 0, 0, 0, 0, 1, 1] with final porfolio value: 101.69541861632001\n",
      "Genome: [0, 1, 1, 1, 0, 0, 1, 0, 0, 0, 0, 0, 0, 0, 0, 0, 1, 0, 1, 0, 0, 0] with final porfolio value: 119.96759019694883\n",
      "Genome: [0, 1, 1, 1, 0, 0, 0, 0, 0, 0, 1, 0, 0, 0, 0, 0, 1, 0, 0, 0, 0, 1] with final porfolio value: 106.60204035573904\n",
      "Done!\n",
      "f([0, 0, 0, 0, 0, 1, 1, 1, 0, 0, 0, 0, 0, 1, 0, 0, 1, 0, 0, 1, 1, 1]) = 169.223567\n"
     ]
    }
   ],
   "source": [
    "# perform the genetic algorithm search\n",
    "best, score, encoding = ga.genetic.genetic_algorithm(ga.genetic.fitness, n_bits, n_iter, n_pop, r_cross, r_mut)\n",
    "print('Done!')\n",
    "print('f(%s) = %f' % (best, score))"
   ]
  },
  {
   "cell_type": "code",
   "execution_count": 5,
   "id": "4b779a1f",
   "metadata": {},
   "outputs": [
    {
     "data": {
      "text/plain": [
       "['price_hbb_cross_20_2',\n",
       " 'price_hbb_cross_50_2.1',\n",
       " 'price_hbb_cross_10_1.9',\n",
       " 'price_sma_20_cross',\n",
       " 'price_sma_100_cross',\n",
       " 'price_ema_50_cross',\n",
       " 'adx',\n",
       " 'macd']"
      ]
     },
     "execution_count": 5,
     "metadata": {},
     "output_type": "execute_result"
    }
   ],
   "source": [
    "ga.trading.resolve_genome(best, encoding)"
   ]
  },
  {
   "cell_type": "code",
   "execution_count": 6,
   "id": "b1f38de8",
   "metadata": {},
   "outputs": [
    {
     "name": "stdout",
     "output_type": "stream",
     "text": [
      "['bb_10_bbli', 'price_hbb_cross_50_2.1', 'price_hbb_cross_10_1.9', 'price_lbb_cross_50_2.1', 'price_sma_14_cross', 'price_sma_20_cross', 'price_sma_60_cross', 'price_ema_20_50_cross', 'price_ema_20_cross']\n"
     ]
    }
   ],
   "source": [
    "print(ga.trading.resolve_genome([0, 1, 0, 0, 0, 0, 1, 1, 0, 1, 0, 0, 1, 1, 0, 1, 0, 1, 1, 0, 0, 0], encoding)) "
   ]
  },
  {
   "cell_type": "code",
   "execution_count": 7,
   "id": "49c23803",
   "metadata": {},
   "outputs": [
    {
     "name": "stdout",
     "output_type": "stream",
     "text": [
      "['price_lbb_cross_20_2', 'price_ema_20_cross']\n"
     ]
    }
   ],
   "source": [
    "print(ga.trading.resolve_genome([0, 0, 0, 0, 0, 0, 0, 0, 1, 0, 0, 0, 0, 0, 0, 0, 0, 0, 1, 0, 0, 0], encoding))"
   ]
  },
  {
   "cell_type": "code",
   "execution_count": 8,
   "id": "6574ac1e",
   "metadata": {},
   "outputs": [
    {
     "name": "stdout",
     "output_type": "stream",
     "text": [
      "['price_hbb_cross_20_2', 'price_hbb_cross_10_1.9', 'price_sma_20_cross', 'price_ema_20_50_cross', 'price_ema_20_cross', 'price_ema_50_cross', 'macd']\n"
     ]
    }
   ],
   "source": [
    "print(ga.trading.resolve_genome([0, 0, 0, 0, 0, 1, 0, 1, 0, 0, 0, 0, 0, 1, 0, 0, 0, 1, 1, 1, 0, 1], encoding))"
   ]
  }
 ],
 "metadata": {
  "kernelspec": {
   "display_name": "Python 3",
   "language": "python",
   "name": "python3"
  },
  "language_info": {
   "codemirror_mode": {
    "name": "ipython",
    "version": 3
   },
   "file_extension": ".py",
   "mimetype": "text/x-python",
   "name": "python",
   "nbconvert_exporter": "python",
   "pygments_lexer": "ipython3",
   "version": "3.8.10"
  }
 },
 "nbformat": 4,
 "nbformat_minor": 5
}
