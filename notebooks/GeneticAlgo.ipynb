{
 "cells": [
  {
   "cell_type": "code",
   "execution_count": 1,
   "id": "932c6c44",
   "metadata": {},
   "outputs": [
    {
     "name": "stdout",
     "output_type": "stream",
     "text": [
      "Obtaining file:///E:/Git/asim\n",
      "Requirement already satisfied: numpy in c:\\users\\steffen\\anaconda3\\lib\\site-packages (from geneticalgo==0.0.1.dev1) (1.20.2+mkl)\n",
      "Installing collected packages: geneticalgo\n",
      "  Attempting uninstall: geneticalgo\n",
      "    Found existing installation: geneticalgo 0.0.1.dev1\n",
      "    Uninstalling geneticalgo-0.0.1.dev1:\n",
      "      Successfully uninstalled geneticalgo-0.0.1.dev1\n",
      "  Running setup.py develop for geneticalgo\n",
      "Successfully installed geneticalgo-0.0.1.dev1\n"
     ]
    }
   ],
   "source": [
    "!pip install -e .."
   ]
  },
  {
   "cell_type": "code",
   "execution_count": 2,
   "id": "ae682c8c",
   "metadata": {},
   "outputs": [],
   "source": [
    "import geneticalgo as ga"
   ]
  },
  {
   "cell_type": "code",
   "execution_count": 3,
   "id": "70f7ec52",
   "metadata": {},
   "outputs": [],
   "source": [
    "# define the total iterations\n",
    "n_iter = 5\n",
    "# bits\n",
    "n_bits = 5\n",
    "# define the population size\n",
    "n_pop = 10\n",
    "# crossover rate\n",
    "r_cross = 0.9\n",
    "# mutation rate\n",
    "r_mut = 1.0 / float(n_bits)"
   ]
  },
  {
   "cell_type": "code",
   "execution_count": 4,
   "id": "11c871d3",
   "metadata": {},
   "outputs": [
    {
     "name": "stdout",
     "output_type": "stream",
     "text": [
      "Genome: [1, 0, 0, 0, 1] with total return: 0\n",
      ">0\n",
      "Genome: [1, 0, 0, 0, 1] with total return: 0\n",
      "Genome: [0, 1, 1, 0, 1] with total return: 0\n",
      "Genome: [1, 0, 1, 0, 1] with total return: 0\n",
      "Genome: [0, 1, 0, 1, 0] with total return: -11.496633333333353\n",
      "Genome: [0, 1, 1, 1, 0] with total return: -11.923300000000015\n",
      "Genome: [0, 1, 0, 1, 1] with total return: 0\n",
      "Genome: [0, 1, 0, 0, 0] with total return: -29.913566666666718\n",
      "Genome: [0, 0, 1, 1, 0] with total return: -17.704966666666692\n",
      "Genome: [0, 1, 0, 1, 1] with total return: 0\n",
      "Genome: [1, 1, 1, 1, 1] with total return: 0\n",
      ">1\n",
      "Genome: [0, 1, 1, 0, 1] with total return: 0\n",
      "Genome: [1, 0, 1, 0, 1] with total return: 0\n",
      "Genome: [0, 1, 0, 0, 0] with total return: -29.913566666666718\n",
      "Genome: [0, 1, 1, 1, 0] with total return: -11.923300000000015\n",
      "Genome: [1, 0, 1, 1, 0] with total return: -1.7132999999999967\n",
      "Genome: [0, 1, 1, 1, 1] with total return: 0\n",
      "Genome: [0, 1, 0, 0, 0] with total return: -29.913566666666718\n",
      "Genome: [1, 1, 1, 1, 0] with total return: -5.1373\n",
      "Genome: [0, 1, 1, 0, 0] with total return: -26.56206666666669\n",
      "Genome: [0, 1, 0, 0, 0] with total return: -29.913566666666718\n",
      ">2\n",
      "Genome: [0, 1, 0, 1, 0] with total return: -11.496633333333353\n",
      "Genome: [0, 0, 1, 1, 0] with total return: -17.704966666666692\n",
      "Genome: [0, 1, 1, 1, 0] with total return: -11.923300000000015\n",
      "Genome: [0, 1, 1, 0, 0] with total return: -26.56206666666669\n",
      "Genome: [1, 1, 0, 0, 0] with total return: -20.554600000000036\n",
      "Genome: [0, 1, 1, 0, 0] with total return: -26.56206666666669\n",
      "Genome: [1, 1, 1, 0, 0] with total return: -12.716866666666682\n",
      "Genome: [0, 0, 1, 1, 0] with total return: -17.704966666666692\n",
      "Genome: [0, 0, 1, 0, 0] with total return: -30.38866666666671\n",
      "Genome: [0, 1, 0, 0, 0] with total return: -29.913566666666718\n",
      ">3\n",
      "Genome: [1, 1, 0, 0, 0] with total return: -20.554600000000036\n",
      "Genome: [1, 1, 1, 0, 0] with total return: -12.716866666666682\n",
      "Genome: [1, 0, 0, 0, 0] with total return: -22.0834666666667\n",
      "Genome: [0, 1, 0, 0, 0] with total return: -29.913566666666718\n",
      "Genome: [0, 1, 0, 0, 0] with total return: -29.913566666666718\n",
      "Genome: [0, 0, 1, 0, 1] with total return: 0\n",
      "Genome: [0, 1, 0, 0, 0] with total return: -29.913566666666718\n",
      "Genome: [0, 0, 1, 0, 0] with total return: -30.38866666666671\n",
      "Genome: [0, 0, 0, 1, 0] with total return: -10.474566666666705\n",
      "Genome: [0, 1, 1, 1, 0] with total return: -11.923300000000015\n",
      ">4\n",
      "Genome: [1, 0, 0, 0, 1] with total return: 0\n",
      "Genome: [0, 1, 0, 0, 0] with total return: -29.913566666666718\n",
      "Genome: [1, 0, 0, 1, 0] with total return: -4.2732666666666645\n",
      "Genome: [0, 1, 0, 0, 1] with total return: 0\n",
      "Genome: [0, 0, 0, 0, 0] with total return: 0\n",
      "Genome: [0, 1, 1, 0, 0] with total return: -26.56206666666669\n",
      "Genome: [0, 0, 1, 0, 0] with total return: -30.38866666666671\n",
      "Genome: [0, 1, 0, 1, 1] with total return: 0\n",
      "Genome: [0, 0, 0, 0, 1] with total return: 3.726666666666656\n",
      "Genome: [0, 1, 1, 1, 1] with total return: 0\n",
      ">4, new best f([0, 0, 0, 0, 1]) = 3.727\n",
      "Done!\n",
      "f([0, 0, 0, 0, 1]) = 3.726667\n"
     ]
    }
   ],
   "source": [
    "# perform the genetic algorithm search\n",
    "best, score = ga.genetic.genetic_algorithm(ga.genetic.net_return, n_bits, n_iter, n_pop, r_cross, r_mut)\n",
    "print('Done!')\n",
    "print('f(%s) = %f' % (best, score))"
   ]
  },
  {
   "cell_type": "code",
   "execution_count": null,
   "id": "4b779a1f",
   "metadata": {},
   "outputs": [],
   "source": []
  }
 ],
 "metadata": {
  "kernelspec": {
   "display_name": "Python 3",
   "language": "python",
   "name": "python3"
  },
  "language_info": {
   "codemirror_mode": {
    "name": "ipython",
    "version": 3
   },
   "file_extension": ".py",
   "mimetype": "text/x-python",
   "name": "python",
   "nbconvert_exporter": "python",
   "pygments_lexer": "ipython3",
   "version": "3.8.10"
  }
 },
 "nbformat": 4,
 "nbformat_minor": 5
}
