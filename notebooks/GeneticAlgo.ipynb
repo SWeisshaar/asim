{
 "cells": [
  {
   "cell_type": "code",
   "execution_count": 3,
   "id": "06a8f16f",
   "metadata": {},
   "outputs": [
    {
     "name": "stdout",
     "output_type": "stream",
     "text": [
      "Obtaining file:///E:/Git/asim\n",
      "Requirement already satisfied: numpy in c:\\users\\steffen\\anaconda3\\lib\\site-packages (from geneticalgo==0.0.1.dev1) (1.20.2+mkl)\n",
      "Installing collected packages: geneticalgo\n",
      "  Attempting uninstall: geneticalgo\n",
      "    Found existing installation: geneticalgo 0.0.1.dev1\n",
      "    Uninstalling geneticalgo-0.0.1.dev1:\n",
      "      Successfully uninstalled geneticalgo-0.0.1.dev1\n",
      "  Running setup.py develop for geneticalgo\n",
      "Successfully installed geneticalgo-0.0.1.dev1\n"
     ]
    }
   ],
   "source": [
    "!pip install -e .."
   ]
  },
  {
   "cell_type": "code",
   "execution_count": 6,
   "id": "ea5e17d5",
   "metadata": {},
   "outputs": [],
   "source": [
    "import geneticalgo as ga"
   ]
  },
  {
   "cell_type": "code",
   "execution_count": 10,
   "id": "e2ec4df4",
   "metadata": {},
   "outputs": [],
   "source": [
    "# define the total iterations\n",
    "n_iter = 100\n",
    "# bits\n",
    "n_bits = 20\n",
    "# define the population size\n",
    "n_pop = 100\n",
    "# crossover rate\n",
    "r_cross = 0.9\n",
    "# mutation rate\n",
    "r_mut = 1.0 / float(n_bits)"
   ]
  },
  {
   "cell_type": "code",
   "execution_count": 11,
   "id": "72b1a64f",
   "metadata": {},
   "outputs": [
    {
     "name": "stdout",
     "output_type": "stream",
     "text": [
      ">0, new best f([1, 0, 1, 0, 0, 1, 1, 1, 1, 0, 0, 0, 1, 1, 0, 1, 1, 1, 1, 0]) = -12.000\n",
      ">0, new best f([1, 1, 1, 1, 0, 1, 1, 1, 0, 1, 0, 1, 1, 0, 1, 0, 1, 1, 1, 0]) = -14.000\n",
      ">0, new best f([1, 0, 1, 1, 1, 0, 0, 1, 1, 1, 1, 1, 1, 1, 1, 1, 0, 1, 1, 0]) = -15.000\n",
      ">2, new best f([1, 1, 1, 1, 0, 1, 0, 1, 1, 1, 1, 0, 1, 1, 1, 1, 1, 1, 1, 0]) = -16.000\n",
      ">3, new best f([1, 0, 1, 1, 0, 1, 1, 1, 1, 1, 1, 1, 1, 1, 1, 1, 1, 1, 1, 0]) = -17.000\n",
      ">4, new best f([1, 1, 0, 0, 1, 1, 1, 1, 1, 1, 1, 1, 1, 1, 1, 1, 1, 1, 1, 1]) = -18.000\n",
      ">6, new best f([1, 1, 1, 1, 1, 1, 1, 1, 1, 1, 1, 1, 1, 1, 1, 1, 1, 1, 1, 1]) = -20.000\n",
      "Done!\n",
      "f([1, 1, 1, 1, 1, 1, 1, 1, 1, 1, 1, 1, 1, 1, 1, 1, 1, 1, 1, 1]) = -20.000000\n"
     ]
    }
   ],
   "source": [
    "# perform the genetic algorithm search\n",
    "best, score = ga.genetic.genetic_algorithm(ga.genetic.onemax, n_bits, n_iter, n_pop, r_cross, r_mut)\n",
    "print('Done!')\n",
    "print('f(%s) = %f' % (best, score))"
   ]
  },
  {
   "cell_type": "code",
   "execution_count": null,
   "id": "91443ed2",
   "metadata": {},
   "outputs": [],
   "source": []
  }
 ],
 "metadata": {
  "kernelspec": {
   "display_name": "Python 3",
   "language": "python",
   "name": "python3"
  },
  "language_info": {
   "codemirror_mode": {
    "name": "ipython",
    "version": 3
   },
   "file_extension": ".py",
   "mimetype": "text/x-python",
   "name": "python",
   "nbconvert_exporter": "python",
   "pygments_lexer": "ipython3",
   "version": "3.8.10"
  }
 },
 "nbformat": 4,
 "nbformat_minor": 5
}
