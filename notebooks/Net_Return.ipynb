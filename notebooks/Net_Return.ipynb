{
 "cells": [
  {
   "cell_type": "code",
   "execution_count": 1,
   "id": "933c41df",
   "metadata": {},
   "outputs": [],
   "source": [
    "import pandas as pd\n",
    "import numpy as np\n",
    "import ta\n",
    "from ta import add_all_ta_features\n",
    "from ta.utils import dropna\n",
    "from matplotlib import pyplot as plt\n",
    "pd.set_option('display.max_columns', None)"
   ]
  },
  {
   "cell_type": "code",
   "execution_count": 2,
   "id": "37cfe6af",
   "metadata": {},
   "outputs": [
    {
     "data": {
      "text/html": [
       "<div>\n",
       "<style scoped>\n",
       "    .dataframe tbody tr th:only-of-type {\n",
       "        vertical-align: middle;\n",
       "    }\n",
       "\n",
       "    .dataframe tbody tr th {\n",
       "        vertical-align: top;\n",
       "    }\n",
       "\n",
       "    .dataframe thead th {\n",
       "        text-align: right;\n",
       "    }\n",
       "</style>\n",
       "<table border=\"1\" class=\"dataframe\">\n",
       "  <thead>\n",
       "    <tr style=\"text-align: right;\">\n",
       "      <th></th>\n",
       "      <th>gvkey</th>\n",
       "      <th>iid</th>\n",
       "      <th>datadate</th>\n",
       "      <th>tic</th>\n",
       "      <th>cusip</th>\n",
       "      <th>conm</th>\n",
       "      <th>div</th>\n",
       "      <th>divd</th>\n",
       "      <th>dvrated</th>\n",
       "      <th>divsppaydate</th>\n",
       "      <th>curcdd</th>\n",
       "      <th>cshoc</th>\n",
       "      <th>cshtrd</th>\n",
       "      <th>eps</th>\n",
       "      <th>prccd</th>\n",
       "      <th>prchd</th>\n",
       "      <th>prcld</th>\n",
       "      <th>prcod</th>\n",
       "      <th>prcstd</th>\n",
       "      <th>exchg</th>\n",
       "      <th>secstat</th>\n",
       "      <th>cik</th>\n",
       "      <th>conml</th>\n",
       "      <th>naics</th>\n",
       "      <th>sic</th>\n",
       "      <th>spcindcd</th>\n",
       "      <th>stko</th>\n",
       "    </tr>\n",
       "  </thead>\n",
       "  <tbody>\n",
       "    <tr>\n",
       "      <th>0</th>\n",
       "      <td>1045</td>\n",
       "      <td>1</td>\n",
       "      <td>20100104</td>\n",
       "      <td>AAMRQ</td>\n",
       "      <td>001765106</td>\n",
       "      <td>AMERICAN AIRLINES GROUP INC</td>\n",
       "      <td>NaN</td>\n",
       "      <td>NaN</td>\n",
       "      <td>NaN</td>\n",
       "      <td>NaN</td>\n",
       "      <td>USD</td>\n",
       "      <td>332456000.0</td>\n",
       "      <td>17441530.0</td>\n",
       "      <td>-4.98</td>\n",
       "      <td>7.72</td>\n",
       "      <td>7.79</td>\n",
       "      <td>7.45</td>\n",
       "      <td>7.73</td>\n",
       "      <td>3.0</td>\n",
       "      <td>19</td>\n",
       "      <td>I</td>\n",
       "      <td>6201</td>\n",
       "      <td>American Airlines Group Inc</td>\n",
       "      <td>481111</td>\n",
       "      <td>4512</td>\n",
       "      <td>605.0</td>\n",
       "      <td>0</td>\n",
       "    </tr>\n",
       "    <tr>\n",
       "      <th>1</th>\n",
       "      <td>1045</td>\n",
       "      <td>1</td>\n",
       "      <td>20100105</td>\n",
       "      <td>AAMRQ</td>\n",
       "      <td>001765106</td>\n",
       "      <td>AMERICAN AIRLINES GROUP INC</td>\n",
       "      <td>NaN</td>\n",
       "      <td>NaN</td>\n",
       "      <td>NaN</td>\n",
       "      <td>NaN</td>\n",
       "      <td>USD</td>\n",
       "      <td>332456000.0</td>\n",
       "      <td>24044700.0</td>\n",
       "      <td>-4.98</td>\n",
       "      <td>8.36</td>\n",
       "      <td>8.42</td>\n",
       "      <td>7.68</td>\n",
       "      <td>7.68</td>\n",
       "      <td>3.0</td>\n",
       "      <td>19</td>\n",
       "      <td>I</td>\n",
       "      <td>6201</td>\n",
       "      <td>American Airlines Group Inc</td>\n",
       "      <td>481111</td>\n",
       "      <td>4512</td>\n",
       "      <td>605.0</td>\n",
       "      <td>0</td>\n",
       "    </tr>\n",
       "    <tr>\n",
       "      <th>2</th>\n",
       "      <td>1045</td>\n",
       "      <td>1</td>\n",
       "      <td>20100106</td>\n",
       "      <td>AAMRQ</td>\n",
       "      <td>001765106</td>\n",
       "      <td>AMERICAN AIRLINES GROUP INC</td>\n",
       "      <td>NaN</td>\n",
       "      <td>NaN</td>\n",
       "      <td>NaN</td>\n",
       "      <td>NaN</td>\n",
       "      <td>USD</td>\n",
       "      <td>332456000.0</td>\n",
       "      <td>15770140.0</td>\n",
       "      <td>-4.98</td>\n",
       "      <td>8.11</td>\n",
       "      <td>8.31</td>\n",
       "      <td>8.01</td>\n",
       "      <td>8.11</td>\n",
       "      <td>3.0</td>\n",
       "      <td>19</td>\n",
       "      <td>I</td>\n",
       "      <td>6201</td>\n",
       "      <td>American Airlines Group Inc</td>\n",
       "      <td>481111</td>\n",
       "      <td>4512</td>\n",
       "      <td>605.0</td>\n",
       "      <td>0</td>\n",
       "    </tr>\n",
       "    <tr>\n",
       "      <th>3</th>\n",
       "      <td>1045</td>\n",
       "      <td>1</td>\n",
       "      <td>20100107</td>\n",
       "      <td>AAMRQ</td>\n",
       "      <td>001765106</td>\n",
       "      <td>AMERICAN AIRLINES GROUP INC</td>\n",
       "      <td>NaN</td>\n",
       "      <td>NaN</td>\n",
       "      <td>NaN</td>\n",
       "      <td>NaN</td>\n",
       "      <td>USD</td>\n",
       "      <td>332456000.0</td>\n",
       "      <td>17663110.0</td>\n",
       "      <td>-4.98</td>\n",
       "      <td>8.25</td>\n",
       "      <td>8.50</td>\n",
       "      <td>8.05</td>\n",
       "      <td>8.05</td>\n",
       "      <td>3.0</td>\n",
       "      <td>19</td>\n",
       "      <td>I</td>\n",
       "      <td>6201</td>\n",
       "      <td>American Airlines Group Inc</td>\n",
       "      <td>481111</td>\n",
       "      <td>4512</td>\n",
       "      <td>605.0</td>\n",
       "      <td>0</td>\n",
       "    </tr>\n",
       "    <tr>\n",
       "      <th>4</th>\n",
       "      <td>1045</td>\n",
       "      <td>1</td>\n",
       "      <td>20100108</td>\n",
       "      <td>AAMRQ</td>\n",
       "      <td>001765106</td>\n",
       "      <td>AMERICAN AIRLINES GROUP INC</td>\n",
       "      <td>NaN</td>\n",
       "      <td>NaN</td>\n",
       "      <td>NaN</td>\n",
       "      <td>NaN</td>\n",
       "      <td>USD</td>\n",
       "      <td>332456000.0</td>\n",
       "      <td>12413430.0</td>\n",
       "      <td>-4.98</td>\n",
       "      <td>8.11</td>\n",
       "      <td>8.42</td>\n",
       "      <td>7.97</td>\n",
       "      <td>8.34</td>\n",
       "      <td>3.0</td>\n",
       "      <td>19</td>\n",
       "      <td>I</td>\n",
       "      <td>6201</td>\n",
       "      <td>American Airlines Group Inc</td>\n",
       "      <td>481111</td>\n",
       "      <td>4512</td>\n",
       "      <td>605.0</td>\n",
       "      <td>0</td>\n",
       "    </tr>\n",
       "  </tbody>\n",
       "</table>\n",
       "</div>"
      ],
      "text/plain": [
       "   gvkey  iid  datadate    tic      cusip                         conm  div  \\\n",
       "0   1045    1  20100104  AAMRQ  001765106  AMERICAN AIRLINES GROUP INC  NaN   \n",
       "1   1045    1  20100105  AAMRQ  001765106  AMERICAN AIRLINES GROUP INC  NaN   \n",
       "2   1045    1  20100106  AAMRQ  001765106  AMERICAN AIRLINES GROUP INC  NaN   \n",
       "3   1045    1  20100107  AAMRQ  001765106  AMERICAN AIRLINES GROUP INC  NaN   \n",
       "4   1045    1  20100108  AAMRQ  001765106  AMERICAN AIRLINES GROUP INC  NaN   \n",
       "\n",
       "   divd  dvrated  divsppaydate curcdd        cshoc      cshtrd   eps  prccd  \\\n",
       "0   NaN      NaN           NaN    USD  332456000.0  17441530.0 -4.98   7.72   \n",
       "1   NaN      NaN           NaN    USD  332456000.0  24044700.0 -4.98   8.36   \n",
       "2   NaN      NaN           NaN    USD  332456000.0  15770140.0 -4.98   8.11   \n",
       "3   NaN      NaN           NaN    USD  332456000.0  17663110.0 -4.98   8.25   \n",
       "4   NaN      NaN           NaN    USD  332456000.0  12413430.0 -4.98   8.11   \n",
       "\n",
       "   prchd  prcld  prcod  prcstd  exchg secstat   cik  \\\n",
       "0   7.79   7.45   7.73     3.0     19       I  6201   \n",
       "1   8.42   7.68   7.68     3.0     19       I  6201   \n",
       "2   8.31   8.01   8.11     3.0     19       I  6201   \n",
       "3   8.50   8.05   8.05     3.0     19       I  6201   \n",
       "4   8.42   7.97   8.34     3.0     19       I  6201   \n",
       "\n",
       "                         conml   naics   sic  spcindcd  stko  \n",
       "0  American Airlines Group Inc  481111  4512     605.0     0  \n",
       "1  American Airlines Group Inc  481111  4512     605.0     0  \n",
       "2  American Airlines Group Inc  481111  4512     605.0     0  \n",
       "3  American Airlines Group Inc  481111  4512     605.0     0  \n",
       "4  American Airlines Group Inc  481111  4512     605.0     0  "
      ]
     },
     "execution_count": 2,
     "metadata": {},
     "output_type": "execute_result"
    }
   ],
   "source": [
    "# read the sp500 data\n",
    "df_sp=pd.read_csv(\"../data/2021-12-06_Top25 SP500 daily.csv\")\n",
    "df_sp.head()"
   ]
  },
  {
   "cell_type": "code",
   "execution_count": 3,
   "id": "51508a36",
   "metadata": {},
   "outputs": [
    {
     "data": {
      "text/plain": [
       "Index(['gvkey', 'iid', 'datadate', 'tic', 'cusip', 'conm', 'div', 'divd',\n",
       "       'dvrated', 'divsppaydate', 'curcdd', 'cshoc', 'cshtrd', 'eps', 'prccd',\n",
       "       'prchd', 'prcld', 'prcod', 'prcstd', 'exchg', 'secstat', 'cik', 'conml',\n",
       "       'naics', 'sic', 'spcindcd', 'stko'],\n",
       "      dtype='object')"
      ]
     },
     "execution_count": 3,
     "metadata": {},
     "output_type": "execute_result"
    }
   ],
   "source": [
    "df_sp.columns"
   ]
  },
  {
   "cell_type": "markdown",
   "id": "d1c12593",
   "metadata": {},
   "source": [
    "### Description Columns\n",
    "- prco = Price Open\n",
    "- prcc = Price Close\n",
    "- prch = Price High\n",
    "- prcl = Price Low\n",
    "- cshtrd = Trading Volume\n",
    "- cshov = Shares Outstanding"
   ]
  },
  {
   "cell_type": "code",
   "execution_count": 4,
   "id": "81028f51",
   "metadata": {},
   "outputs": [],
   "source": [
    "df_sp[\"datadate\"] = pd.to_datetime(df_sp[\"datadate\"].astype(str), format='%Y%m%d')"
   ]
  },
  {
   "cell_type": "code",
   "execution_count": 5,
   "id": "864a395b",
   "metadata": {},
   "outputs": [
    {
     "data": {
      "text/plain": [
       "51"
      ]
     },
     "execution_count": 5,
     "metadata": {},
     "output_type": "execute_result"
    }
   ],
   "source": [
    "len(df_sp[\"conm\"].unique())"
   ]
  },
  {
   "cell_type": "code",
   "execution_count": 6,
   "id": "df76ce64",
   "metadata": {},
   "outputs": [
    {
     "data": {
      "text/plain": [
       "82"
      ]
     },
     "execution_count": 6,
     "metadata": {},
     "output_type": "execute_result"
    }
   ],
   "source": [
    "len(df_sp[\"tic\"].unique())"
   ]
  },
  {
   "cell_type": "code",
   "execution_count": 7,
   "id": "cfc77a93",
   "metadata": {},
   "outputs": [],
   "source": [
    "df_sp = df_sp[[\"datadate\", \"conm\", \"tic\", \"prcod\", \"prccd\", \"prchd\", \"prcld\", \"cshtrd\"]].rename(columns={\"prcod\": \"Open\", \"prccd\": \"Close\", \"prchd\": \"High\", \"prcld\": \"Low\", \"cshtrd\": \"Volume\"})"
   ]
  },
  {
   "cell_type": "code",
   "execution_count": 8,
   "id": "516a8c75",
   "metadata": {},
   "outputs": [],
   "source": [
    "# price trend f closed daily or whole timeframe for american airlines\n",
    "df_aag = df_sp[(df_sp[\"conm\"]==\"AMERICAN AIRLINES GROUP INC\") & (df_sp[\"tic\"]==\"AAL\")]\n",
    "df_aag = df_aag.drop(columns=[\"conm\", \"tic\"])\n",
    "df_aag = df_aag.sort_values(by=\"datadate\")\n",
    "df_aag.reset_index(inplace=True, drop=True)"
   ]
  },
  {
   "cell_type": "code",
   "execution_count": 9,
   "id": "32d9cb79",
   "metadata": {},
   "outputs": [
    {
     "data": {
      "image/png": "[encoded data removed]",
      "text/plain": [
       "<Figure size 432x288 with 1 Axes>"
      ]
     },
     "metadata": {
      "needs_background": "light"
     },
     "output_type": "display_data"
    }
   ],
   "source": [
    "plt.plot(df_aag[\"datadate\"], df_aag[\"Close\"])\n",
    "plt.show()"
   ]
  },
  {
   "cell_type": "code",
   "execution_count": 10,
   "id": "35711bf9",
   "metadata": {},
   "outputs": [
    {
     "data": {
      "text/plain": [
       "False"
      ]
     },
     "execution_count": 10,
     "metadata": {},
     "output_type": "execute_result"
    }
   ],
   "source": [
    "df_aag[\"Close\"].isnull().values.any()"
   ]
  },
  {
   "cell_type": "markdown",
   "id": "899cf179",
   "metadata": {},
   "source": [
    "## All features from python package"
   ]
  },
  {
   "cell_type": "code",
   "execution_count": 11,
   "id": "95d7c738",
   "metadata": {},
   "outputs": [],
   "source": [
    "df_aag = dropna(df_aag)"
   ]
  },
  {
   "cell_type": "code",
   "execution_count": 12,
   "id": "25def4f7",
   "metadata": {},
   "outputs": [],
   "source": [
    "df_aag_all_features = df_aag.copy()"
   ]
  },
  {
   "cell_type": "code",
   "execution_count": 13,
   "id": "6beff682",
   "metadata": {},
   "outputs": [
    {
     "name": "stderr",
     "output_type": "stream",
     "text": [
      "C:\\Users\\Steffen\\anaconda3\\lib\\site-packages\\ta\\trend.py:769: RuntimeWarning: invalid value encountered in double_scalars\n",
      "  dip[idx] = 100 * (self._dip[idx] / value)\n",
      "C:\\Users\\Steffen\\anaconda3\\lib\\site-packages\\ta\\trend.py:774: RuntimeWarning: invalid value encountered in double_scalars\n",
      "  din[idx] = 100 * (self._din[idx] / value)\n"
     ]
    }
   ],
   "source": [
    "df_aag_all_features = add_all_ta_features(df_aag_all_features, open=\"Open\", high=\"High\", low=\"Low\", close=\"Close\", volume=\"Volume\")"
   ]
  },
  {
   "cell_type": "code",
   "execution_count": 14,
   "id": "3d8726a7",
   "metadata": {},
   "outputs": [
    {
     "data": {
      "text/plain": [
       "Index(['datadate', 'Open', 'Close', 'High', 'Low', 'Volume', 'volume_adi',\n",
       "       'volume_obv', 'volume_cmf', 'volume_fi', 'volume_em', 'volume_sma_em',\n",
       "       'volume_vpt', 'volume_vwap', 'volume_mfi', 'volume_nvi',\n",
       "       'volatility_bbm', 'volatility_bbh', 'volatility_bbl', 'volatility_bbw',\n",
       "       'volatility_bbp', 'volatility_bbhi', 'volatility_bbli',\n",
       "       'volatility_kcc', 'volatility_kch', 'volatility_kcl', 'volatility_kcw',\n",
       "       'volatility_kcp', 'volatility_kchi', 'volatility_kcli',\n",
       "       'volatility_dcl', 'volatility_dch', 'volatility_dcm', 'volatility_dcw',\n",
       "       'volatility_dcp', 'volatility_atr', 'volatility_ui', 'trend_macd',\n",
       "       'trend_macd_signal', 'trend_macd_diff', 'trend_sma_fast',\n",
       "       'trend_sma_slow', 'trend_ema_fast', 'trend_ema_slow',\n",
       "       'trend_vortex_ind_pos', 'trend_vortex_ind_neg', 'trend_vortex_ind_diff',\n",
       "       'trend_trix', 'trend_mass_index', 'trend_dpo', 'trend_kst',\n",
       "       'trend_kst_sig', 'trend_kst_diff', 'trend_ichimoku_conv',\n",
       "       'trend_ichimoku_base', 'trend_ichimoku_a', 'trend_ichimoku_b',\n",
       "       'trend_stc', 'trend_adx', 'trend_adx_pos', 'trend_adx_neg', 'trend_cci',\n",
       "       'trend_visual_ichimoku_a', 'trend_visual_ichimoku_b', 'trend_aroon_up',\n",
       "       'trend_aroon_down', 'trend_aroon_ind', 'trend_psar_up',\n",
       "       'trend_psar_down', 'trend_psar_up_indicator',\n",
       "       'trend_psar_down_indicator', 'momentum_rsi', 'momentum_stoch_rsi',\n",
       "       'momentum_stoch_rsi_k', 'momentum_stoch_rsi_d', 'momentum_tsi',\n",
       "       'momentum_uo', 'momentum_stoch', 'momentum_stoch_signal', 'momentum_wr',\n",
       "       'momentum_ao', 'momentum_roc', 'momentum_ppo', 'momentum_ppo_signal',\n",
       "       'momentum_ppo_hist', 'momentum_kama', 'others_dr', 'others_dlr',\n",
       "       'others_cr'],\n",
       "      dtype='object')"
      ]
     },
     "execution_count": 14,
     "metadata": {},
     "output_type": "execute_result"
    }
   ],
   "source": [
    "df_aag_all_features.columns"
   ]
  },
  {
   "cell_type": "code",
   "execution_count": 15,
   "id": "300684d4",
   "metadata": {},
   "outputs": [
    {
     "data": {
      "text/plain": [
       "0       6.722686e+06\n",
       "1       1.113935e+07\n",
       "2      -1.300387e+06\n",
       "3      -2.127749e+07\n",
       "4      -1.127581e+07\n",
       "            ...     \n",
       "2007   -1.802406e+09\n",
       "2008   -1.758809e+09\n",
       "2009   -1.839072e+09\n",
       "2010   -1.782483e+09\n",
       "2011   -1.806136e+09\n",
       "Name: volume_adi, Length: 2012, dtype: float64"
      ]
     },
     "execution_count": 15,
     "metadata": {},
     "output_type": "execute_result"
    }
   ],
   "source": [
    "df_aag_all_features[\"volume_adi\"]"
   ]
  },
  {
   "cell_type": "code",
   "execution_count": 16,
   "id": "9e1a35a8",
   "metadata": {},
   "outputs": [
    {
     "data": {
      "text/html": [
       "<div>\n",
       "<style scoped>\n",
       "    .dataframe tbody tr th:only-of-type {\n",
       "        vertical-align: middle;\n",
       "    }\n",
       "\n",
       "    .dataframe tbody tr th {\n",
       "        vertical-align: top;\n",
       "    }\n",
       "\n",
       "    .dataframe thead th {\n",
       "        text-align: right;\n",
       "    }\n",
       "</style>\n",
       "<table border=\"1\" class=\"dataframe\">\n",
       "  <thead>\n",
       "    <tr style=\"text-align: right;\">\n",
       "      <th></th>\n",
       "      <th>trend_adx</th>\n",
       "      <th>trend_adx_pos</th>\n",
       "      <th>trend_adx_neg</th>\n",
       "    </tr>\n",
       "  </thead>\n",
       "  <tbody>\n",
       "    <tr>\n",
       "      <th>0</th>\n",
       "      <td>0.000000</td>\n",
       "      <td>0.000000</td>\n",
       "      <td>0.000000</td>\n",
       "    </tr>\n",
       "    <tr>\n",
       "      <th>1</th>\n",
       "      <td>0.000000</td>\n",
       "      <td>0.000000</td>\n",
       "      <td>0.000000</td>\n",
       "    </tr>\n",
       "    <tr>\n",
       "      <th>2</th>\n",
       "      <td>0.000000</td>\n",
       "      <td>0.000000</td>\n",
       "      <td>0.000000</td>\n",
       "    </tr>\n",
       "    <tr>\n",
       "      <th>3</th>\n",
       "      <td>0.000000</td>\n",
       "      <td>0.000000</td>\n",
       "      <td>0.000000</td>\n",
       "    </tr>\n",
       "    <tr>\n",
       "      <th>4</th>\n",
       "      <td>0.000000</td>\n",
       "      <td>0.000000</td>\n",
       "      <td>0.000000</td>\n",
       "    </tr>\n",
       "    <tr>\n",
       "      <th>...</th>\n",
       "      <td>...</td>\n",
       "      <td>...</td>\n",
       "      <td>...</td>\n",
       "    </tr>\n",
       "    <tr>\n",
       "      <th>2007</th>\n",
       "      <td>19.560467</td>\n",
       "      <td>16.233553</td>\n",
       "      <td>38.201626</td>\n",
       "    </tr>\n",
       "    <tr>\n",
       "      <th>2008</th>\n",
       "      <td>21.387848</td>\n",
       "      <td>15.060200</td>\n",
       "      <td>39.847718</td>\n",
       "    </tr>\n",
       "    <tr>\n",
       "      <th>2009</th>\n",
       "      <td>23.485999</td>\n",
       "      <td>12.677429</td>\n",
       "      <td>38.817036</td>\n",
       "    </tr>\n",
       "    <tr>\n",
       "      <th>2010</th>\n",
       "      <td>25.497767</td>\n",
       "      <td>11.410728</td>\n",
       "      <td>35.790535</td>\n",
       "    </tr>\n",
       "    <tr>\n",
       "      <th>2011</th>\n",
       "      <td>27.365837</td>\n",
       "      <td>10.467724</td>\n",
       "      <td>32.832736</td>\n",
       "    </tr>\n",
       "  </tbody>\n",
       "</table>\n",
       "<p>2012 rows × 3 columns</p>\n",
       "</div>"
      ],
      "text/plain": [
       "      trend_adx  trend_adx_pos  trend_adx_neg\n",
       "0      0.000000       0.000000       0.000000\n",
       "1      0.000000       0.000000       0.000000\n",
       "2      0.000000       0.000000       0.000000\n",
       "3      0.000000       0.000000       0.000000\n",
       "4      0.000000       0.000000       0.000000\n",
       "...         ...            ...            ...\n",
       "2007  19.560467      16.233553      38.201626\n",
       "2008  21.387848      15.060200      39.847718\n",
       "2009  23.485999      12.677429      38.817036\n",
       "2010  25.497767      11.410728      35.790535\n",
       "2011  27.365837      10.467724      32.832736\n",
       "\n",
       "[2012 rows x 3 columns]"
      ]
     },
     "execution_count": 16,
     "metadata": {},
     "output_type": "execute_result"
    }
   ],
   "source": [
    "df_aag_all_features[[\"trend_adx\", \"trend_adx_pos\", \"trend_adx_neg\"]]"
   ]
  },
  {
   "cell_type": "code",
   "execution_count": 17,
   "id": "75b9e4f6",
   "metadata": {},
   "outputs": [
    {
     "data": {
      "text/html": [
       "<div>\n",
       "<style scoped>\n",
       "    .dataframe tbody tr th:only-of-type {\n",
       "        vertical-align: middle;\n",
       "    }\n",
       "\n",
       "    .dataframe tbody tr th {\n",
       "        vertical-align: top;\n",
       "    }\n",
       "\n",
       "    .dataframe thead th {\n",
       "        text-align: right;\n",
       "    }\n",
       "</style>\n",
       "<table border=\"1\" class=\"dataframe\">\n",
       "  <thead>\n",
       "    <tr style=\"text-align: right;\">\n",
       "      <th></th>\n",
       "      <th>trend_macd</th>\n",
       "      <th>trend_macd_signal</th>\n",
       "      <th>trend_macd_diff</th>\n",
       "    </tr>\n",
       "  </thead>\n",
       "  <tbody>\n",
       "    <tr>\n",
       "      <th>24</th>\n",
       "      <td>NaN</td>\n",
       "      <td>NaN</td>\n",
       "      <td>NaN</td>\n",
       "    </tr>\n",
       "    <tr>\n",
       "      <th>25</th>\n",
       "      <td>0.965276</td>\n",
       "      <td>NaN</td>\n",
       "      <td>NaN</td>\n",
       "    </tr>\n",
       "    <tr>\n",
       "      <th>26</th>\n",
       "      <td>1.015614</td>\n",
       "      <td>NaN</td>\n",
       "      <td>NaN</td>\n",
       "    </tr>\n",
       "    <tr>\n",
       "      <th>27</th>\n",
       "      <td>1.097723</td>\n",
       "      <td>NaN</td>\n",
       "      <td>NaN</td>\n",
       "    </tr>\n",
       "    <tr>\n",
       "      <th>28</th>\n",
       "      <td>1.200598</td>\n",
       "      <td>NaN</td>\n",
       "      <td>NaN</td>\n",
       "    </tr>\n",
       "    <tr>\n",
       "      <th>29</th>\n",
       "      <td>1.310593</td>\n",
       "      <td>NaN</td>\n",
       "      <td>NaN</td>\n",
       "    </tr>\n",
       "    <tr>\n",
       "      <th>30</th>\n",
       "      <td>1.393802</td>\n",
       "      <td>NaN</td>\n",
       "      <td>NaN</td>\n",
       "    </tr>\n",
       "    <tr>\n",
       "      <th>31</th>\n",
       "      <td>1.367326</td>\n",
       "      <td>NaN</td>\n",
       "      <td>NaN</td>\n",
       "    </tr>\n",
       "    <tr>\n",
       "      <th>32</th>\n",
       "      <td>1.313452</td>\n",
       "      <td>NaN</td>\n",
       "      <td>NaN</td>\n",
       "    </tr>\n",
       "    <tr>\n",
       "      <th>33</th>\n",
       "      <td>1.398268</td>\n",
       "      <td>1.255692</td>\n",
       "      <td>0.142577</td>\n",
       "    </tr>\n",
       "    <tr>\n",
       "      <th>34</th>\n",
       "      <td>1.530153</td>\n",
       "      <td>1.310584</td>\n",
       "      <td>0.219569</td>\n",
       "    </tr>\n",
       "  </tbody>\n",
       "</table>\n",
       "</div>"
      ],
      "text/plain": [
       "    trend_macd  trend_macd_signal  trend_macd_diff\n",
       "24         NaN                NaN              NaN\n",
       "25    0.965276                NaN              NaN\n",
       "26    1.015614                NaN              NaN\n",
       "27    1.097723                NaN              NaN\n",
       "28    1.200598                NaN              NaN\n",
       "29    1.310593                NaN              NaN\n",
       "30    1.393802                NaN              NaN\n",
       "31    1.367326                NaN              NaN\n",
       "32    1.313452                NaN              NaN\n",
       "33    1.398268           1.255692         0.142577\n",
       "34    1.530153           1.310584         0.219569"
      ]
     },
     "execution_count": 17,
     "metadata": {},
     "output_type": "execute_result"
    }
   ],
   "source": [
    "df_aag_all_features[[\"trend_macd\", \"trend_macd_signal\", \"trend_macd_diff\"]].iloc[range(24, 35)]"
   ]
  },
  {
   "cell_type": "code",
   "execution_count": 18,
   "id": "f3305063",
   "metadata": {},
   "outputs": [
    {
     "data": {
      "text/plain": [
       "0             NaN\n",
       "1             NaN\n",
       "2             NaN\n",
       "3             NaN\n",
       "4             NaN\n",
       "          ...    \n",
       "2007    19.530000\n",
       "2008    19.226667\n",
       "2009    18.892500\n",
       "2010    18.650833\n",
       "2011    18.382500\n",
       "Name: sma_12, Length: 2012, dtype: float64"
      ]
     },
     "execution_count": 18,
     "metadata": {},
     "output_type": "execute_result"
    }
   ],
   "source": [
    "ta.trend.SMAIndicator(df_aag[\"Close\"], window=12).sma_indicator()"
   ]
  },
  {
   "cell_type": "markdown",
   "id": "483a8fb6",
   "metadata": {},
   "source": [
    "# Signal-Table"
   ]
  },
  {
   "cell_type": "code",
   "execution_count": 19,
   "id": "db379bde",
   "metadata": {},
   "outputs": [
    {
     "data": {
      "text/html": [
       "<div>\n",
       "<style scoped>\n",
       "    .dataframe tbody tr th:only-of-type {\n",
       "        vertical-align: middle;\n",
       "    }\n",
       "\n",
       "    .dataframe tbody tr th {\n",
       "        vertical-align: top;\n",
       "    }\n",
       "\n",
       "    .dataframe thead th {\n",
       "        text-align: right;\n",
       "    }\n",
       "</style>\n",
       "<table border=\"1\" class=\"dataframe\">\n",
       "  <thead>\n",
       "    <tr style=\"text-align: right;\">\n",
       "      <th></th>\n",
       "      <th>datadate</th>\n",
       "      <th>Open</th>\n",
       "      <th>Close</th>\n",
       "      <th>High</th>\n",
       "      <th>Low</th>\n",
       "      <th>Volume</th>\n",
       "    </tr>\n",
       "  </thead>\n",
       "  <tbody>\n",
       "    <tr>\n",
       "      <th>0</th>\n",
       "      <td>2013-12-09</td>\n",
       "      <td>23.95</td>\n",
       "      <td>24.60</td>\n",
       "      <td>25.44</td>\n",
       "      <td>23.4501</td>\n",
       "      <td>43167060.0</td>\n",
       "    </tr>\n",
       "    <tr>\n",
       "      <th>1</th>\n",
       "      <td>2013-12-10</td>\n",
       "      <td>24.54</td>\n",
       "      <td>24.88</td>\n",
       "      <td>25.17</td>\n",
       "      <td>24.4100</td>\n",
       "      <td>18648140.0</td>\n",
       "    </tr>\n",
       "    <tr>\n",
       "      <th>2</th>\n",
       "      <td>2013-12-11</td>\n",
       "      <td>25.44</td>\n",
       "      <td>25.99</td>\n",
       "      <td>27.20</td>\n",
       "      <td>25.3700</td>\n",
       "      <td>38584270.0</td>\n",
       "    </tr>\n",
       "    <tr>\n",
       "      <th>3</th>\n",
       "      <td>2013-12-12</td>\n",
       "      <td>26.20</td>\n",
       "      <td>25.45</td>\n",
       "      <td>26.71</td>\n",
       "      <td>25.4500</td>\n",
       "      <td>19977100.0</td>\n",
       "    </tr>\n",
       "    <tr>\n",
       "      <th>4</th>\n",
       "      <td>2013-12-13</td>\n",
       "      <td>25.61</td>\n",
       "      <td>26.23</td>\n",
       "      <td>26.30</td>\n",
       "      <td>25.5201</td>\n",
       "      <td>12189890.0</td>\n",
       "    </tr>\n",
       "    <tr>\n",
       "      <th>...</th>\n",
       "      <td>...</td>\n",
       "      <td>...</td>\n",
       "      <td>...</td>\n",
       "      <td>...</td>\n",
       "      <td>...</td>\n",
       "      <td>...</td>\n",
       "    </tr>\n",
       "    <tr>\n",
       "      <th>2007</th>\n",
       "      <td>2021-11-29</td>\n",
       "      <td>18.15</td>\n",
       "      <td>17.74</td>\n",
       "      <td>18.26</td>\n",
       "      <td>17.4200</td>\n",
       "      <td>42706490.0</td>\n",
       "    </tr>\n",
       "    <tr>\n",
       "      <th>2008</th>\n",
       "      <td>2021-11-30</td>\n",
       "      <td>17.44</td>\n",
       "      <td>17.69</td>\n",
       "      <td>17.74</td>\n",
       "      <td>16.9200</td>\n",
       "      <td>49651400.0</td>\n",
       "    </tr>\n",
       "    <tr>\n",
       "      <th>2009</th>\n",
       "      <td>2021-12-01</td>\n",
       "      <td>17.94</td>\n",
       "      <td>16.28</td>\n",
       "      <td>18.24</td>\n",
       "      <td>16.2600</td>\n",
       "      <td>81917470.0</td>\n",
       "    </tr>\n",
       "    <tr>\n",
       "      <th>2010</th>\n",
       "      <td>2021-12-02</td>\n",
       "      <td>16.49</td>\n",
       "      <td>17.42</td>\n",
       "      <td>17.44</td>\n",
       "      <td>16.1500</td>\n",
       "      <td>58399490.0</td>\n",
       "    </tr>\n",
       "    <tr>\n",
       "      <th>2011</th>\n",
       "      <td>2021-12-03</td>\n",
       "      <td>17.27</td>\n",
       "      <td>16.62</td>\n",
       "      <td>17.29</td>\n",
       "      <td>16.3400</td>\n",
       "      <td>57616730.0</td>\n",
       "    </tr>\n",
       "  </tbody>\n",
       "</table>\n",
       "<p>2012 rows × 6 columns</p>\n",
       "</div>"
      ],
      "text/plain": [
       "       datadate   Open  Close   High      Low      Volume\n",
       "0    2013-12-09  23.95  24.60  25.44  23.4501  43167060.0\n",
       "1    2013-12-10  24.54  24.88  25.17  24.4100  18648140.0\n",
       "2    2013-12-11  25.44  25.99  27.20  25.3700  38584270.0\n",
       "3    2013-12-12  26.20  25.45  26.71  25.4500  19977100.0\n",
       "4    2013-12-13  25.61  26.23  26.30  25.5201  12189890.0\n",
       "...         ...    ...    ...    ...      ...         ...\n",
       "2007 2021-11-29  18.15  17.74  18.26  17.4200  42706490.0\n",
       "2008 2021-11-30  17.44  17.69  17.74  16.9200  49651400.0\n",
       "2009 2021-12-01  17.94  16.28  18.24  16.2600  81917470.0\n",
       "2010 2021-12-02  16.49  17.42  17.44  16.1500  58399490.0\n",
       "2011 2021-12-03  17.27  16.62  17.29  16.3400  57616730.0\n",
       "\n",
       "[2012 rows x 6 columns]"
      ]
     },
     "execution_count": 19,
     "metadata": {},
     "output_type": "execute_result"
    }
   ],
   "source": [
    "df_aag"
   ]
  },
  {
   "cell_type": "code",
   "execution_count": 20,
   "id": "828633e6",
   "metadata": {},
   "outputs": [],
   "source": [
    "def signal_table(df_stock):\n",
    "    \n",
    "    index = 0\n",
    "    encoding = {}\n",
    "    \n",
    "    # \n",
    "    \n",
    "    # Adding bollinger bands indicators to table\n",
    "    for window_size in [20, 40]:\n",
    "        bollinger_bands(df_stock, window=window_size, deviation=2)\n",
    "        encoding[index] = f\"bb_{window_size}_bbli\"\n",
    "        index += 1\n",
    "    \n",
    "    return df_stock, encoding"
   ]
  },
  {
   "cell_type": "code",
   "execution_count": 21,
   "id": "f68ecfe0",
   "metadata": {},
   "outputs": [],
   "source": [
    "def bollinger_bands(df, window=20, deviation=2):\n",
    "    # Initialize Bollinger Bands Indicator\n",
    "    indicator_bb = ta.volatility.BollingerBands(close=df[\"Close\"], window=window, window_dev=deviation)\n",
    "\n",
    "    # Add Bollinger Bands features\n",
    "    # df['bb_bbm'] = indicator_bb.bollinger_mavg()\n",
    "    # df['bb_bbh'] = indicator_bb.bollinger_hband()\n",
    "    # df['bb_bbl'] = indicator_bb.bollinger_lband()\n",
    "\n",
    "    # Add Bollinger Band high indicator\n",
    "    # df['bb_bbhi'] = indicator_bb.bollinger_hband_indicator()\n",
    "\n",
    "    # Add Bollinger Band low indicator\n",
    "    df[f'bb_{window}_bbli'] = indicator_bb.bollinger_lband_indicator()\n",
    "    \n",
    "    return df"
   ]
  },
  {
   "cell_type": "code",
   "execution_count": 22,
   "id": "ee313aa7",
   "metadata": {},
   "outputs": [],
   "source": [
    "aag_signal_table = signal_table(df_aag)"
   ]
  },
  {
   "cell_type": "code",
   "execution_count": 23,
   "id": "6d6b8c75",
   "metadata": {},
   "outputs": [
    {
     "data": {
      "text/plain": [
       "{0: 'bb_20_bbli', 1: 'bb_40_bbli'}"
      ]
     },
     "execution_count": 23,
     "metadata": {},
     "output_type": "execute_result"
    }
   ],
   "source": [
    "aag_signal_table[1]"
   ]
  },
  {
   "cell_type": "code",
   "execution_count": 24,
   "id": "4100407f",
   "metadata": {},
   "outputs": [
    {
     "data": {
      "text/html": [
       "<div>\n",
       "<style scoped>\n",
       "    .dataframe tbody tr th:only-of-type {\n",
       "        vertical-align: middle;\n",
       "    }\n",
       "\n",
       "    .dataframe tbody tr th {\n",
       "        vertical-align: top;\n",
       "    }\n",
       "\n",
       "    .dataframe thead th {\n",
       "        text-align: right;\n",
       "    }\n",
       "</style>\n",
       "<table border=\"1\" class=\"dataframe\">\n",
       "  <thead>\n",
       "    <tr style=\"text-align: right;\">\n",
       "      <th></th>\n",
       "      <th>datadate</th>\n",
       "      <th>Open</th>\n",
       "      <th>Close</th>\n",
       "      <th>High</th>\n",
       "      <th>Low</th>\n",
       "      <th>Volume</th>\n",
       "      <th>bb_20_bbli</th>\n",
       "      <th>bb_40_bbli</th>\n",
       "    </tr>\n",
       "  </thead>\n",
       "  <tbody>\n",
       "    <tr>\n",
       "      <th>0</th>\n",
       "      <td>2013-12-09</td>\n",
       "      <td>23.95</td>\n",
       "      <td>24.60</td>\n",
       "      <td>25.44</td>\n",
       "      <td>23.4501</td>\n",
       "      <td>43167060.0</td>\n",
       "      <td>0.0</td>\n",
       "      <td>0.0</td>\n",
       "    </tr>\n",
       "    <tr>\n",
       "      <th>1</th>\n",
       "      <td>2013-12-10</td>\n",
       "      <td>24.54</td>\n",
       "      <td>24.88</td>\n",
       "      <td>25.17</td>\n",
       "      <td>24.4100</td>\n",
       "      <td>18648140.0</td>\n",
       "      <td>0.0</td>\n",
       "      <td>0.0</td>\n",
       "    </tr>\n",
       "    <tr>\n",
       "      <th>2</th>\n",
       "      <td>2013-12-11</td>\n",
       "      <td>25.44</td>\n",
       "      <td>25.99</td>\n",
       "      <td>27.20</td>\n",
       "      <td>25.3700</td>\n",
       "      <td>38584270.0</td>\n",
       "      <td>0.0</td>\n",
       "      <td>0.0</td>\n",
       "    </tr>\n",
       "    <tr>\n",
       "      <th>3</th>\n",
       "      <td>2013-12-12</td>\n",
       "      <td>26.20</td>\n",
       "      <td>25.45</td>\n",
       "      <td>26.71</td>\n",
       "      <td>25.4500</td>\n",
       "      <td>19977100.0</td>\n",
       "      <td>0.0</td>\n",
       "      <td>0.0</td>\n",
       "    </tr>\n",
       "    <tr>\n",
       "      <th>4</th>\n",
       "      <td>2013-12-13</td>\n",
       "      <td>25.61</td>\n",
       "      <td>26.23</td>\n",
       "      <td>26.30</td>\n",
       "      <td>25.5201</td>\n",
       "      <td>12189890.0</td>\n",
       "      <td>0.0</td>\n",
       "      <td>0.0</td>\n",
       "    </tr>\n",
       "    <tr>\n",
       "      <th>...</th>\n",
       "      <td>...</td>\n",
       "      <td>...</td>\n",
       "      <td>...</td>\n",
       "      <td>...</td>\n",
       "      <td>...</td>\n",
       "      <td>...</td>\n",
       "      <td>...</td>\n",
       "      <td>...</td>\n",
       "    </tr>\n",
       "    <tr>\n",
       "      <th>2007</th>\n",
       "      <td>2021-11-29</td>\n",
       "      <td>18.15</td>\n",
       "      <td>17.74</td>\n",
       "      <td>18.26</td>\n",
       "      <td>17.4200</td>\n",
       "      <td>42706490.0</td>\n",
       "      <td>0.0</td>\n",
       "      <td>1.0</td>\n",
       "    </tr>\n",
       "    <tr>\n",
       "      <th>2008</th>\n",
       "      <td>2021-11-30</td>\n",
       "      <td>17.44</td>\n",
       "      <td>17.69</td>\n",
       "      <td>17.74</td>\n",
       "      <td>16.9200</td>\n",
       "      <td>49651400.0</td>\n",
       "      <td>0.0</td>\n",
       "      <td>1.0</td>\n",
       "    </tr>\n",
       "    <tr>\n",
       "      <th>2009</th>\n",
       "      <td>2021-12-01</td>\n",
       "      <td>17.94</td>\n",
       "      <td>16.28</td>\n",
       "      <td>18.24</td>\n",
       "      <td>16.2600</td>\n",
       "      <td>81917470.0</td>\n",
       "      <td>1.0</td>\n",
       "      <td>1.0</td>\n",
       "    </tr>\n",
       "    <tr>\n",
       "      <th>2010</th>\n",
       "      <td>2021-12-02</td>\n",
       "      <td>16.49</td>\n",
       "      <td>17.42</td>\n",
       "      <td>17.44</td>\n",
       "      <td>16.1500</td>\n",
       "      <td>58399490.0</td>\n",
       "      <td>0.0</td>\n",
       "      <td>0.0</td>\n",
       "    </tr>\n",
       "    <tr>\n",
       "      <th>2011</th>\n",
       "      <td>2021-12-03</td>\n",
       "      <td>17.27</td>\n",
       "      <td>16.62</td>\n",
       "      <td>17.29</td>\n",
       "      <td>16.3400</td>\n",
       "      <td>57616730.0</td>\n",
       "      <td>0.0</td>\n",
       "      <td>1.0</td>\n",
       "    </tr>\n",
       "  </tbody>\n",
       "</table>\n",
       "<p>2012 rows × 8 columns</p>\n",
       "</div>"
      ],
      "text/plain": [
       "       datadate   Open  Close   High      Low      Volume  bb_20_bbli  \\\n",
       "0    2013-12-09  23.95  24.60  25.44  23.4501  43167060.0         0.0   \n",
       "1    2013-12-10  24.54  24.88  25.17  24.4100  18648140.0         0.0   \n",
       "2    2013-12-11  25.44  25.99  27.20  25.3700  38584270.0         0.0   \n",
       "3    2013-12-12  26.20  25.45  26.71  25.4500  19977100.0         0.0   \n",
       "4    2013-12-13  25.61  26.23  26.30  25.5201  12189890.0         0.0   \n",
       "...         ...    ...    ...    ...      ...         ...         ...   \n",
       "2007 2021-11-29  18.15  17.74  18.26  17.4200  42706490.0         0.0   \n",
       "2008 2021-11-30  17.44  17.69  17.74  16.9200  49651400.0         0.0   \n",
       "2009 2021-12-01  17.94  16.28  18.24  16.2600  81917470.0         1.0   \n",
       "2010 2021-12-02  16.49  17.42  17.44  16.1500  58399490.0         0.0   \n",
       "2011 2021-12-03  17.27  16.62  17.29  16.3400  57616730.0         0.0   \n",
       "\n",
       "      bb_40_bbli  \n",
       "0            0.0  \n",
       "1            0.0  \n",
       "2            0.0  \n",
       "3            0.0  \n",
       "4            0.0  \n",
       "...          ...  \n",
       "2007         1.0  \n",
       "2008         1.0  \n",
       "2009         1.0  \n",
       "2010         0.0  \n",
       "2011         1.0  \n",
       "\n",
       "[2012 rows x 8 columns]"
      ]
     },
     "execution_count": 24,
     "metadata": {},
     "output_type": "execute_result"
    }
   ],
   "source": [
    "aag_signal_table[0]"
   ]
  },
  {
   "cell_type": "markdown",
   "id": "a068172f",
   "metadata": {},
   "source": [
    "# Fitness - Net Return\n",
    "Determine fitness based on:\n",
    "- genome\n",
    "- stock\n",
    "- timeframe"
   ]
  },
  {
   "cell_type": "markdown",
   "id": "bd16691b",
   "metadata": {},
   "source": [
    "## Genome Encoding"
   ]
  },
  {
   "cell_type": "code",
   "execution_count": 25,
   "id": "00a7c1c9",
   "metadata": {},
   "outputs": [],
   "source": [
    "genome = \"1010101\""
   ]
  },
  {
   "cell_type": "code",
   "execution_count": 26,
   "id": "60adc6ce",
   "metadata": {},
   "outputs": [
    {
     "data": {
      "text/plain": [
       "'1'"
      ]
     },
     "execution_count": 26,
     "metadata": {},
     "output_type": "execute_result"
    }
   ],
   "source": [
    "genome[0]"
   ]
  },
  {
   "cell_type": "code",
   "execution_count": 27,
   "id": "07f78d66",
   "metadata": {},
   "outputs": [],
   "source": [
    "encoding = {\n",
    "    0: \"sma_200\",\n",
    "    1: \"sma_90\",\n",
    "}"
   ]
  },
  {
   "cell_type": "markdown",
   "id": "e692631a",
   "metadata": {},
   "source": [
    "## Fitness Function"
   ]
  },
  {
   "cell_type": "code",
   "execution_count": 28,
   "id": "b83e45c5",
   "metadata": {},
   "outputs": [],
   "source": [
    "def fitness(genome, stock, timeframe):\n",
    "    print(\"fitness\")"
   ]
  },
  {
   "cell_type": "markdown",
   "id": "1c78ae36",
   "metadata": {},
   "source": [
    "# Simple Moving Average"
   ]
  },
  {
   "cell_type": "code",
   "execution_count": 29,
   "id": "ed55b3dc",
   "metadata": {},
   "outputs": [],
   "source": [
    "df_aag = df_aag.rename(columns={\"Open\": \"prcod\", \"Close\": \"prccd\", \"High\": \"prchd\", \"Low\": \"prcld\", \"Volume\": \"cshtrd\"})"
   ]
  },
  {
   "cell_type": "code",
   "execution_count": null,
   "id": "5ce396f1",
   "metadata": {},
   "outputs": [],
   "source": [
    "df_spaag = df_aag.rename(columns={\"Open\": \"prcod\", \"Close\": \"prccd\", \"High\": \"prchd\", \"Low\": \"prcld\", \"Volume\": \"cshtrd\"})"
   ]
  },
  {
   "cell_type": "code",
   "execution_count": 30,
   "id": "353e21c9",
   "metadata": {},
   "outputs": [],
   "source": [
    "df_aag[\"moving_average_200\"] = df_aag[[\"prccd\"]].rolling(window=200).mean()\n",
    "df_aag[\"moving_average_90\"] = df_aag[[\"prccd\"]].rolling(window=90).mean()\n",
    "df_aag[\"moving_average_30\"] = df_aag[[\"prccd\"]].rolling(window=30).mean()\n",
    "df_aag[\"moving_average_14\"] = df_aag[[\"prccd\"]].rolling(window=14).mean()\n",
    "df_aag[\"moving_average_7\"] = df_aag[[\"prccd\"]].rolling(window=7).mean()"
   ]
  },
  {
   "cell_type": "code",
   "execution_count": 31,
   "id": "660ce5f9",
   "metadata": {},
   "outputs": [
    {
     "data": {
      "image/png": "[encoded data removed]",
      "text/plain": [
       "<Figure size 432x288 with 1 Axes>"
      ]
     },
     "metadata": {
      "needs_background": "light"
     },
     "output_type": "display_data"
    }
   ],
   "source": [
    "plt.plot(df_aag[\"datadate\"], df_aag[\"prccd\"])\n",
    "# plt.plot(df_aag[\"datadate\"], df_aag[\"moving_average_200\"], color=\"red\")\n",
    "# plt.plot(df_aag[\"datadate\"], df_aag[\"moving_average_90\"], color=\"red\")\n",
    "# plt.plot(df_aag[\"datadate\"], df_aag[\"moving_average_30\"], color=\"red\")\n",
    "plt.plot(df_aag[\"datadate\"], df_aag[\"moving_average_14\"], color=\"red\")\n",
    "# plt.plot(df_aag[\"datadate\"], df_aag[\"moving_average_7\"], color=\"red\")\n",
    "plt.show()"
   ]
  },
  {
   "cell_type": "code",
   "execution_count": 32,
   "id": "ffd5b49a",
   "metadata": {},
   "outputs": [],
   "source": [
    "df_buy_signal = df_aag[[\"datadate\", \"prccd\", \"moving_average_200\"]].dropna().reset_index()"
   ]
  },
  {
   "cell_type": "code",
   "execution_count": 33,
   "id": "f4e54e2a",
   "metadata": {},
   "outputs": [
    {
     "data": {
      "text/plain": [
       "RangeIndex(start=0, stop=1813, step=1)"
      ]
     },
     "execution_count": 33,
     "metadata": {},
     "output_type": "execute_result"
    }
   ],
   "source": [
    "df_buy_signal.index"
   ]
  },
  {
   "cell_type": "code",
   "execution_count": 34,
   "id": "9caaca35",
   "metadata": {},
   "outputs": [
    {
     "data": {
      "text/html": [
       "<div>\n",
       "<style scoped>\n",
       "    .dataframe tbody tr th:only-of-type {\n",
       "        vertical-align: middle;\n",
       "    }\n",
       "\n",
       "    .dataframe tbody tr th {\n",
       "        vertical-align: top;\n",
       "    }\n",
       "\n",
       "    .dataframe thead th {\n",
       "        text-align: right;\n",
       "    }\n",
       "</style>\n",
       "<table border=\"1\" class=\"dataframe\">\n",
       "  <thead>\n",
       "    <tr style=\"text-align: right;\">\n",
       "      <th></th>\n",
       "      <th>index</th>\n",
       "      <th>datadate</th>\n",
       "      <th>prccd</th>\n",
       "      <th>moving_average_200</th>\n",
       "    </tr>\n",
       "  </thead>\n",
       "  <tbody>\n",
       "    <tr>\n",
       "      <th>0</th>\n",
       "      <td>199</td>\n",
       "      <td>2014-09-24</td>\n",
       "      <td>36.12</td>\n",
       "      <td>36.611298</td>\n",
       "    </tr>\n",
       "    <tr>\n",
       "      <th>1</th>\n",
       "      <td>200</td>\n",
       "      <td>2014-09-25</td>\n",
       "      <td>35.21</td>\n",
       "      <td>36.664348</td>\n",
       "    </tr>\n",
       "    <tr>\n",
       "      <th>2</th>\n",
       "      <td>201</td>\n",
       "      <td>2014-09-26</td>\n",
       "      <td>35.93</td>\n",
       "      <td>36.719598</td>\n",
       "    </tr>\n",
       "    <tr>\n",
       "      <th>3</th>\n",
       "      <td>202</td>\n",
       "      <td>2014-09-29</td>\n",
       "      <td>35.03</td>\n",
       "      <td>36.764798</td>\n",
       "    </tr>\n",
       "    <tr>\n",
       "      <th>4</th>\n",
       "      <td>203</td>\n",
       "      <td>2014-09-30</td>\n",
       "      <td>35.48</td>\n",
       "      <td>36.814948</td>\n",
       "    </tr>\n",
       "    <tr>\n",
       "      <th>...</th>\n",
       "      <td>...</td>\n",
       "      <td>...</td>\n",
       "      <td>...</td>\n",
       "      <td>...</td>\n",
       "    </tr>\n",
       "    <tr>\n",
       "      <th>1808</th>\n",
       "      <td>2007</td>\n",
       "      <td>2021-11-29</td>\n",
       "      <td>17.74</td>\n",
       "      <td>21.236400</td>\n",
       "    </tr>\n",
       "    <tr>\n",
       "      <th>1809</th>\n",
       "      <td>2008</td>\n",
       "      <td>2021-11-30</td>\n",
       "      <td>17.69</td>\n",
       "      <td>21.235750</td>\n",
       "    </tr>\n",
       "    <tr>\n",
       "      <th>1810</th>\n",
       "      <td>2009</td>\n",
       "      <td>2021-12-01</td>\n",
       "      <td>16.28</td>\n",
       "      <td>21.227200</td>\n",
       "    </tr>\n",
       "    <tr>\n",
       "      <th>1811</th>\n",
       "      <td>2010</td>\n",
       "      <td>2021-12-02</td>\n",
       "      <td>17.42</td>\n",
       "      <td>21.225750</td>\n",
       "    </tr>\n",
       "    <tr>\n",
       "      <th>1812</th>\n",
       "      <td>2011</td>\n",
       "      <td>2021-12-03</td>\n",
       "      <td>16.62</td>\n",
       "      <td>21.215450</td>\n",
       "    </tr>\n",
       "  </tbody>\n",
       "</table>\n",
       "<p>1813 rows × 4 columns</p>\n",
       "</div>"
      ],
      "text/plain": [
       "      index   datadate  prccd  moving_average_200\n",
       "0       199 2014-09-24  36.12           36.611298\n",
       "1       200 2014-09-25  35.21           36.664348\n",
       "2       201 2014-09-26  35.93           36.719598\n",
       "3       202 2014-09-29  35.03           36.764798\n",
       "4       203 2014-09-30  35.48           36.814948\n",
       "...     ...        ...    ...                 ...\n",
       "1808   2007 2021-11-29  17.74           21.236400\n",
       "1809   2008 2021-11-30  17.69           21.235750\n",
       "1810   2009 2021-12-01  16.28           21.227200\n",
       "1811   2010 2021-12-02  17.42           21.225750\n",
       "1812   2011 2021-12-03  16.62           21.215450\n",
       "\n",
       "[1813 rows x 4 columns]"
      ]
     },
     "execution_count": 34,
     "metadata": {},
     "output_type": "execute_result"
    }
   ],
   "source": [
    "df_buy_signal"
   ]
  },
  {
   "cell_type": "code",
   "execution_count": 35,
   "id": "62696f19",
   "metadata": {},
   "outputs": [
    {
     "name": "stdout",
     "output_type": "stream",
     "text": [
      "21.08\n"
     ]
    }
   ],
   "source": [
    "print(df_buy_signal.iloc[1702][\"prccd\"])"
   ]
  },
  {
   "cell_type": "code",
   "execution_count": 36,
   "id": "324ceffb",
   "metadata": {},
   "outputs": [
    {
     "data": {
      "text/plain": [
       "True"
      ]
     },
     "execution_count": 36,
     "metadata": {},
     "output_type": "execute_result"
    }
   ],
   "source": [
    "df_buy_signal.iloc[1702][\"prccd\"] > df_buy_signal.iloc[1702][\"moving_average_200\"]"
   ]
  },
  {
   "cell_type": "code",
   "execution_count": 37,
   "id": "89554e20",
   "metadata": {},
   "outputs": [
    {
     "data": {
      "text/plain": [
       "RangeIndex(start=0, stop=1813, step=1)"
      ]
     },
     "execution_count": 37,
     "metadata": {},
     "output_type": "execute_result"
    }
   ],
   "source": [
    "df_buy_signal.index"
   ]
  },
  {
   "cell_type": "code",
   "execution_count": 38,
   "id": "c5e0acb2",
   "metadata": {},
   "outputs": [],
   "source": [
    "# determine all buy signals\n",
    "\n",
    "list = []\n",
    "\n",
    "for i in df_buy_signal.index:\n",
    "    \n",
    "    if i-1 in df_buy_signal.index:\n",
    "        \n",
    "        # Signal, when the price crosses the sma from below, i.e. the price was below the sma the day before and is now above the sma\n",
    "        \n",
    "        if ((df_buy_signal.iloc[i][\"prccd\"] > df_buy_signal.iloc[i][\"moving_average_200\"]) & (df_buy_signal.iloc[i-1][\"prccd\"] < df_buy_signal.iloc[i][\"moving_average_200\"])):\n",
    "            \n",
    "            list.append(df_buy_signal.iloc[i][\"prccd\"])\n",
    "            \n",
    "        else:\n",
    "            \n",
    "            list.append(None)\n",
    "\n",
    "list.append(None)"
   ]
  },
  {
   "cell_type": "code",
   "execution_count": 39,
   "id": "2c0dceec",
   "metadata": {},
   "outputs": [],
   "source": [
    "df_buy_signal[\"signal\"] = list"
   ]
  },
  {
   "cell_type": "code",
   "execution_count": 40,
   "id": "c02c278a",
   "metadata": {},
   "outputs": [
    {
     "data": {
      "text/plain": [
       "27"
      ]
     },
     "execution_count": 40,
     "metadata": {},
     "output_type": "execute_result"
    }
   ],
   "source": [
    "len(df_buy_signal[\"signal\"].dropna())"
   ]
  },
  {
   "cell_type": "code",
   "execution_count": 41,
   "id": "0902649e",
   "metadata": {
    "scrolled": true
   },
   "outputs": [
    {
     "data": {
      "image/png": "[encoded data removed]",
      "text/plain": [
       "<Figure size 432x288 with 1 Axes>"
      ]
     },
     "metadata": {
      "needs_background": "light"
     },
     "output_type": "display_data"
    }
   ],
   "source": [
    "plt.plot(df_buy_signal[\"datadate\"], df_buy_signal[\"prccd\"])\n",
    "plt.plot(df_buy_signal[\"datadate\"], df_buy_signal[\"moving_average_200\"], color=\"red\")\n",
    "plt.scatter(df_buy_signal[\"datadate\"], df_buy_signal[\"signal\"], color=\"green\", marker=\"x\")\n",
    "plt.show()"
   ]
  },
  {
   "cell_type": "markdown",
   "id": "fc3715cb",
   "metadata": {},
   "source": [
    "# Bollinger Bands\n",
    "\n",
    "Source: https://www.learnpythonwithrune.org/pandas-calculate-and-plot-the-bollinger-bands-for-a-stock/"
   ]
  },
  {
   "cell_type": "code",
   "execution_count": 42,
   "id": "9795c858",
   "metadata": {},
   "outputs": [],
   "source": [
    "df_bb = df_aag[[\"datadate\", \"prcod\", \"prccd\", \"prchd\", \"prcld\"]].dropna().reset_index()"
   ]
  },
  {
   "cell_type": "code",
   "execution_count": 43,
   "id": "01abdad8",
   "metadata": {},
   "outputs": [],
   "source": [
    "interval = 200\n",
    "df_bb\n",
    "df_bb['TP'] = (df_bb['prccd'] + df_bb['prcld'] + df_bb['prchd'])/3\n",
    "df_bb['std'] = df_bb['TP'].rolling(interval).std(ddof=0)\n",
    "df_bb['MA-TP'] = df_bb['TP'].rolling(interval).mean()\n",
    "df_bb['BOLU'] = df_bb['MA-TP'] + 2*df_bb['std']\n",
    "df_bb['BOLD'] = df_bb['MA-TP'] - 2*df_bb['std']\n",
    "df_bb.dropna(inplace=True)"
   ]
  },
  {
   "cell_type": "code",
   "execution_count": 44,
   "id": "48766deb",
   "metadata": {},
   "outputs": [
    {
     "data": {
      "image/png": "[encoded data removed]",
      "text/plain": [
       "<Figure size 432x288 with 1 Axes>"
      ]
     },
     "metadata": {
      "needs_background": "light"
     },
     "output_type": "display_data"
    }
   ],
   "source": [
    "ax = df_bb[['prccd', 'BOLU', 'BOLD']].plot(color=['blue', 'orange', 'yellow'])\n",
    "ax.fill_between(df_bb.index, df_bb['BOLD'], df_bb['BOLU'], facecolor='orange', alpha=0.1)\n",
    "plt.show()\n",
    "# TODO: Index anpassen ist bisher nur ein Integer, Datetime wäre besser"
   ]
  },
  {
   "cell_type": "markdown",
   "id": "aef71fc0",
   "metadata": {},
   "source": [
    "# Calculating Returns"
   ]
  },
  {
   "cell_type": "code",
   "execution_count": 45,
   "id": "63443f52",
   "metadata": {},
   "outputs": [],
   "source": [
    "def net_return(df, ticker, date_buy, date_sell):\n",
    "    \n",
    "    course = \"prco\"\n",
    "    \n",
    "    price_buy = df_sp[(df_sp[\"tic\"] == ticker) & (df_sp[\"datadate\"] == date_buy)][\"prcod\"].values[0]\n",
    "    \n",
    "    price_sell = df_sp[(df_sp[\"tic\"] == ticker) & (df_sp[\"datadate\"] == date_sell)][\"prcod\"].values[0]\n",
    "    \n",
    "    return price_sell - price_buy"
   ]
  },
  {
   "cell_type": "code",
   "execution_count": 46,
   "id": "370012c0",
   "metadata": {},
   "outputs": [
    {
     "ename": "KeyError",
     "evalue": "'prcod'",
     "output_type": "error",
     "traceback": [
      "\u001b[1;31m---------------------------------------------------------------------------\u001b[0m",
      "\u001b[1;31mKeyError\u001b[0m                                  Traceback (most recent call last)",
      "\u001b[1;32m~\\anaconda3\\lib\\site-packages\\pandas\\core\\indexes\\base.py\u001b[0m in \u001b[0;36mget_loc\u001b[1;34m(self, key, method, tolerance)\u001b[0m\n\u001b[0;32m   3080\u001b[0m             \u001b[1;32mtry\u001b[0m\u001b[1;33m:\u001b[0m\u001b[1;33m\u001b[0m\u001b[1;33m\u001b[0m\u001b[0m\n\u001b[1;32m-> 3081\u001b[1;33m                 \u001b[1;32mreturn\u001b[0m \u001b[0mself\u001b[0m\u001b[1;33m.\u001b[0m\u001b[0m_engine\u001b[0m\u001b[1;33m.\u001b[0m\u001b[0mget_loc\u001b[0m\u001b[1;33m(\u001b[0m\u001b[0mcasted_key\u001b[0m\u001b[1;33m)\u001b[0m\u001b[1;33m\u001b[0m\u001b[1;33m\u001b[0m\u001b[0m\n\u001b[0m\u001b[0;32m   3082\u001b[0m             \u001b[1;32mexcept\u001b[0m \u001b[0mKeyError\u001b[0m \u001b[1;32mas\u001b[0m \u001b[0merr\u001b[0m\u001b[1;33m:\u001b[0m\u001b[1;33m\u001b[0m\u001b[1;33m\u001b[0m\u001b[0m\n",
      "\u001b[1;32mpandas\\_libs\\index.pyx\u001b[0m in \u001b[0;36mpandas._libs.index.IndexEngine.get_loc\u001b[1;34m()\u001b[0m\n",
      "\u001b[1;32mpandas\\_libs\\index.pyx\u001b[0m in \u001b[0;36mpandas._libs.index.IndexEngine.get_loc\u001b[1;34m()\u001b[0m\n",
      "\u001b[1;32mpandas\\_libs\\hashtable_class_helper.pxi\u001b[0m in \u001b[0;36mpandas._libs.hashtable.PyObjectHashTable.get_item\u001b[1;34m()\u001b[0m\n",
      "\u001b[1;32mpandas\\_libs\\hashtable_class_helper.pxi\u001b[0m in \u001b[0;36mpandas._libs.hashtable.PyObjectHashTable.get_item\u001b[1;34m()\u001b[0m\n",
      "\u001b[1;31mKeyError\u001b[0m: 'prcod'",
      "\nThe above exception was the direct cause of the following exception:\n",
      "\u001b[1;31mKeyError\u001b[0m                                  Traceback (most recent call last)",
      "\u001b[1;32m<ipython-input-46-8952337cedf5>\u001b[0m in \u001b[0;36m<module>\u001b[1;34m\u001b[0m\n\u001b[1;32m----> 1\u001b[1;33m \u001b[0mdf_sp\u001b[0m\u001b[1;33m[\u001b[0m\u001b[1;33m(\u001b[0m\u001b[0mdf_sp\u001b[0m\u001b[1;33m[\u001b[0m\u001b[1;34m\"tic\"\u001b[0m\u001b[1;33m]\u001b[0m \u001b[1;33m==\u001b[0m \u001b[1;34m\"AAL\"\u001b[0m\u001b[1;33m)\u001b[0m \u001b[1;33m&\u001b[0m \u001b[1;33m(\u001b[0m\u001b[0mdf_sp\u001b[0m\u001b[1;33m[\u001b[0m\u001b[1;34m\"datadate\"\u001b[0m\u001b[1;33m]\u001b[0m \u001b[1;33m==\u001b[0m \u001b[1;34m\"2021-11-30\"\u001b[0m\u001b[1;33m)\u001b[0m\u001b[1;33m]\u001b[0m\u001b[1;33m[\u001b[0m\u001b[1;34m\"prcod\"\u001b[0m\u001b[1;33m]\u001b[0m\u001b[1;33m.\u001b[0m\u001b[0mvalues\u001b[0m\u001b[1;33m[\u001b[0m\u001b[1;36m0\u001b[0m\u001b[1;33m]\u001b[0m\u001b[1;33m\u001b[0m\u001b[1;33m\u001b[0m\u001b[0m\n\u001b[0m",
      "\u001b[1;32m~\\anaconda3\\lib\\site-packages\\pandas\\core\\frame.py\u001b[0m in \u001b[0;36m__getitem__\u001b[1;34m(self, key)\u001b[0m\n\u001b[0;32m   3022\u001b[0m             \u001b[1;32mif\u001b[0m \u001b[0mself\u001b[0m\u001b[1;33m.\u001b[0m\u001b[0mcolumns\u001b[0m\u001b[1;33m.\u001b[0m\u001b[0mnlevels\u001b[0m \u001b[1;33m>\u001b[0m \u001b[1;36m1\u001b[0m\u001b[1;33m:\u001b[0m\u001b[1;33m\u001b[0m\u001b[1;33m\u001b[0m\u001b[0m\n\u001b[0;32m   3023\u001b[0m                 \u001b[1;32mreturn\u001b[0m \u001b[0mself\u001b[0m\u001b[1;33m.\u001b[0m\u001b[0m_getitem_multilevel\u001b[0m\u001b[1;33m(\u001b[0m\u001b[0mkey\u001b[0m\u001b[1;33m)\u001b[0m\u001b[1;33m\u001b[0m\u001b[1;33m\u001b[0m\u001b[0m\n\u001b[1;32m-> 3024\u001b[1;33m             \u001b[0mindexer\u001b[0m \u001b[1;33m=\u001b[0m \u001b[0mself\u001b[0m\u001b[1;33m.\u001b[0m\u001b[0mcolumns\u001b[0m\u001b[1;33m.\u001b[0m\u001b[0mget_loc\u001b[0m\u001b[1;33m(\u001b[0m\u001b[0mkey\u001b[0m\u001b[1;33m)\u001b[0m\u001b[1;33m\u001b[0m\u001b[1;33m\u001b[0m\u001b[0m\n\u001b[0m\u001b[0;32m   3025\u001b[0m             \u001b[1;32mif\u001b[0m \u001b[0mis_integer\u001b[0m\u001b[1;33m(\u001b[0m\u001b[0mindexer\u001b[0m\u001b[1;33m)\u001b[0m\u001b[1;33m:\u001b[0m\u001b[1;33m\u001b[0m\u001b[1;33m\u001b[0m\u001b[0m\n\u001b[0;32m   3026\u001b[0m                 \u001b[0mindexer\u001b[0m \u001b[1;33m=\u001b[0m \u001b[1;33m[\u001b[0m\u001b[0mindexer\u001b[0m\u001b[1;33m]\u001b[0m\u001b[1;33m\u001b[0m\u001b[1;33m\u001b[0m\u001b[0m\n",
      "\u001b[1;32m~\\anaconda3\\lib\\site-packages\\pandas\\core\\indexes\\base.py\u001b[0m in \u001b[0;36mget_loc\u001b[1;34m(self, key, method, tolerance)\u001b[0m\n\u001b[0;32m   3081\u001b[0m                 \u001b[1;32mreturn\u001b[0m \u001b[0mself\u001b[0m\u001b[1;33m.\u001b[0m\u001b[0m_engine\u001b[0m\u001b[1;33m.\u001b[0m\u001b[0mget_loc\u001b[0m\u001b[1;33m(\u001b[0m\u001b[0mcasted_key\u001b[0m\u001b[1;33m)\u001b[0m\u001b[1;33m\u001b[0m\u001b[1;33m\u001b[0m\u001b[0m\n\u001b[0;32m   3082\u001b[0m             \u001b[1;32mexcept\u001b[0m \u001b[0mKeyError\u001b[0m \u001b[1;32mas\u001b[0m \u001b[0merr\u001b[0m\u001b[1;33m:\u001b[0m\u001b[1;33m\u001b[0m\u001b[1;33m\u001b[0m\u001b[0m\n\u001b[1;32m-> 3083\u001b[1;33m                 \u001b[1;32mraise\u001b[0m \u001b[0mKeyError\u001b[0m\u001b[1;33m(\u001b[0m\u001b[0mkey\u001b[0m\u001b[1;33m)\u001b[0m \u001b[1;32mfrom\u001b[0m \u001b[0merr\u001b[0m\u001b[1;33m\u001b[0m\u001b[1;33m\u001b[0m\u001b[0m\n\u001b[0m\u001b[0;32m   3084\u001b[0m \u001b[1;33m\u001b[0m\u001b[0m\n\u001b[0;32m   3085\u001b[0m         \u001b[1;32mif\u001b[0m \u001b[0mtolerance\u001b[0m \u001b[1;32mis\u001b[0m \u001b[1;32mnot\u001b[0m \u001b[1;32mNone\u001b[0m\u001b[1;33m:\u001b[0m\u001b[1;33m\u001b[0m\u001b[1;33m\u001b[0m\u001b[0m\n",
      "\u001b[1;31mKeyError\u001b[0m: 'prcod'"
     ]
    }
   ],
   "source": [
    "df_sp[(df_sp[\"tic\"] == \"AAL\") & (df_sp[\"datadate\"] == \"2021-11-30\")][\"prcod\"].values[0]"
   ]
  },
  {
   "cell_type": "code",
   "execution_count": null,
   "id": "50eb42d2",
   "metadata": {},
   "outputs": [],
   "source": [
    "net_return(df_sp, \"AAL\", \"2021-11-15\", \"2021-11-30\")"
   ]
  },
  {
   "cell_type": "markdown",
   "id": "fe25f447",
   "metadata": {},
   "source": [
    "# Returns on given rulset"
   ]
  },
  {
   "cell_type": "code",
   "execution_count": null,
   "id": "9322c4d3",
   "metadata": {},
   "outputs": [],
   "source": [
    "df_buy_signal"
   ]
  },
  {
   "cell_type": "code",
   "execution_count": null,
   "id": "585f0f59",
   "metadata": {},
   "outputs": [],
   "source": [
    "list = []\n",
    "\n",
    "position = False\n",
    "\n",
    "total_return = 0\n",
    "\n",
    "transactions = 0\n",
    "\n",
    "for i in df_buy_signal.index:\n",
    "    \n",
    "    if i-1 in df_buy_signal.index:\n",
    "        \n",
    "        # Signal, when the price crosses the sma from below, i.e. the price was below the sma the day before and is now above the sma\n",
    "        if ((df_buy_signal.iloc[i][\"prccd\"] > df_buy_signal.iloc[i][\"moving_average_200\"]) &\n",
    "            (df_buy_signal.iloc[i-1][\"prccd\"] < df_buy_signal.iloc[i][\"moving_average_200\"]) &\n",
    "            (position == False)):\n",
    "            \n",
    "            position = True\n",
    "            \n",
    "            transactions += 1\n",
    "            \n",
    "            price_buy = df_buy_signal.iloc[i][\"prccd\"]\n",
    "            \n",
    "        elif(position == True):\n",
    "            \n",
    "            net_return = df_buy_signal.iloc[i][\"prccd\"] - price_buy\n",
    "            \n",
    "            percentage = 0.05\n",
    "            \n",
    "            # Close position if it makes 10 % loss or profit\n",
    "            if((net_return < -(percentage * price_buy)) |\n",
    "               (net_return > (percentage * price_buy))):\n",
    "                \n",
    "                position = False\n",
    "                \n",
    "                transactions += 1\n",
    "                \n",
    "                total_return += net_return\n",
    "                \n",
    "    list.append(total_return)\n",
    "\n",
    "print(position)\n",
    "\n",
    "print(transactions)"
   ]
  },
  {
   "cell_type": "code",
   "execution_count": null,
   "id": "f041683d",
   "metadata": {},
   "outputs": [],
   "source": [
    "print(\"Return using the 200 day moving average as indicator: \" + str(list[len(list)-1]))"
   ]
  },
  {
   "cell_type": "code",
   "execution_count": null,
   "id": "a5c6cafe",
   "metadata": {},
   "outputs": [],
   "source": [
    "print(\"Return using a buy and hold approach: \" + str(df_buy_signal.iloc[len(df_buy_signal)-1][\"prccd\"] - df_buy_signal.iloc[0][\"prccd\"]))"
   ]
  },
  {
   "cell_type": "code",
   "execution_count": null,
   "id": "216ec43a",
   "metadata": {},
   "outputs": [],
   "source": [
    "df_buy_signal[\"total_return\"] = list"
   ]
  },
  {
   "cell_type": "code",
   "execution_count": null,
   "id": "8887db9a",
   "metadata": {},
   "outputs": [],
   "source": [
    "plt.plot(df_buy_signal[\"datadate\"], df_buy_signal[\"prccd\"])\n",
    "plt.plot(df_buy_signal[\"datadate\"], df_buy_signal[\"moving_average_200\"], color=\"red\")\n",
    "plt.scatter(df_buy_signal[\"datadate\"], df_buy_signal[\"signal\"], color=\"green\", marker=\"x\")\n",
    "plt.plot(df_buy_signal[\"datadate\"], df_buy_signal[\"total_return\"], color=\"orange\")\n",
    "plt.show()"
   ]
  }
 ],
 "metadata": {
  "kernelspec": {
   "display_name": "Python 3",
   "language": "python",
   "name": "python3"
  },
  "language_info": {
   "codemirror_mode": {
    "name": "ipython",
    "version": 3
   },
   "file_extension": ".py",
   "mimetype": "text/x-python",
   "name": "python",
   "nbconvert_exporter": "python",
   "pygments_lexer": "ipython3",
   "version": "3.8.10"
  }
 },
 "nbformat": 4,
 "nbformat_minor": 5
}
