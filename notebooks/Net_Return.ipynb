{
 "cells": [
  {
   "cell_type": "code",
   "execution_count": 1,
   "id": "933c41df",
   "metadata": {},
   "outputs": [],
   "source": [
    "import pandas as pd\n",
    "import numpy as np\n",
    "from matplotlib import pyplot as plt\n",
    "pd.set_option('display.max_columns', None)"
   ]
  },
  {
   "cell_type": "code",
   "execution_count": 2,
   "id": "37cfe6af",
   "metadata": {},
   "outputs": [
    {
     "data": {
      "text/html": [
       "<div>\n",
       "<style scoped>\n",
       "    .dataframe tbody tr th:only-of-type {\n",
       "        vertical-align: middle;\n",
       "    }\n",
       "\n",
       "    .dataframe tbody tr th {\n",
       "        vertical-align: top;\n",
       "    }\n",
       "\n",
       "    .dataframe thead th {\n",
       "        text-align: right;\n",
       "    }\n",
       "</style>\n",
       "<table border=\"1\" class=\"dataframe\">\n",
       "  <thead>\n",
       "    <tr style=\"text-align: right;\">\n",
       "      <th></th>\n",
       "      <th>gvkey</th>\n",
       "      <th>iid</th>\n",
       "      <th>datadate</th>\n",
       "      <th>tic</th>\n",
       "      <th>cusip</th>\n",
       "      <th>conm</th>\n",
       "      <th>div</th>\n",
       "      <th>divd</th>\n",
       "      <th>dvrated</th>\n",
       "      <th>divsppaydate</th>\n",
       "      <th>curcdd</th>\n",
       "      <th>cshoc</th>\n",
       "      <th>cshtrd</th>\n",
       "      <th>eps</th>\n",
       "      <th>prccd</th>\n",
       "      <th>prchd</th>\n",
       "      <th>prcld</th>\n",
       "      <th>prcod</th>\n",
       "      <th>prcstd</th>\n",
       "      <th>exchg</th>\n",
       "      <th>secstat</th>\n",
       "      <th>cik</th>\n",
       "      <th>conml</th>\n",
       "      <th>naics</th>\n",
       "      <th>sic</th>\n",
       "      <th>spcindcd</th>\n",
       "      <th>stko</th>\n",
       "    </tr>\n",
       "  </thead>\n",
       "  <tbody>\n",
       "    <tr>\n",
       "      <th>0</th>\n",
       "      <td>1045</td>\n",
       "      <td>1</td>\n",
       "      <td>20100104</td>\n",
       "      <td>AAMRQ</td>\n",
       "      <td>001765106</td>\n",
       "      <td>AMERICAN AIRLINES GROUP INC</td>\n",
       "      <td>NaN</td>\n",
       "      <td>NaN</td>\n",
       "      <td>NaN</td>\n",
       "      <td>NaN</td>\n",
       "      <td>USD</td>\n",
       "      <td>332456000.0</td>\n",
       "      <td>17441530.0</td>\n",
       "      <td>-4.98</td>\n",
       "      <td>7.72</td>\n",
       "      <td>7.79</td>\n",
       "      <td>7.45</td>\n",
       "      <td>7.73</td>\n",
       "      <td>3.0</td>\n",
       "      <td>19</td>\n",
       "      <td>I</td>\n",
       "      <td>6201</td>\n",
       "      <td>American Airlines Group Inc</td>\n",
       "      <td>481111</td>\n",
       "      <td>4512</td>\n",
       "      <td>605.0</td>\n",
       "      <td>0</td>\n",
       "    </tr>\n",
       "    <tr>\n",
       "      <th>1</th>\n",
       "      <td>1045</td>\n",
       "      <td>1</td>\n",
       "      <td>20100105</td>\n",
       "      <td>AAMRQ</td>\n",
       "      <td>001765106</td>\n",
       "      <td>AMERICAN AIRLINES GROUP INC</td>\n",
       "      <td>NaN</td>\n",
       "      <td>NaN</td>\n",
       "      <td>NaN</td>\n",
       "      <td>NaN</td>\n",
       "      <td>USD</td>\n",
       "      <td>332456000.0</td>\n",
       "      <td>24044700.0</td>\n",
       "      <td>-4.98</td>\n",
       "      <td>8.36</td>\n",
       "      <td>8.42</td>\n",
       "      <td>7.68</td>\n",
       "      <td>7.68</td>\n",
       "      <td>3.0</td>\n",
       "      <td>19</td>\n",
       "      <td>I</td>\n",
       "      <td>6201</td>\n",
       "      <td>American Airlines Group Inc</td>\n",
       "      <td>481111</td>\n",
       "      <td>4512</td>\n",
       "      <td>605.0</td>\n",
       "      <td>0</td>\n",
       "    </tr>\n",
       "    <tr>\n",
       "      <th>2</th>\n",
       "      <td>1045</td>\n",
       "      <td>1</td>\n",
       "      <td>20100106</td>\n",
       "      <td>AAMRQ</td>\n",
       "      <td>001765106</td>\n",
       "      <td>AMERICAN AIRLINES GROUP INC</td>\n",
       "      <td>NaN</td>\n",
       "      <td>NaN</td>\n",
       "      <td>NaN</td>\n",
       "      <td>NaN</td>\n",
       "      <td>USD</td>\n",
       "      <td>332456000.0</td>\n",
       "      <td>15770140.0</td>\n",
       "      <td>-4.98</td>\n",
       "      <td>8.11</td>\n",
       "      <td>8.31</td>\n",
       "      <td>8.01</td>\n",
       "      <td>8.11</td>\n",
       "      <td>3.0</td>\n",
       "      <td>19</td>\n",
       "      <td>I</td>\n",
       "      <td>6201</td>\n",
       "      <td>American Airlines Group Inc</td>\n",
       "      <td>481111</td>\n",
       "      <td>4512</td>\n",
       "      <td>605.0</td>\n",
       "      <td>0</td>\n",
       "    </tr>\n",
       "    <tr>\n",
       "      <th>3</th>\n",
       "      <td>1045</td>\n",
       "      <td>1</td>\n",
       "      <td>20100107</td>\n",
       "      <td>AAMRQ</td>\n",
       "      <td>001765106</td>\n",
       "      <td>AMERICAN AIRLINES GROUP INC</td>\n",
       "      <td>NaN</td>\n",
       "      <td>NaN</td>\n",
       "      <td>NaN</td>\n",
       "      <td>NaN</td>\n",
       "      <td>USD</td>\n",
       "      <td>332456000.0</td>\n",
       "      <td>17663110.0</td>\n",
       "      <td>-4.98</td>\n",
       "      <td>8.25</td>\n",
       "      <td>8.50</td>\n",
       "      <td>8.05</td>\n",
       "      <td>8.05</td>\n",
       "      <td>3.0</td>\n",
       "      <td>19</td>\n",
       "      <td>I</td>\n",
       "      <td>6201</td>\n",
       "      <td>American Airlines Group Inc</td>\n",
       "      <td>481111</td>\n",
       "      <td>4512</td>\n",
       "      <td>605.0</td>\n",
       "      <td>0</td>\n",
       "    </tr>\n",
       "    <tr>\n",
       "      <th>4</th>\n",
       "      <td>1045</td>\n",
       "      <td>1</td>\n",
       "      <td>20100108</td>\n",
       "      <td>AAMRQ</td>\n",
       "      <td>001765106</td>\n",
       "      <td>AMERICAN AIRLINES GROUP INC</td>\n",
       "      <td>NaN</td>\n",
       "      <td>NaN</td>\n",
       "      <td>NaN</td>\n",
       "      <td>NaN</td>\n",
       "      <td>USD</td>\n",
       "      <td>332456000.0</td>\n",
       "      <td>12413430.0</td>\n",
       "      <td>-4.98</td>\n",
       "      <td>8.11</td>\n",
       "      <td>8.42</td>\n",
       "      <td>7.97</td>\n",
       "      <td>8.34</td>\n",
       "      <td>3.0</td>\n",
       "      <td>19</td>\n",
       "      <td>I</td>\n",
       "      <td>6201</td>\n",
       "      <td>American Airlines Group Inc</td>\n",
       "      <td>481111</td>\n",
       "      <td>4512</td>\n",
       "      <td>605.0</td>\n",
       "      <td>0</td>\n",
       "    </tr>\n",
       "  </tbody>\n",
       "</table>\n",
       "</div>"
      ],
      "text/plain": [
       "   gvkey  iid  datadate    tic      cusip                         conm  div  \\\n",
       "0   1045    1  20100104  AAMRQ  001765106  AMERICAN AIRLINES GROUP INC  NaN   \n",
       "1   1045    1  20100105  AAMRQ  001765106  AMERICAN AIRLINES GROUP INC  NaN   \n",
       "2   1045    1  20100106  AAMRQ  001765106  AMERICAN AIRLINES GROUP INC  NaN   \n",
       "3   1045    1  20100107  AAMRQ  001765106  AMERICAN AIRLINES GROUP INC  NaN   \n",
       "4   1045    1  20100108  AAMRQ  001765106  AMERICAN AIRLINES GROUP INC  NaN   \n",
       "\n",
       "   divd  dvrated  divsppaydate curcdd        cshoc      cshtrd   eps  prccd  \\\n",
       "0   NaN      NaN           NaN    USD  332456000.0  17441530.0 -4.98   7.72   \n",
       "1   NaN      NaN           NaN    USD  332456000.0  24044700.0 -4.98   8.36   \n",
       "2   NaN      NaN           NaN    USD  332456000.0  15770140.0 -4.98   8.11   \n",
       "3   NaN      NaN           NaN    USD  332456000.0  17663110.0 -4.98   8.25   \n",
       "4   NaN      NaN           NaN    USD  332456000.0  12413430.0 -4.98   8.11   \n",
       "\n",
       "   prchd  prcld  prcod  prcstd  exchg secstat   cik  \\\n",
       "0   7.79   7.45   7.73     3.0     19       I  6201   \n",
       "1   8.42   7.68   7.68     3.0     19       I  6201   \n",
       "2   8.31   8.01   8.11     3.0     19       I  6201   \n",
       "3   8.50   8.05   8.05     3.0     19       I  6201   \n",
       "4   8.42   7.97   8.34     3.0     19       I  6201   \n",
       "\n",
       "                         conml   naics   sic  spcindcd  stko  \n",
       "0  American Airlines Group Inc  481111  4512     605.0     0  \n",
       "1  American Airlines Group Inc  481111  4512     605.0     0  \n",
       "2  American Airlines Group Inc  481111  4512     605.0     0  \n",
       "3  American Airlines Group Inc  481111  4512     605.0     0  \n",
       "4  American Airlines Group Inc  481111  4512     605.0     0  "
      ]
     },
     "execution_count": 2,
     "metadata": {},
     "output_type": "execute_result"
    }
   ],
   "source": [
    "# read the sp500 data\n",
    "df_sp=pd.read_csv(\"../data/2021-12-06_Top25 SP500 daily.csv\")\n",
    "df_sp.head()"
   ]
  },
  {
   "cell_type": "code",
   "execution_count": 3,
   "id": "51508a36",
   "metadata": {},
   "outputs": [
    {
     "data": {
      "text/plain": [
       "Index(['gvkey', 'iid', 'datadate', 'tic', 'cusip', 'conm', 'div', 'divd',\n",
       "       'dvrated', 'divsppaydate', 'curcdd', 'cshoc', 'cshtrd', 'eps', 'prccd',\n",
       "       'prchd', 'prcld', 'prcod', 'prcstd', 'exchg', 'secstat', 'cik', 'conml',\n",
       "       'naics', 'sic', 'spcindcd', 'stko'],\n",
       "      dtype='object')"
      ]
     },
     "execution_count": 3,
     "metadata": {},
     "output_type": "execute_result"
    }
   ],
   "source": [
    "df_sp.columns"
   ]
  },
  {
   "cell_type": "markdown",
   "id": "d1c12593",
   "metadata": {},
   "source": [
    "### Description Columns\n",
    "- prco = Price Open\n",
    "- prcc = Price Close\n",
    "- prch = Price High\n",
    "- prcl = Price Low"
   ]
  },
  {
   "cell_type": "code",
   "execution_count": 4,
   "id": "81028f51",
   "metadata": {},
   "outputs": [],
   "source": [
    "df_sp[\"datadate\"] = pd.to_datetime(df_sp[\"datadate\"].astype(str), format='%Y%m%d')"
   ]
  },
  {
   "cell_type": "code",
   "execution_count": 5,
   "id": "864a395b",
   "metadata": {},
   "outputs": [
    {
     "data": {
      "text/plain": [
       "51"
      ]
     },
     "execution_count": 5,
     "metadata": {},
     "output_type": "execute_result"
    }
   ],
   "source": [
    "len(df_sp[\"conm\"].unique())"
   ]
  },
  {
   "cell_type": "code",
   "execution_count": 6,
   "id": "516a8c75",
   "metadata": {},
   "outputs": [
    {
     "data": {
      "text/html": [
       "<div>\n",
       "<style scoped>\n",
       "    .dataframe tbody tr th:only-of-type {\n",
       "        vertical-align: middle;\n",
       "    }\n",
       "\n",
       "    .dataframe tbody tr th {\n",
       "        vertical-align: top;\n",
       "    }\n",
       "\n",
       "    .dataframe thead th {\n",
       "        text-align: right;\n",
       "    }\n",
       "</style>\n",
       "<table border=\"1\" class=\"dataframe\">\n",
       "  <thead>\n",
       "    <tr style=\"text-align: right;\">\n",
       "      <th></th>\n",
       "      <th>gvkey</th>\n",
       "      <th>iid</th>\n",
       "      <th>datadate</th>\n",
       "      <th>tic</th>\n",
       "      <th>cusip</th>\n",
       "      <th>conm</th>\n",
       "      <th>div</th>\n",
       "      <th>divd</th>\n",
       "      <th>dvrated</th>\n",
       "      <th>divsppaydate</th>\n",
       "      <th>curcdd</th>\n",
       "      <th>cshoc</th>\n",
       "      <th>cshtrd</th>\n",
       "      <th>eps</th>\n",
       "      <th>prccd</th>\n",
       "      <th>prchd</th>\n",
       "      <th>prcld</th>\n",
       "      <th>prcod</th>\n",
       "      <th>prcstd</th>\n",
       "      <th>exchg</th>\n",
       "      <th>secstat</th>\n",
       "      <th>cik</th>\n",
       "      <th>conml</th>\n",
       "      <th>naics</th>\n",
       "      <th>sic</th>\n",
       "      <th>spcindcd</th>\n",
       "      <th>stko</th>\n",
       "    </tr>\n",
       "  </thead>\n",
       "  <tbody>\n",
       "    <tr>\n",
       "      <th>1496</th>\n",
       "      <td>1045</td>\n",
       "      <td>4</td>\n",
       "      <td>2013-12-09</td>\n",
       "      <td>AAL</td>\n",
       "      <td>02376R102</td>\n",
       "      <td>AMERICAN AIRLINES GROUP INC</td>\n",
       "      <td>NaN</td>\n",
       "      <td>NaN</td>\n",
       "      <td>NaN</td>\n",
       "      <td>NaN</td>\n",
       "      <td>USD</td>\n",
       "      <td>219297000.0</td>\n",
       "      <td>43167060.0</td>\n",
       "      <td>NaN</td>\n",
       "      <td>24.60</td>\n",
       "      <td>25.44</td>\n",
       "      <td>23.4501</td>\n",
       "      <td>23.95</td>\n",
       "      <td>3.0</td>\n",
       "      <td>14</td>\n",
       "      <td>A</td>\n",
       "      <td>6201</td>\n",
       "      <td>American Airlines Group Inc</td>\n",
       "      <td>481111</td>\n",
       "      <td>4512</td>\n",
       "      <td>605.0</td>\n",
       "      <td>0</td>\n",
       "    </tr>\n",
       "    <tr>\n",
       "      <th>1497</th>\n",
       "      <td>1045</td>\n",
       "      <td>4</td>\n",
       "      <td>2013-12-10</td>\n",
       "      <td>AAL</td>\n",
       "      <td>02376R102</td>\n",
       "      <td>AMERICAN AIRLINES GROUP INC</td>\n",
       "      <td>NaN</td>\n",
       "      <td>NaN</td>\n",
       "      <td>NaN</td>\n",
       "      <td>NaN</td>\n",
       "      <td>USD</td>\n",
       "      <td>219297000.0</td>\n",
       "      <td>18648140.0</td>\n",
       "      <td>NaN</td>\n",
       "      <td>24.88</td>\n",
       "      <td>25.17</td>\n",
       "      <td>24.4100</td>\n",
       "      <td>24.54</td>\n",
       "      <td>3.0</td>\n",
       "      <td>14</td>\n",
       "      <td>A</td>\n",
       "      <td>6201</td>\n",
       "      <td>American Airlines Group Inc</td>\n",
       "      <td>481111</td>\n",
       "      <td>4512</td>\n",
       "      <td>605.0</td>\n",
       "      <td>0</td>\n",
       "    </tr>\n",
       "    <tr>\n",
       "      <th>1498</th>\n",
       "      <td>1045</td>\n",
       "      <td>4</td>\n",
       "      <td>2013-12-11</td>\n",
       "      <td>AAL</td>\n",
       "      <td>02376R102</td>\n",
       "      <td>AMERICAN AIRLINES GROUP INC</td>\n",
       "      <td>NaN</td>\n",
       "      <td>NaN</td>\n",
       "      <td>NaN</td>\n",
       "      <td>NaN</td>\n",
       "      <td>USD</td>\n",
       "      <td>219297000.0</td>\n",
       "      <td>38584270.0</td>\n",
       "      <td>NaN</td>\n",
       "      <td>25.99</td>\n",
       "      <td>27.20</td>\n",
       "      <td>25.3700</td>\n",
       "      <td>25.44</td>\n",
       "      <td>3.0</td>\n",
       "      <td>14</td>\n",
       "      <td>A</td>\n",
       "      <td>6201</td>\n",
       "      <td>American Airlines Group Inc</td>\n",
       "      <td>481111</td>\n",
       "      <td>4512</td>\n",
       "      <td>605.0</td>\n",
       "      <td>0</td>\n",
       "    </tr>\n",
       "    <tr>\n",
       "      <th>1499</th>\n",
       "      <td>1045</td>\n",
       "      <td>4</td>\n",
       "      <td>2013-12-12</td>\n",
       "      <td>AAL</td>\n",
       "      <td>02376R102</td>\n",
       "      <td>AMERICAN AIRLINES GROUP INC</td>\n",
       "      <td>NaN</td>\n",
       "      <td>NaN</td>\n",
       "      <td>NaN</td>\n",
       "      <td>NaN</td>\n",
       "      <td>USD</td>\n",
       "      <td>219297000.0</td>\n",
       "      <td>19977100.0</td>\n",
       "      <td>1.28</td>\n",
       "      <td>25.45</td>\n",
       "      <td>26.71</td>\n",
       "      <td>25.4500</td>\n",
       "      <td>26.20</td>\n",
       "      <td>3.0</td>\n",
       "      <td>14</td>\n",
       "      <td>A</td>\n",
       "      <td>6201</td>\n",
       "      <td>American Airlines Group Inc</td>\n",
       "      <td>481111</td>\n",
       "      <td>4512</td>\n",
       "      <td>605.0</td>\n",
       "      <td>0</td>\n",
       "    </tr>\n",
       "    <tr>\n",
       "      <th>1500</th>\n",
       "      <td>1045</td>\n",
       "      <td>4</td>\n",
       "      <td>2013-12-13</td>\n",
       "      <td>AAL</td>\n",
       "      <td>02376R102</td>\n",
       "      <td>AMERICAN AIRLINES GROUP INC</td>\n",
       "      <td>NaN</td>\n",
       "      <td>NaN</td>\n",
       "      <td>NaN</td>\n",
       "      <td>NaN</td>\n",
       "      <td>USD</td>\n",
       "      <td>219297000.0</td>\n",
       "      <td>12189890.0</td>\n",
       "      <td>1.28</td>\n",
       "      <td>26.23</td>\n",
       "      <td>26.30</td>\n",
       "      <td>25.5201</td>\n",
       "      <td>25.61</td>\n",
       "      <td>3.0</td>\n",
       "      <td>14</td>\n",
       "      <td>A</td>\n",
       "      <td>6201</td>\n",
       "      <td>American Airlines Group Inc</td>\n",
       "      <td>481111</td>\n",
       "      <td>4512</td>\n",
       "      <td>605.0</td>\n",
       "      <td>0</td>\n",
       "    </tr>\n",
       "    <tr>\n",
       "      <th>...</th>\n",
       "      <td>...</td>\n",
       "      <td>...</td>\n",
       "      <td>...</td>\n",
       "      <td>...</td>\n",
       "      <td>...</td>\n",
       "      <td>...</td>\n",
       "      <td>...</td>\n",
       "      <td>...</td>\n",
       "      <td>...</td>\n",
       "      <td>...</td>\n",
       "      <td>...</td>\n",
       "      <td>...</td>\n",
       "      <td>...</td>\n",
       "      <td>...</td>\n",
       "      <td>...</td>\n",
       "      <td>...</td>\n",
       "      <td>...</td>\n",
       "      <td>...</td>\n",
       "      <td>...</td>\n",
       "      <td>...</td>\n",
       "      <td>...</td>\n",
       "      <td>...</td>\n",
       "      <td>...</td>\n",
       "      <td>...</td>\n",
       "      <td>...</td>\n",
       "      <td>...</td>\n",
       "      <td>...</td>\n",
       "    </tr>\n",
       "    <tr>\n",
       "      <th>3503</th>\n",
       "      <td>1045</td>\n",
       "      <td>4</td>\n",
       "      <td>2021-11-29</td>\n",
       "      <td>AAL</td>\n",
       "      <td>02376R102</td>\n",
       "      <td>AMERICAN AIRLINES GROUP INC</td>\n",
       "      <td>NaN</td>\n",
       "      <td>NaN</td>\n",
       "      <td>NaN</td>\n",
       "      <td>NaN</td>\n",
       "      <td>USD</td>\n",
       "      <td>647515000.0</td>\n",
       "      <td>42706490.0</td>\n",
       "      <td>-5.25</td>\n",
       "      <td>17.74</td>\n",
       "      <td>18.26</td>\n",
       "      <td>17.4200</td>\n",
       "      <td>18.15</td>\n",
       "      <td>3.0</td>\n",
       "      <td>14</td>\n",
       "      <td>A</td>\n",
       "      <td>6201</td>\n",
       "      <td>American Airlines Group Inc</td>\n",
       "      <td>481111</td>\n",
       "      <td>4512</td>\n",
       "      <td>605.0</td>\n",
       "      <td>0</td>\n",
       "    </tr>\n",
       "    <tr>\n",
       "      <th>3504</th>\n",
       "      <td>1045</td>\n",
       "      <td>4</td>\n",
       "      <td>2021-11-30</td>\n",
       "      <td>AAL</td>\n",
       "      <td>02376R102</td>\n",
       "      <td>AMERICAN AIRLINES GROUP INC</td>\n",
       "      <td>NaN</td>\n",
       "      <td>NaN</td>\n",
       "      <td>NaN</td>\n",
       "      <td>NaN</td>\n",
       "      <td>USD</td>\n",
       "      <td>647515000.0</td>\n",
       "      <td>49651400.0</td>\n",
       "      <td>-5.25</td>\n",
       "      <td>17.69</td>\n",
       "      <td>17.74</td>\n",
       "      <td>16.9200</td>\n",
       "      <td>17.44</td>\n",
       "      <td>3.0</td>\n",
       "      <td>14</td>\n",
       "      <td>A</td>\n",
       "      <td>6201</td>\n",
       "      <td>American Airlines Group Inc</td>\n",
       "      <td>481111</td>\n",
       "      <td>4512</td>\n",
       "      <td>605.0</td>\n",
       "      <td>0</td>\n",
       "    </tr>\n",
       "    <tr>\n",
       "      <th>3505</th>\n",
       "      <td>1045</td>\n",
       "      <td>4</td>\n",
       "      <td>2021-12-01</td>\n",
       "      <td>AAL</td>\n",
       "      <td>02376R102</td>\n",
       "      <td>AMERICAN AIRLINES GROUP INC</td>\n",
       "      <td>NaN</td>\n",
       "      <td>NaN</td>\n",
       "      <td>NaN</td>\n",
       "      <td>NaN</td>\n",
       "      <td>USD</td>\n",
       "      <td>647515000.0</td>\n",
       "      <td>81917470.0</td>\n",
       "      <td>-5.25</td>\n",
       "      <td>16.28</td>\n",
       "      <td>18.24</td>\n",
       "      <td>16.2600</td>\n",
       "      <td>17.94</td>\n",
       "      <td>3.0</td>\n",
       "      <td>14</td>\n",
       "      <td>A</td>\n",
       "      <td>6201</td>\n",
       "      <td>American Airlines Group Inc</td>\n",
       "      <td>481111</td>\n",
       "      <td>4512</td>\n",
       "      <td>605.0</td>\n",
       "      <td>0</td>\n",
       "    </tr>\n",
       "    <tr>\n",
       "      <th>3506</th>\n",
       "      <td>1045</td>\n",
       "      <td>4</td>\n",
       "      <td>2021-12-02</td>\n",
       "      <td>AAL</td>\n",
       "      <td>02376R102</td>\n",
       "      <td>AMERICAN AIRLINES GROUP INC</td>\n",
       "      <td>NaN</td>\n",
       "      <td>NaN</td>\n",
       "      <td>NaN</td>\n",
       "      <td>NaN</td>\n",
       "      <td>USD</td>\n",
       "      <td>647515000.0</td>\n",
       "      <td>58399490.0</td>\n",
       "      <td>-5.25</td>\n",
       "      <td>17.42</td>\n",
       "      <td>17.44</td>\n",
       "      <td>16.1500</td>\n",
       "      <td>16.49</td>\n",
       "      <td>3.0</td>\n",
       "      <td>14</td>\n",
       "      <td>A</td>\n",
       "      <td>6201</td>\n",
       "      <td>American Airlines Group Inc</td>\n",
       "      <td>481111</td>\n",
       "      <td>4512</td>\n",
       "      <td>605.0</td>\n",
       "      <td>0</td>\n",
       "    </tr>\n",
       "    <tr>\n",
       "      <th>3507</th>\n",
       "      <td>1045</td>\n",
       "      <td>4</td>\n",
       "      <td>2021-12-03</td>\n",
       "      <td>AAL</td>\n",
       "      <td>02376R102</td>\n",
       "      <td>AMERICAN AIRLINES GROUP INC</td>\n",
       "      <td>NaN</td>\n",
       "      <td>NaN</td>\n",
       "      <td>NaN</td>\n",
       "      <td>NaN</td>\n",
       "      <td>USD</td>\n",
       "      <td>647515000.0</td>\n",
       "      <td>57616730.0</td>\n",
       "      <td>-5.25</td>\n",
       "      <td>16.62</td>\n",
       "      <td>17.29</td>\n",
       "      <td>16.3400</td>\n",
       "      <td>17.27</td>\n",
       "      <td>3.0</td>\n",
       "      <td>14</td>\n",
       "      <td>A</td>\n",
       "      <td>6201</td>\n",
       "      <td>American Airlines Group Inc</td>\n",
       "      <td>481111</td>\n",
       "      <td>4512</td>\n",
       "      <td>605.0</td>\n",
       "      <td>0</td>\n",
       "    </tr>\n",
       "  </tbody>\n",
       "</table>\n",
       "<p>2012 rows × 27 columns</p>\n",
       "</div>"
      ],
      "text/plain": [
       "      gvkey  iid   datadate  tic      cusip                         conm  div  \\\n",
       "1496   1045    4 2013-12-09  AAL  02376R102  AMERICAN AIRLINES GROUP INC  NaN   \n",
       "1497   1045    4 2013-12-10  AAL  02376R102  AMERICAN AIRLINES GROUP INC  NaN   \n",
       "1498   1045    4 2013-12-11  AAL  02376R102  AMERICAN AIRLINES GROUP INC  NaN   \n",
       "1499   1045    4 2013-12-12  AAL  02376R102  AMERICAN AIRLINES GROUP INC  NaN   \n",
       "1500   1045    4 2013-12-13  AAL  02376R102  AMERICAN AIRLINES GROUP INC  NaN   \n",
       "...     ...  ...        ...  ...        ...                          ...  ...   \n",
       "3503   1045    4 2021-11-29  AAL  02376R102  AMERICAN AIRLINES GROUP INC  NaN   \n",
       "3504   1045    4 2021-11-30  AAL  02376R102  AMERICAN AIRLINES GROUP INC  NaN   \n",
       "3505   1045    4 2021-12-01  AAL  02376R102  AMERICAN AIRLINES GROUP INC  NaN   \n",
       "3506   1045    4 2021-12-02  AAL  02376R102  AMERICAN AIRLINES GROUP INC  NaN   \n",
       "3507   1045    4 2021-12-03  AAL  02376R102  AMERICAN AIRLINES GROUP INC  NaN   \n",
       "\n",
       "      divd  dvrated  divsppaydate curcdd        cshoc      cshtrd   eps  \\\n",
       "1496   NaN      NaN           NaN    USD  219297000.0  43167060.0   NaN   \n",
       "1497   NaN      NaN           NaN    USD  219297000.0  18648140.0   NaN   \n",
       "1498   NaN      NaN           NaN    USD  219297000.0  38584270.0   NaN   \n",
       "1499   NaN      NaN           NaN    USD  219297000.0  19977100.0  1.28   \n",
       "1500   NaN      NaN           NaN    USD  219297000.0  12189890.0  1.28   \n",
       "...    ...      ...           ...    ...          ...         ...   ...   \n",
       "3503   NaN      NaN           NaN    USD  647515000.0  42706490.0 -5.25   \n",
       "3504   NaN      NaN           NaN    USD  647515000.0  49651400.0 -5.25   \n",
       "3505   NaN      NaN           NaN    USD  647515000.0  81917470.0 -5.25   \n",
       "3506   NaN      NaN           NaN    USD  647515000.0  58399490.0 -5.25   \n",
       "3507   NaN      NaN           NaN    USD  647515000.0  57616730.0 -5.25   \n",
       "\n",
       "      prccd  prchd    prcld  prcod  prcstd  exchg secstat   cik  \\\n",
       "1496  24.60  25.44  23.4501  23.95     3.0     14       A  6201   \n",
       "1497  24.88  25.17  24.4100  24.54     3.0     14       A  6201   \n",
       "1498  25.99  27.20  25.3700  25.44     3.0     14       A  6201   \n",
       "1499  25.45  26.71  25.4500  26.20     3.0     14       A  6201   \n",
       "1500  26.23  26.30  25.5201  25.61     3.0     14       A  6201   \n",
       "...     ...    ...      ...    ...     ...    ...     ...   ...   \n",
       "3503  17.74  18.26  17.4200  18.15     3.0     14       A  6201   \n",
       "3504  17.69  17.74  16.9200  17.44     3.0     14       A  6201   \n",
       "3505  16.28  18.24  16.2600  17.94     3.0     14       A  6201   \n",
       "3506  17.42  17.44  16.1500  16.49     3.0     14       A  6201   \n",
       "3507  16.62  17.29  16.3400  17.27     3.0     14       A  6201   \n",
       "\n",
       "                            conml   naics   sic  spcindcd  stko  \n",
       "1496  American Airlines Group Inc  481111  4512     605.0     0  \n",
       "1497  American Airlines Group Inc  481111  4512     605.0     0  \n",
       "1498  American Airlines Group Inc  481111  4512     605.0     0  \n",
       "1499  American Airlines Group Inc  481111  4512     605.0     0  \n",
       "1500  American Airlines Group Inc  481111  4512     605.0     0  \n",
       "...                           ...     ...   ...       ...   ...  \n",
       "3503  American Airlines Group Inc  481111  4512     605.0     0  \n",
       "3504  American Airlines Group Inc  481111  4512     605.0     0  \n",
       "3505  American Airlines Group Inc  481111  4512     605.0     0  \n",
       "3506  American Airlines Group Inc  481111  4512     605.0     0  \n",
       "3507  American Airlines Group Inc  481111  4512     605.0     0  \n",
       "\n",
       "[2012 rows x 27 columns]"
      ]
     },
     "execution_count": 6,
     "metadata": {},
     "output_type": "execute_result"
    }
   ],
   "source": [
    "# price trend f closed daily or whole timeframe for american airlines\n",
    "df_aag = df_sp[df_sp[\"conm\"]==\"AMERICAN AIRLINES GROUP INC\"]\n",
    "df_aag=df_aag[df_aag[\"tic\"]==\"AAL\"]\n",
    "df_aag"
   ]
  },
  {
   "cell_type": "code",
   "execution_count": 7,
   "id": "f5784b32",
   "metadata": {},
   "outputs": [
    {
     "data": {
      "text/plain": [
       "array(['AAL'], dtype=object)"
      ]
     },
     "execution_count": 7,
     "metadata": {},
     "output_type": "execute_result"
    }
   ],
   "source": [
    "df_aag[\"tic\"].unique()"
   ]
  },
  {
   "cell_type": "code",
   "execution_count": 8,
   "id": "32d9cb79",
   "metadata": {},
   "outputs": [
    {
     "data": {
      "image/png": "[encoded data removed]",
      "text/plain": [
       "<Figure size 432x288 with 1 Axes>"
      ]
     },
     "metadata": {
      "needs_background": "light"
     },
     "output_type": "display_data"
    }
   ],
   "source": [
    "plt.plot(df_aag[\"datadate\"], df_aag[\"prccd\"])\n",
    "plt.show()"
   ]
  },
  {
   "cell_type": "code",
   "execution_count": 9,
   "id": "35711bf9",
   "metadata": {},
   "outputs": [
    {
     "data": {
      "text/plain": [
       "False"
      ]
     },
     "execution_count": 9,
     "metadata": {},
     "output_type": "execute_result"
    }
   ],
   "source": [
    "df_aag[\"prccd\"].isnull().values.any()"
   ]
  },
  {
   "cell_type": "markdown",
   "id": "1c78ae36",
   "metadata": {},
   "source": [
    "# Simple Moving Average"
   ]
  },
  {
   "cell_type": "code",
   "execution_count": 10,
   "id": "353e21c9",
   "metadata": {},
   "outputs": [],
   "source": [
    "df_aag[\"moving_average_200\"] = df_aag[[\"prccd\"]].rolling(window=200).mean()\n",
    "df_aag[\"moving_average_90\"] = df_aag[[\"prccd\"]].rolling(window=90).mean()\n",
    "df_aag[\"moving_average_30\"] = df_aag[[\"prccd\"]].rolling(window=30).mean()\n",
    "df_aag[\"moving_average_14\"] = df_aag[[\"prccd\"]].rolling(window=14).mean()\n",
    "df_aag[\"moving_average_7\"] = df_aag[[\"prccd\"]].rolling(window=7).mean()"
   ]
  },
  {
   "cell_type": "code",
   "execution_count": 11,
   "id": "660ce5f9",
   "metadata": {},
   "outputs": [
    {
     "data": {
      "image/png": "[encoded data removed]",
      "text/plain": [
       "<Figure size 432x288 with 1 Axes>"
      ]
     },
     "metadata": {
      "needs_background": "light"
     },
     "output_type": "display_data"
    }
   ],
   "source": [
    "plt.plot(df_aag[\"datadate\"], df_aag[\"prccd\"])\n",
    "# plt.plot(df_aag[\"datadate\"], df_aag[\"moving_average_200\"], color=\"red\")\n",
    "# plt.plot(df_aag[\"datadate\"], df_aag[\"moving_average_90\"], color=\"red\")\n",
    "# plt.plot(df_aag[\"datadate\"], df_aag[\"moving_average_30\"], color=\"red\")\n",
    "plt.plot(df_aag[\"datadate\"], df_aag[\"moving_average_14\"], color=\"red\")\n",
    "# plt.plot(df_aag[\"datadate\"], df_aag[\"moving_average_7\"], color=\"red\")\n",
    "plt.show()"
   ]
  },
  {
   "cell_type": "code",
   "execution_count": 12,
   "id": "ffd5b49a",
   "metadata": {},
   "outputs": [],
   "source": [
    "df_buy_signal = df_aag[[\"datadate\", \"prccd\", \"moving_average_200\"]].dropna().reset_index()"
   ]
  },
  {
   "cell_type": "code",
   "execution_count": 13,
   "id": "f4e54e2a",
   "metadata": {},
   "outputs": [
    {
     "data": {
      "text/plain": [
       "RangeIndex(start=0, stop=1813, step=1)"
      ]
     },
     "execution_count": 13,
     "metadata": {},
     "output_type": "execute_result"
    }
   ],
   "source": [
    "df_buy_signal.index"
   ]
  },
  {
   "cell_type": "code",
   "execution_count": 14,
   "id": "9caaca35",
   "metadata": {},
   "outputs": [
    {
     "data": {
      "text/html": [
       "<div>\n",
       "<style scoped>\n",
       "    .dataframe tbody tr th:only-of-type {\n",
       "        vertical-align: middle;\n",
       "    }\n",
       "\n",
       "    .dataframe tbody tr th {\n",
       "        vertical-align: top;\n",
       "    }\n",
       "\n",
       "    .dataframe thead th {\n",
       "        text-align: right;\n",
       "    }\n",
       "</style>\n",
       "<table border=\"1\" class=\"dataframe\">\n",
       "  <thead>\n",
       "    <tr style=\"text-align: right;\">\n",
       "      <th></th>\n",
       "      <th>index</th>\n",
       "      <th>datadate</th>\n",
       "      <th>prccd</th>\n",
       "      <th>moving_average_200</th>\n",
       "    </tr>\n",
       "  </thead>\n",
       "  <tbody>\n",
       "    <tr>\n",
       "      <th>0</th>\n",
       "      <td>1695</td>\n",
       "      <td>2014-09-24</td>\n",
       "      <td>36.12</td>\n",
       "      <td>36.611298</td>\n",
       "    </tr>\n",
       "    <tr>\n",
       "      <th>1</th>\n",
       "      <td>1696</td>\n",
       "      <td>2014-09-25</td>\n",
       "      <td>35.21</td>\n",
       "      <td>36.664348</td>\n",
       "    </tr>\n",
       "    <tr>\n",
       "      <th>2</th>\n",
       "      <td>1697</td>\n",
       "      <td>2014-09-26</td>\n",
       "      <td>35.93</td>\n",
       "      <td>36.719598</td>\n",
       "    </tr>\n",
       "    <tr>\n",
       "      <th>3</th>\n",
       "      <td>1698</td>\n",
       "      <td>2014-09-29</td>\n",
       "      <td>35.03</td>\n",
       "      <td>36.764798</td>\n",
       "    </tr>\n",
       "    <tr>\n",
       "      <th>4</th>\n",
       "      <td>1699</td>\n",
       "      <td>2014-09-30</td>\n",
       "      <td>35.48</td>\n",
       "      <td>36.814948</td>\n",
       "    </tr>\n",
       "    <tr>\n",
       "      <th>...</th>\n",
       "      <td>...</td>\n",
       "      <td>...</td>\n",
       "      <td>...</td>\n",
       "      <td>...</td>\n",
       "    </tr>\n",
       "    <tr>\n",
       "      <th>1808</th>\n",
       "      <td>3503</td>\n",
       "      <td>2021-11-29</td>\n",
       "      <td>17.74</td>\n",
       "      <td>21.236400</td>\n",
       "    </tr>\n",
       "    <tr>\n",
       "      <th>1809</th>\n",
       "      <td>3504</td>\n",
       "      <td>2021-11-30</td>\n",
       "      <td>17.69</td>\n",
       "      <td>21.235750</td>\n",
       "    </tr>\n",
       "    <tr>\n",
       "      <th>1810</th>\n",
       "      <td>3505</td>\n",
       "      <td>2021-12-01</td>\n",
       "      <td>16.28</td>\n",
       "      <td>21.227200</td>\n",
       "    </tr>\n",
       "    <tr>\n",
       "      <th>1811</th>\n",
       "      <td>3506</td>\n",
       "      <td>2021-12-02</td>\n",
       "      <td>17.42</td>\n",
       "      <td>21.225750</td>\n",
       "    </tr>\n",
       "    <tr>\n",
       "      <th>1812</th>\n",
       "      <td>3507</td>\n",
       "      <td>2021-12-03</td>\n",
       "      <td>16.62</td>\n",
       "      <td>21.215450</td>\n",
       "    </tr>\n",
       "  </tbody>\n",
       "</table>\n",
       "<p>1813 rows × 4 columns</p>\n",
       "</div>"
      ],
      "text/plain": [
       "      index   datadate  prccd  moving_average_200\n",
       "0      1695 2014-09-24  36.12           36.611298\n",
       "1      1696 2014-09-25  35.21           36.664348\n",
       "2      1697 2014-09-26  35.93           36.719598\n",
       "3      1698 2014-09-29  35.03           36.764798\n",
       "4      1699 2014-09-30  35.48           36.814948\n",
       "...     ...        ...    ...                 ...\n",
       "1808   3503 2021-11-29  17.74           21.236400\n",
       "1809   3504 2021-11-30  17.69           21.235750\n",
       "1810   3505 2021-12-01  16.28           21.227200\n",
       "1811   3506 2021-12-02  17.42           21.225750\n",
       "1812   3507 2021-12-03  16.62           21.215450\n",
       "\n",
       "[1813 rows x 4 columns]"
      ]
     },
     "execution_count": 14,
     "metadata": {},
     "output_type": "execute_result"
    }
   ],
   "source": [
    "df_buy_signal"
   ]
  },
  {
   "cell_type": "code",
   "execution_count": 15,
   "id": "62696f19",
   "metadata": {},
   "outputs": [
    {
     "name": "stdout",
     "output_type": "stream",
     "text": [
      "21.08\n"
     ]
    }
   ],
   "source": [
    "print(df_buy_signal.iloc[1702][\"prccd\"])"
   ]
  },
  {
   "cell_type": "code",
   "execution_count": 16,
   "id": "324ceffb",
   "metadata": {},
   "outputs": [
    {
     "data": {
      "text/plain": [
       "True"
      ]
     },
     "execution_count": 16,
     "metadata": {},
     "output_type": "execute_result"
    }
   ],
   "source": [
    "df_buy_signal.iloc[1702][\"prccd\"] > df_buy_signal.iloc[1702][\"moving_average_200\"]"
   ]
  },
  {
   "cell_type": "code",
   "execution_count": 17,
   "id": "89554e20",
   "metadata": {},
   "outputs": [
    {
     "data": {
      "text/plain": [
       "RangeIndex(start=0, stop=1813, step=1)"
      ]
     },
     "execution_count": 17,
     "metadata": {},
     "output_type": "execute_result"
    }
   ],
   "source": [
    "df_buy_signal.index"
   ]
  },
  {
   "cell_type": "code",
   "execution_count": 18,
   "id": "c5e0acb2",
   "metadata": {},
   "outputs": [],
   "source": [
    "# determine all buy signals\n",
    "\n",
    "list = []\n",
    "\n",
    "for i in df_buy_signal.index:\n",
    "    \n",
    "    if i-1 in df_buy_signal.index:\n",
    "        \n",
    "        # Signal, when the price crosses the sma from below, i.e. the price was below the sma the day before and is now above the sma\n",
    "        \n",
    "        if ((df_buy_signal.iloc[i][\"prccd\"] > df_buy_signal.iloc[i][\"moving_average_200\"]) & (df_buy_signal.iloc[i-1][\"prccd\"] < df_buy_signal.iloc[i][\"moving_average_200\"])):\n",
    "            \n",
    "            list.append(df_buy_signal.iloc[i][\"prccd\"])\n",
    "            \n",
    "        else:\n",
    "            \n",
    "            list.append(None)\n",
    "\n",
    "list.append(None)"
   ]
  },
  {
   "cell_type": "code",
   "execution_count": 19,
   "id": "2c0dceec",
   "metadata": {},
   "outputs": [],
   "source": [
    "df_buy_signal[\"signal\"] = list"
   ]
  },
  {
   "cell_type": "code",
   "execution_count": 20,
   "id": "c02c278a",
   "metadata": {},
   "outputs": [
    {
     "data": {
      "text/plain": [
       "27"
      ]
     },
     "execution_count": 20,
     "metadata": {},
     "output_type": "execute_result"
    }
   ],
   "source": [
    "len(df_buy_signal[\"signal\"].dropna())"
   ]
  },
  {
   "cell_type": "code",
   "execution_count": 21,
   "id": "0902649e",
   "metadata": {
    "scrolled": true
   },
   "outputs": [
    {
     "data": {
      "image/png": "[encoded data removed]",
      "text/plain": [
       "<Figure size 432x288 with 1 Axes>"
      ]
     },
     "metadata": {
      "needs_background": "light"
     },
     "output_type": "display_data"
    }
   ],
   "source": [
    "plt.plot(df_buy_signal[\"datadate\"], df_buy_signal[\"prccd\"])\n",
    "plt.plot(df_buy_signal[\"datadate\"], df_buy_signal[\"moving_average_200\"], color=\"red\")\n",
    "plt.scatter(df_buy_signal[\"datadate\"], df_buy_signal[\"signal\"], color=\"green\", marker=\"x\")\n",
    "plt.show()"
   ]
  },
  {
   "cell_type": "markdown",
   "id": "fc3715cb",
   "metadata": {},
   "source": [
    "# Bollinger Bands\n",
    "\n",
    "Source: https://www.learnpythonwithrune.org/pandas-calculate-and-plot-the-bollinger-bands-for-a-stock/"
   ]
  },
  {
   "cell_type": "code",
   "execution_count": 22,
   "id": "9795c858",
   "metadata": {},
   "outputs": [],
   "source": [
    "df_bb = df_aag[[\"datadate\", \"prcod\", \"prccd\", \"prchd\", \"prcld\"]].dropna().reset_index()"
   ]
  },
  {
   "cell_type": "code",
   "execution_count": 23,
   "id": "01abdad8",
   "metadata": {},
   "outputs": [],
   "source": [
    "interval = 200\n",
    "df_bb\n",
    "df_bb['TP'] = (df_bb['prccd'] + df_bb['prcld'] + df_bb['prchd'])/3\n",
    "df_bb['std'] = df_bb['TP'].rolling(interval).std(ddof=0)\n",
    "df_bb['MA-TP'] = df_bb['TP'].rolling(interval).mean()\n",
    "df_bb['BOLU'] = df_bb['MA-TP'] + 2*df_bb['std']\n",
    "df_bb['BOLD'] = df_bb['MA-TP'] - 2*df_bb['std']\n",
    "df_bb.dropna(inplace=True)"
   ]
  },
  {
   "cell_type": "code",
   "execution_count": 24,
   "id": "48766deb",
   "metadata": {},
   "outputs": [
    {
     "data": {
      "image/png": "[encoded data removed]",
      "text/plain": [
       "<Figure size 432x288 with 1 Axes>"
      ]
     },
     "metadata": {
      "needs_background": "light"
     },
     "output_type": "display_data"
    }
   ],
   "source": [
    "ax = df_bb[['prccd', 'BOLU', 'BOLD']].plot(color=['blue', 'orange', 'yellow'])\n",
    "ax.fill_between(df_bb.index, df_bb['BOLD'], df_bb['BOLU'], facecolor='orange', alpha=0.1)\n",
    "plt.show()\n",
    "# TODO: Index anpassen ist bisher nur ein Integer, Datetime wäre besser"
   ]
  },
  {
   "cell_type": "markdown",
   "id": "aef71fc0",
   "metadata": {},
   "source": [
    "# Calculating Returns"
   ]
  },
  {
   "cell_type": "code",
   "execution_count": 25,
   "id": "63443f52",
   "metadata": {},
   "outputs": [],
   "source": [
    "def net_return(df, ticker, date_buy, date_sell):\n",
    "    \n",
    "    course = \"prco\"\n",
    "    \n",
    "    price_buy = df_sp[(df_sp[\"tic\"] == ticker) & (df_sp[\"datadate\"] == date_buy)][\"prcod\"].values[0]\n",
    "    \n",
    "    price_sell = df_sp[(df_sp[\"tic\"] == ticker) & (df_sp[\"datadate\"] == date_sell)][\"prcod\"].values[0]\n",
    "    \n",
    "    return price_sell - price_buy"
   ]
  },
  {
   "cell_type": "code",
   "execution_count": 26,
   "id": "370012c0",
   "metadata": {},
   "outputs": [
    {
     "data": {
      "text/plain": [
       "17.44"
      ]
     },
     "execution_count": 26,
     "metadata": {},
     "output_type": "execute_result"
    }
   ],
   "source": [
    "df_sp[(df_sp[\"tic\"] == \"AAL\") & (df_sp[\"datadate\"] == \"2021-11-30\")][\"prcod\"].values[0]"
   ]
  },
  {
   "cell_type": "code",
   "execution_count": 27,
   "id": "50eb42d2",
   "metadata": {},
   "outputs": [
    {
     "data": {
      "text/plain": [
       "-2.9599999999999973"
      ]
     },
     "execution_count": 27,
     "metadata": {},
     "output_type": "execute_result"
    }
   ],
   "source": [
    "net_return(df_sp, \"AAL\", \"2021-11-15\", \"2021-11-30\")"
   ]
  },
  {
   "cell_type": "markdown",
   "id": "5c22a962",
   "metadata": {},
   "source": [
    "# Returns on given rulset"
   ]
  },
  {
   "cell_type": "code",
   "execution_count": 28,
   "id": "bf9cad20",
   "metadata": {},
   "outputs": [
    {
     "data": {
      "text/html": [
       "<div>\n",
       "<style scoped>\n",
       "    .dataframe tbody tr th:only-of-type {\n",
       "        vertical-align: middle;\n",
       "    }\n",
       "\n",
       "    .dataframe tbody tr th {\n",
       "        vertical-align: top;\n",
       "    }\n",
       "\n",
       "    .dataframe thead th {\n",
       "        text-align: right;\n",
       "    }\n",
       "</style>\n",
       "<table border=\"1\" class=\"dataframe\">\n",
       "  <thead>\n",
       "    <tr style=\"text-align: right;\">\n",
       "      <th></th>\n",
       "      <th>index</th>\n",
       "      <th>datadate</th>\n",
       "      <th>prccd</th>\n",
       "      <th>moving_average_200</th>\n",
       "      <th>signal</th>\n",
       "    </tr>\n",
       "  </thead>\n",
       "  <tbody>\n",
       "    <tr>\n",
       "      <th>0</th>\n",
       "      <td>1695</td>\n",
       "      <td>2014-09-24</td>\n",
       "      <td>36.12</td>\n",
       "      <td>36.611298</td>\n",
       "      <td>NaN</td>\n",
       "    </tr>\n",
       "    <tr>\n",
       "      <th>1</th>\n",
       "      <td>1696</td>\n",
       "      <td>2014-09-25</td>\n",
       "      <td>35.21</td>\n",
       "      <td>36.664348</td>\n",
       "      <td>NaN</td>\n",
       "    </tr>\n",
       "    <tr>\n",
       "      <th>2</th>\n",
       "      <td>1697</td>\n",
       "      <td>2014-09-26</td>\n",
       "      <td>35.93</td>\n",
       "      <td>36.719598</td>\n",
       "      <td>NaN</td>\n",
       "    </tr>\n",
       "    <tr>\n",
       "      <th>3</th>\n",
       "      <td>1698</td>\n",
       "      <td>2014-09-29</td>\n",
       "      <td>35.03</td>\n",
       "      <td>36.764798</td>\n",
       "      <td>NaN</td>\n",
       "    </tr>\n",
       "    <tr>\n",
       "      <th>4</th>\n",
       "      <td>1699</td>\n",
       "      <td>2014-09-30</td>\n",
       "      <td>35.48</td>\n",
       "      <td>36.814948</td>\n",
       "      <td>NaN</td>\n",
       "    </tr>\n",
       "    <tr>\n",
       "      <th>...</th>\n",
       "      <td>...</td>\n",
       "      <td>...</td>\n",
       "      <td>...</td>\n",
       "      <td>...</td>\n",
       "      <td>...</td>\n",
       "    </tr>\n",
       "    <tr>\n",
       "      <th>1808</th>\n",
       "      <td>3503</td>\n",
       "      <td>2021-11-29</td>\n",
       "      <td>17.74</td>\n",
       "      <td>21.236400</td>\n",
       "      <td>NaN</td>\n",
       "    </tr>\n",
       "    <tr>\n",
       "      <th>1809</th>\n",
       "      <td>3504</td>\n",
       "      <td>2021-11-30</td>\n",
       "      <td>17.69</td>\n",
       "      <td>21.235750</td>\n",
       "      <td>NaN</td>\n",
       "    </tr>\n",
       "    <tr>\n",
       "      <th>1810</th>\n",
       "      <td>3505</td>\n",
       "      <td>2021-12-01</td>\n",
       "      <td>16.28</td>\n",
       "      <td>21.227200</td>\n",
       "      <td>NaN</td>\n",
       "    </tr>\n",
       "    <tr>\n",
       "      <th>1811</th>\n",
       "      <td>3506</td>\n",
       "      <td>2021-12-02</td>\n",
       "      <td>17.42</td>\n",
       "      <td>21.225750</td>\n",
       "      <td>NaN</td>\n",
       "    </tr>\n",
       "    <tr>\n",
       "      <th>1812</th>\n",
       "      <td>3507</td>\n",
       "      <td>2021-12-03</td>\n",
       "      <td>16.62</td>\n",
       "      <td>21.215450</td>\n",
       "      <td>NaN</td>\n",
       "    </tr>\n",
       "  </tbody>\n",
       "</table>\n",
       "<p>1813 rows × 5 columns</p>\n",
       "</div>"
      ],
      "text/plain": [
       "      index   datadate  prccd  moving_average_200  signal\n",
       "0      1695 2014-09-24  36.12           36.611298     NaN\n",
       "1      1696 2014-09-25  35.21           36.664348     NaN\n",
       "2      1697 2014-09-26  35.93           36.719598     NaN\n",
       "3      1698 2014-09-29  35.03           36.764798     NaN\n",
       "4      1699 2014-09-30  35.48           36.814948     NaN\n",
       "...     ...        ...    ...                 ...     ...\n",
       "1808   3503 2021-11-29  17.74           21.236400     NaN\n",
       "1809   3504 2021-11-30  17.69           21.235750     NaN\n",
       "1810   3505 2021-12-01  16.28           21.227200     NaN\n",
       "1811   3506 2021-12-02  17.42           21.225750     NaN\n",
       "1812   3507 2021-12-03  16.62           21.215450     NaN\n",
       "\n",
       "[1813 rows x 5 columns]"
      ]
     },
     "execution_count": 28,
     "metadata": {},
     "output_type": "execute_result"
    }
   ],
   "source": [
    "df_buy_signal"
   ]
  },
  {
   "cell_type": "code",
   "execution_count": 46,
   "id": "78730710",
   "metadata": {},
   "outputs": [
    {
     "name": "stdout",
     "output_type": "stream",
     "text": [
      "False\n"
     ]
    }
   ],
   "source": [
    "list = []\n",
    "\n",
    "position = False\n",
    "\n",
    "total_return = 0\n",
    "\n",
    "for i in df_buy_signal.index:\n",
    "    \n",
    "    if i-1 in df_buy_signal.index:\n",
    "        \n",
    "        # Signal, when the price crosses the sma from below, i.e. the price was below the sma the day before and is now above the sma\n",
    "        if ((df_buy_signal.iloc[i][\"prccd\"] > df_buy_signal.iloc[i][\"moving_average_200\"]) &\n",
    "            (df_buy_signal.iloc[i-1][\"prccd\"] < df_buy_signal.iloc[i][\"moving_average_200\"]) &\n",
    "            (position == False)):\n",
    "            \n",
    "            position = True\n",
    "            \n",
    "            price_buy = df_buy_signal.iloc[i][\"prccd\"]\n",
    "            \n",
    "        elif(position == True):\n",
    "            \n",
    "            net_return = df_buy_signal.iloc[i][\"prccd\"] - price_buy\n",
    "            \n",
    "            # Close position if it makes 10 % loss or profit\n",
    "            if((net_return < -(0.1 * price_buy)) |\n",
    "               (net_return > (0.1 * price_buy))):\n",
    "                \n",
    "                position = False\n",
    "                \n",
    "                total_return += net_return\n",
    "                \n",
    "        list.append(total_return)\n",
    "\n",
    "list.append(total_return)\n",
    "\n",
    "print(position)"
   ]
  },
  {
   "cell_type": "code",
   "execution_count": 63,
   "id": "f604943a",
   "metadata": {},
   "outputs": [
    {
     "name": "stdout",
     "output_type": "stream",
     "text": [
      "Return using the 200 day moving average as indicator: -7.750000000000007\n"
     ]
    }
   ],
   "source": [
    "print(\"Return using the 200 day moving average as indicator: \" + str(list[len(list)-1]))"
   ]
  },
  {
   "cell_type": "code",
   "execution_count": 65,
   "id": "2616beb4",
   "metadata": {},
   "outputs": [
    {
     "name": "stdout",
     "output_type": "stream",
     "text": [
      "Return using a buy and hold approach: -19.499999999999996\n"
     ]
    }
   ],
   "source": [
    "print(\"Return using a buy and hold approach: \" + str(df_buy_signal.iloc[len(df_buy_signal)-1][\"prccd\"] - df_buy_signal.iloc[0][\"prccd\"]))"
   ]
  },
  {
   "cell_type": "code",
   "execution_count": 48,
   "id": "b6b368ec",
   "metadata": {},
   "outputs": [],
   "source": [
    "df_buy_signal[\"total_return\"] = list"
   ]
  },
  {
   "cell_type": "code",
   "execution_count": 49,
   "id": "ef5c7dde",
   "metadata": {},
   "outputs": [
    {
     "data": {
      "image/png": "[encoded data removed]",
      "text/plain": [
       "<Figure size 432x288 with 1 Axes>"
      ]
     },
     "metadata": {
      "needs_background": "light"
     },
     "output_type": "display_data"
    }
   ],
   "source": [
    "plt.plot(df_buy_signal[\"datadate\"], df_buy_signal[\"prccd\"])\n",
    "plt.plot(df_buy_signal[\"datadate\"], df_buy_signal[\"moving_average_200\"], color=\"red\")\n",
    "plt.scatter(df_buy_signal[\"datadate\"], df_buy_signal[\"signal\"], color=\"green\", marker=\"x\")\n",
    "plt.plot(df_buy_signal[\"datadate\"], df_buy_signal[\"total_return\"], color=\"orange\")\n",
    "plt.show()"
   ]
  }
 ],
 "metadata": {
  "kernelspec": {
   "display_name": "Python 3",
   "language": "python",
   "name": "python3"
  },
  "language_info": {
   "codemirror_mode": {
    "name": "ipython",
    "version": 3
   },
   "file_extension": ".py",
   "mimetype": "text/x-python",
   "name": "python",
   "nbconvert_exporter": "python",
   "pygments_lexer": "ipython3",
   "version": "3.8.10"
  }
 },
 "nbformat": 4,
 "nbformat_minor": 5
}
